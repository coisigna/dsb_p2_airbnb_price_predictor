{
 "cells": [
  {
   "cell_type": "code",
   "execution_count": 1,
   "id": "59156d4e",
   "metadata": {},
   "outputs": [],
   "source": [
    "import pandas as pd\n",
    "import numpy as np\n",
    "import re\n",
    "import seaborn as sns\n",
    "from sklearn.preprocessing import LabelEncoder\n",
    "import matplotlib.pyplot as plt\n",
    "from pprint import pprint\n",
    "import folium\n",
    "from sklearn.linear_model import LinearRegression\n",
    "from sklearn.model_selection import train_test_split\n",
    "from scipy import stats\n",
    "from sklearn.preprocessing import PowerTransformer"
   ]
  },
  {
   "cell_type": "code",
   "execution_count": 2,
   "id": "aab23190",
   "metadata": {},
   "outputs": [],
   "source": [
    "class airbnb_city:\n",
    "    \n",
    "    def __init__(self, csv):\n",
    "        \n",
    "        self.csv = csv\n",
    "                \n",
    "        self.df_city = pd.read_csv(self.csv)\n",
    "        \n",
    "        print(\"Instance created!\")\n",
    "        \n",
    "    def clean_columns(self):\n",
    "        \n",
    "        # Take only the relevant columns in the dataframe\n",
    "        \n",
    "        l_relevant_columns = [\"host_is_superhost\",\"neighbourhood_cleansed\",\"neighbourhood_group_cleansed\",\"property_type\",\"room_type\",\"accommodates\",\"bathrooms_text\",\"beds\",\"price\",\"minimum_nights\",\"maximum_nights\",\"availability_30\",\"availability_365\",\"number_of_reviews\",\"instant_bookable\", \"amenities\", \"host_verifications\"]\n",
    "\n",
    "        self.df_city = self.df_city[l_relevant_columns]\n",
    "        \n",
    "        self.df_city[\"bathrooms_text\"].replace(np.nan, \"?\", inplace = True)\n",
    "        \n",
    "        # Get numbers out of bathroom_text columns\n",
    "        \n",
    "        l_nums = [re.findall(r'\\d+',i) for i in self.df_city[\"bathrooms_text\"].values]\n",
    "\n",
    "        l_nums_completed = []\n",
    "\n",
    "        for i in l_nums:\n",
    "\n",
    "            if len(i) > 1:\n",
    "\n",
    "                l_nums_completed.append('.'.join(i))\n",
    "\n",
    "            elif len(i) == 0:\n",
    "\n",
    "                l_nums_completed.append('0')\n",
    "\n",
    "            else:\n",
    "\n",
    "                l_nums_completed.append(i[0])\n",
    "\n",
    "        # Separate categories from bathroom_text\n",
    "        \n",
    "        l_category = []\n",
    "\n",
    "        for i in self.df_city[\"bathrooms_text\"].values:\n",
    "\n",
    "            if \"shared\" in i:\n",
    "\n",
    "                l_category.append(\"Shared\")\n",
    "\n",
    "            elif \"private\" in i:\n",
    "\n",
    "                l_category.append(\"Private\")\n",
    "\n",
    "            else:\n",
    "\n",
    "                l_category.append(\"Unknown\")\n",
    "                \n",
    "        # Create two different columns replacing bathroom_text\n",
    "        \n",
    "        self.df_city.drop(\"bathrooms_text\", axis = 1, inplace = True)\n",
    "                \n",
    "        self.df_city[\"num_of_baths\"] = l_nums_completed\n",
    "        \n",
    "        self.df_city[\"bath_category\"] = l_category\n",
    "        \n",
    "        self.df_city[\"num_of_baths\"] = self.df_city[\"num_of_baths\"].astype(\"float64\")\n",
    "\n",
    "        # Column[\"prices\"]\n",
    "        \n",
    "        self.df_city[\"price\"]  = self.df_city[\"price\"] .apply(lambda x: float(x.strip(\"$\").replace(',', '')) if pd.notnull(x) else x)\n",
    "        \n",
    "        self.df_city[\"amenities\"] = [len(i) for i in self.df_city[\"amenities\"]]\n",
    "\n",
    "        self.df_city[\"host_verifications\"] = [len(i) for i in self.df_city[\"host_verifications\"]]\n",
    "        \n",
    "        \n",
    "        print(\"Dataframe sucessfully created!\")\n",
    "    \n",
    "    def label_encoding(self):\n",
    "        \n",
    "        self.df_city.dropna(inplace=True)\n",
    "        \n",
    "        # Encoding columns with dummies function\n",
    "        \n",
    "        def dummies(data, column):\n",
    "            return pd.get_dummies(data = data[column], drop_first=True)\n",
    "        \n",
    "        self.df_city[\"host_is_superhost\"] = dummies(self.df_city, \"host_is_superhost\")\n",
    "        self.df_city[\"instant_bookable\"] = dummies(self.df_city, \"instant_bookable\")\n",
    "        \n",
    "        df_room_type = dummies(self.df_city, \"room_type\")\n",
    "        df_bath_category = dummies(self.df_city, \"bath_category\")\n",
    "        df_bath_category = df_bath_category.rename(columns={'Shared': 'shared_bath', 'Unknown': 'unknoun_bath'})\n",
    "        \n",
    "        self.df_city = pd.concat([self.df_city, df_bath_category], axis = 1)\n",
    "\n",
    "        self.df_city = pd.concat([self.df_city, df_room_type], axis = 1)\n",
    "\n",
    "        self.df_city.drop(\"room_type\", axis = 1, inplace = True)\n",
    "\n",
    "        self.df_city.drop(\"bath_category\", axis = 1, inplace = True)\n",
    "        \n",
    "        # Encoding categorical columns with labelEncoding function\n",
    "        \n",
    "        l_columns_to_labelEncode = [\"neighbourhood_cleansed\", \"property_type\", \"neighbourhood_group_cleansed\"]\n",
    "        l_columns_encoded = list()\n",
    "\n",
    "        for i in l_columns_to_labelEncode:\n",
    "\n",
    "            # Inicializing object LabelEncoder()\n",
    "            o_labelEncoding = LabelEncoder()\n",
    "\n",
    "            # Training it with the column data\n",
    "            o_labelEncoding.fit(self.df_city[i].values)\n",
    "\n",
    "            # Transform the column\n",
    "            l_columns_encoded.append(o_labelEncoding.transform(self.df_city[i].values))\n",
    "\n",
    "        self.df_city[\"neighbourhood_cleansed\"] = l_columns_encoded[0]\n",
    "        self.df_city[\"property_type\"] = l_columns_encoded[1]\n",
    "        self.df_city[\"neighbourhood_group_cleansed\"] = l_columns_encoded[2]\n",
    "        \n",
    "        print(\"Dataframe sucessfully encoded!\")\n",
    "\n",
    "        \n",
    "    def return_df(self):\n",
    "    \n",
    "        return self.df_city\n",
    "    \n",
    "    def display_df(self):\n",
    "    \n",
    "        display(self.df_city)"
   ]
  },
  {
   "cell_type": "code",
   "execution_count": null,
   "id": "72bcb1ad",
   "metadata": {},
   "outputs": [],
   "source": [
    "madrid = airbnb_city(\"C:\\\\Users\\\\ignci\\\\OneDrive\\\\Escritorio\\\\Curso\\\\Coisigna\\\\dsb-p2-ml\\\\ipynbs\\datasets\\\\Madrid air bnb\\\\listings_detailed.csv\")"
   ]
  },
  {
   "cell_type": "code",
   "execution_count": 3,
   "id": "6f1c5212",
   "metadata": {},
   "outputs": [
    {
     "name": "stdout",
     "output_type": "stream",
     "text": [
      "Instance created!\n"
     ]
    }
   ],
   "source": [
    "madrid = airbnb_city(\"datasets/Madrid air bnb/listings_detailed.csv\")"
   ]
  },
  {
   "cell_type": "code",
   "execution_count": 4,
   "id": "d79e5f02",
   "metadata": {},
   "outputs": [],
   "source": [
    "df = madrid.return_df()"
   ]
  },
  {
   "cell_type": "code",
   "execution_count": 5,
   "id": "948ad4f4",
   "metadata": {
    "scrolled": true
   },
   "outputs": [
    {
     "data": {
      "text/plain": [
       "Index(['id', 'listing_url', 'scrape_id', 'last_scraped', 'name', 'description',\n",
       "       'neighborhood_overview', 'picture_url', 'host_id', 'host_url',\n",
       "       'host_name', 'host_since', 'host_location', 'host_about',\n",
       "       'host_response_time', 'host_response_rate', 'host_acceptance_rate',\n",
       "       'host_is_superhost', 'host_thumbnail_url', 'host_picture_url',\n",
       "       'host_neighbourhood', 'host_listings_count',\n",
       "       'host_total_listings_count', 'host_verifications',\n",
       "       'host_has_profile_pic', 'host_identity_verified', 'neighbourhood',\n",
       "       'neighbourhood_cleansed', 'neighbourhood_group_cleansed', 'latitude',\n",
       "       'longitude', 'property_type', 'room_type', 'accommodates', 'bathrooms',\n",
       "       'bathrooms_text', 'bedrooms', 'beds', 'amenities', 'price',\n",
       "       'minimum_nights', 'maximum_nights', 'minimum_minimum_nights',\n",
       "       'maximum_minimum_nights', 'minimum_maximum_nights',\n",
       "       'maximum_maximum_nights', 'minimum_nights_avg_ntm',\n",
       "       'maximum_nights_avg_ntm', 'calendar_updated', 'has_availability',\n",
       "       'availability_30', 'availability_60', 'availability_90',\n",
       "       'availability_365', 'calendar_last_scraped', 'number_of_reviews',\n",
       "       'number_of_reviews_ltm', 'number_of_reviews_l30d', 'first_review',\n",
       "       'last_review', 'review_scores_rating', 'review_scores_accuracy',\n",
       "       'review_scores_cleanliness', 'review_scores_checkin',\n",
       "       'review_scores_communication', 'review_scores_location',\n",
       "       'review_scores_value', 'license', 'instant_bookable',\n",
       "       'calculated_host_listings_count',\n",
       "       'calculated_host_listings_count_entire_homes',\n",
       "       'calculated_host_listings_count_private_rooms',\n",
       "       'calculated_host_listings_count_shared_rooms', 'reviews_per_month'],\n",
       "      dtype='object')"
      ]
     },
     "execution_count": 5,
     "metadata": {},
     "output_type": "execute_result"
    }
   ],
   "source": [
    "df.columns"
   ]
  },
  {
   "cell_type": "markdown",
   "id": "a575fb2a",
   "metadata": {},
   "source": [
    "# R**2 = 0.43"
   ]
  },
  {
   "cell_type": "code",
   "execution_count": null,
   "id": "c219a291",
   "metadata": {},
   "outputs": [],
   "source": [
    "df_columns_chosen = df[[\"host_id\", \"neighbourhood_group_cleansed\", \"latitude\", \"longitude\", \"room_type\",\"accommodates\", \"price\",\"minimum_nights\",\"availability_365\",\"number_of_reviews\",\"calculated_host_listings_count\", \"reviews_per_month\"]]"
   ]
  },
  {
   "cell_type": "markdown",
   "id": "10803e41",
   "metadata": {},
   "source": [
    "# R**2 = 0.25"
   ]
  },
  {
   "cell_type": "code",
   "execution_count": null,
   "id": "b4e08d66",
   "metadata": {},
   "outputs": [],
   "source": [
    "df_columns_chosen = df[[\"neighbourhood_group_cleansed\",\"accommodates\", \"price\",\"minimum_nights\",\"availability_365\",\"number_of_reviews\",\"calculated_host_listings_count\", \"reviews_per_month\"]]"
   ]
  },
  {
   "cell_type": "markdown",
   "id": "f56fd09a",
   "metadata": {},
   "source": [
    "# Markdown reserved"
   ]
  },
  {
   "cell_type": "code",
   "execution_count": 6,
   "id": "a9ea8dc2",
   "metadata": {},
   "outputs": [],
   "source": [
    "df_columns_chosen = df[[\"neighbourhood_group_cleansed\",\"property_type\",\"latitude\",\"longitude\",\"accommodates\", \"price\",\"minimum_nights\",\"availability_365\",\"number_of_reviews\",\"calculated_host_listings_count\", \"reviews_per_month\"]]"
   ]
  },
  {
   "cell_type": "markdown",
   "id": "2aacf41e",
   "metadata": {},
   "source": [
    "# Markdown reserved"
   ]
  },
  {
   "cell_type": "code",
   "execution_count": null,
   "id": "7d6c47cf",
   "metadata": {},
   "outputs": [],
   "source": []
  },
  {
   "cell_type": "markdown",
   "id": "d3200007",
   "metadata": {},
   "source": [
    "# Markdown reserved"
   ]
  },
  {
   "cell_type": "code",
   "execution_count": null,
   "id": "5ae0fab1",
   "metadata": {},
   "outputs": [],
   "source": []
  },
  {
   "cell_type": "markdown",
   "id": "0b82a0f9",
   "metadata": {},
   "source": [
    "# Markdown reserved"
   ]
  },
  {
   "cell_type": "code",
   "execution_count": null,
   "id": "ac7cea96",
   "metadata": {},
   "outputs": [],
   "source": []
  },
  {
   "cell_type": "code",
   "execution_count": 7,
   "id": "a0a8653c",
   "metadata": {},
   "outputs": [
    {
     "data": {
      "text/html": [
       "<div>\n",
       "<style scoped>\n",
       "    .dataframe tbody tr th:only-of-type {\n",
       "        vertical-align: middle;\n",
       "    }\n",
       "\n",
       "    .dataframe tbody tr th {\n",
       "        vertical-align: top;\n",
       "    }\n",
       "\n",
       "    .dataframe thead th {\n",
       "        text-align: right;\n",
       "    }\n",
       "</style>\n",
       "<table border=\"1\" class=\"dataframe\">\n",
       "  <thead>\n",
       "    <tr style=\"text-align: right;\">\n",
       "      <th></th>\n",
       "      <th>neighbourhood_group_cleansed</th>\n",
       "      <th>property_type</th>\n",
       "      <th>latitude</th>\n",
       "      <th>longitude</th>\n",
       "      <th>accommodates</th>\n",
       "      <th>price</th>\n",
       "      <th>minimum_nights</th>\n",
       "      <th>availability_365</th>\n",
       "      <th>number_of_reviews</th>\n",
       "      <th>calculated_host_listings_count</th>\n",
       "      <th>reviews_per_month</th>\n",
       "    </tr>\n",
       "  </thead>\n",
       "  <tbody>\n",
       "    <tr>\n",
       "      <th>0</th>\n",
       "      <td>Chamartín</td>\n",
       "      <td>Private room in apartment</td>\n",
       "      <td>40.45724</td>\n",
       "      <td>-3.67688</td>\n",
       "      <td>2</td>\n",
       "      <td>$60.00</td>\n",
       "      <td>1</td>\n",
       "      <td>180</td>\n",
       "      <td>78</td>\n",
       "      <td>1</td>\n",
       "      <td>0.58</td>\n",
       "    </tr>\n",
       "    <tr>\n",
       "      <th>1</th>\n",
       "      <td>Latina</td>\n",
       "      <td>Private room in apartment</td>\n",
       "      <td>40.40381</td>\n",
       "      <td>-3.74130</td>\n",
       "      <td>1</td>\n",
       "      <td>$31.00</td>\n",
       "      <td>4</td>\n",
       "      <td>364</td>\n",
       "      <td>33</td>\n",
       "      <td>2</td>\n",
       "      <td>0.42</td>\n",
       "    </tr>\n",
       "    <tr>\n",
       "      <th>2</th>\n",
       "      <td>Arganzuela</td>\n",
       "      <td>Entire apartment</td>\n",
       "      <td>40.38840</td>\n",
       "      <td>-3.69511</td>\n",
       "      <td>6</td>\n",
       "      <td>$50.00</td>\n",
       "      <td>15</td>\n",
       "      <td>1</td>\n",
       "      <td>0</td>\n",
       "      <td>7</td>\n",
       "      <td>NaN</td>\n",
       "    </tr>\n",
       "    <tr>\n",
       "      <th>3</th>\n",
       "      <td>Centro</td>\n",
       "      <td>Entire apartment</td>\n",
       "      <td>40.42183</td>\n",
       "      <td>-3.70529</td>\n",
       "      <td>3</td>\n",
       "      <td>$92.00</td>\n",
       "      <td>5</td>\n",
       "      <td>72</td>\n",
       "      <td>10</td>\n",
       "      <td>1</td>\n",
       "      <td>0.13</td>\n",
       "    </tr>\n",
       "    <tr>\n",
       "      <th>4</th>\n",
       "      <td>Arganzuela</td>\n",
       "      <td>Private room in house</td>\n",
       "      <td>40.38975</td>\n",
       "      <td>-3.69018</td>\n",
       "      <td>1</td>\n",
       "      <td>$26.00</td>\n",
       "      <td>2</td>\n",
       "      <td>365</td>\n",
       "      <td>149</td>\n",
       "      <td>1</td>\n",
       "      <td>1.12</td>\n",
       "    </tr>\n",
       "    <tr>\n",
       "      <th>...</th>\n",
       "      <td>...</td>\n",
       "      <td>...</td>\n",
       "      <td>...</td>\n",
       "      <td>...</td>\n",
       "      <td>...</td>\n",
       "      <td>...</td>\n",
       "      <td>...</td>\n",
       "      <td>...</td>\n",
       "      <td>...</td>\n",
       "      <td>...</td>\n",
       "      <td>...</td>\n",
       "    </tr>\n",
       "    <tr>\n",
       "      <th>19613</th>\n",
       "      <td>Centro</td>\n",
       "      <td>Private room in apartment</td>\n",
       "      <td>40.40756</td>\n",
       "      <td>-3.69937</td>\n",
       "      <td>1</td>\n",
       "      <td>$23.00</td>\n",
       "      <td>30</td>\n",
       "      <td>349</td>\n",
       "      <td>0</td>\n",
       "      <td>8</td>\n",
       "      <td>NaN</td>\n",
       "    </tr>\n",
       "    <tr>\n",
       "      <th>19614</th>\n",
       "      <td>Chamberí</td>\n",
       "      <td>Private room in apartment</td>\n",
       "      <td>40.43706</td>\n",
       "      <td>-3.71364</td>\n",
       "      <td>1</td>\n",
       "      <td>$21.00</td>\n",
       "      <td>30</td>\n",
       "      <td>350</td>\n",
       "      <td>0</td>\n",
       "      <td>8</td>\n",
       "      <td>NaN</td>\n",
       "    </tr>\n",
       "    <tr>\n",
       "      <th>19615</th>\n",
       "      <td>Chamberí</td>\n",
       "      <td>Private room in apartment</td>\n",
       "      <td>40.43857</td>\n",
       "      <td>-3.70715</td>\n",
       "      <td>1</td>\n",
       "      <td>$22.00</td>\n",
       "      <td>7</td>\n",
       "      <td>364</td>\n",
       "      <td>0</td>\n",
       "      <td>8</td>\n",
       "      <td>NaN</td>\n",
       "    </tr>\n",
       "    <tr>\n",
       "      <th>19616</th>\n",
       "      <td>Salamanca</td>\n",
       "      <td>Private room in apartment</td>\n",
       "      <td>40.43027</td>\n",
       "      <td>-3.66759</td>\n",
       "      <td>1</td>\n",
       "      <td>$19.00</td>\n",
       "      <td>30</td>\n",
       "      <td>349</td>\n",
       "      <td>0</td>\n",
       "      <td>8</td>\n",
       "      <td>NaN</td>\n",
       "    </tr>\n",
       "    <tr>\n",
       "      <th>19617</th>\n",
       "      <td>Chamberí</td>\n",
       "      <td>Private room in apartment</td>\n",
       "      <td>40.43484</td>\n",
       "      <td>-3.70667</td>\n",
       "      <td>1</td>\n",
       "      <td>$20.00</td>\n",
       "      <td>30</td>\n",
       "      <td>349</td>\n",
       "      <td>0</td>\n",
       "      <td>8</td>\n",
       "      <td>NaN</td>\n",
       "    </tr>\n",
       "  </tbody>\n",
       "</table>\n",
       "<p>19618 rows × 11 columns</p>\n",
       "</div>"
      ],
      "text/plain": [
       "      neighbourhood_group_cleansed              property_type  latitude  \\\n",
       "0                        Chamartín  Private room in apartment  40.45724   \n",
       "1                           Latina  Private room in apartment  40.40381   \n",
       "2                       Arganzuela           Entire apartment  40.38840   \n",
       "3                           Centro           Entire apartment  40.42183   \n",
       "4                       Arganzuela      Private room in house  40.38975   \n",
       "...                            ...                        ...       ...   \n",
       "19613                       Centro  Private room in apartment  40.40756   \n",
       "19614                     Chamberí  Private room in apartment  40.43706   \n",
       "19615                     Chamberí  Private room in apartment  40.43857   \n",
       "19616                    Salamanca  Private room in apartment  40.43027   \n",
       "19617                     Chamberí  Private room in apartment  40.43484   \n",
       "\n",
       "       longitude  accommodates   price  minimum_nights  availability_365  \\\n",
       "0       -3.67688             2  $60.00               1               180   \n",
       "1       -3.74130             1  $31.00               4               364   \n",
       "2       -3.69511             6  $50.00              15                 1   \n",
       "3       -3.70529             3  $92.00               5                72   \n",
       "4       -3.69018             1  $26.00               2               365   \n",
       "...          ...           ...     ...             ...               ...   \n",
       "19613   -3.69937             1  $23.00              30               349   \n",
       "19614   -3.71364             1  $21.00              30               350   \n",
       "19615   -3.70715             1  $22.00               7               364   \n",
       "19616   -3.66759             1  $19.00              30               349   \n",
       "19617   -3.70667             1  $20.00              30               349   \n",
       "\n",
       "       number_of_reviews  calculated_host_listings_count  reviews_per_month  \n",
       "0                     78                               1               0.58  \n",
       "1                     33                               2               0.42  \n",
       "2                      0                               7                NaN  \n",
       "3                     10                               1               0.13  \n",
       "4                    149                               1               1.12  \n",
       "...                  ...                             ...                ...  \n",
       "19613                  0                               8                NaN  \n",
       "19614                  0                               8                NaN  \n",
       "19615                  0                               8                NaN  \n",
       "19616                  0                               8                NaN  \n",
       "19617                  0                               8                NaN  \n",
       "\n",
       "[19618 rows x 11 columns]"
      ]
     },
     "execution_count": 7,
     "metadata": {},
     "output_type": "execute_result"
    }
   ],
   "source": [
    "df_columns_chosen"
   ]
  },
  {
   "cell_type": "code",
   "execution_count": 8,
   "id": "3d4ee45e",
   "metadata": {},
   "outputs": [],
   "source": [
    "df_columns_chosen = df_columns_chosen.dropna()"
   ]
  },
  {
   "cell_type": "code",
   "execution_count": 27,
   "id": "75b3d3e9",
   "metadata": {},
   "outputs": [],
   "source": [
    "df_columns_chosen.reset_index(drop = True, inplace = True)"
   ]
  },
  {
   "cell_type": "code",
   "execution_count": 10,
   "id": "a5a4c757",
   "metadata": {},
   "outputs": [
    {
     "data": {
      "text/plain": [
       "0        $60.00\n",
       "1        $31.00\n",
       "3        $92.00\n",
       "4        $26.00\n",
       "5        $85.00\n",
       "          ...  \n",
       "19494    $44.00\n",
       "19499    $37.00\n",
       "19500    $70.00\n",
       "19501    $47.00\n",
       "19532    $70.00\n",
       "Name: price, Length: 13981, dtype: object"
      ]
     },
     "execution_count": 10,
     "metadata": {},
     "output_type": "execute_result"
    }
   ],
   "source": [
    "df_columns_chosen[\"price\"]"
   ]
  },
  {
   "cell_type": "code",
   "execution_count": 11,
   "id": "22976a8f",
   "metadata": {},
   "outputs": [
    {
     "name": "stderr",
     "output_type": "stream",
     "text": [
      "/var/folders/10/5nbnv2696vlgb605wf3g6wwh0000gn/T/ipykernel_6311/1023210409.py:1: SettingWithCopyWarning: \n",
      "A value is trying to be set on a copy of a slice from a DataFrame.\n",
      "Try using .loc[row_indexer,col_indexer] = value instead\n",
      "\n",
      "See the caveats in the documentation: https://pandas.pydata.org/pandas-docs/stable/user_guide/indexing.html#returning-a-view-versus-a-copy\n",
      "  df_columns_chosen[\"price\"] = df_columns_chosen[\"price\"].apply(lambda x: float(x.strip(\"$\").replace(',', '')) if pd.notnull(x) else x).values\n"
     ]
    }
   ],
   "source": [
    "df_columns_chosen[\"price\"] = df_columns_chosen[\"price\"].apply(lambda x: float(x.strip(\"$\").replace(',', '')) if pd.notnull(x) else x).values"
   ]
  },
  {
   "cell_type": "code",
   "execution_count": 21,
   "id": "71c9479e",
   "metadata": {
    "scrolled": true
   },
   "outputs": [
    {
     "data": {
      "text/plain": [
       "Counter({'Private room in apartment': 3859,\n",
       "         'Entire apartment': 7523,\n",
       "         'Private room in house': 477,\n",
       "         'Entire loft': 498,\n",
       "         'Entire condominium': 248,\n",
       "         'Private room in guest suite': 33,\n",
       "         'Private room in chalet': 30,\n",
       "         'Entire serviced apartment': 148,\n",
       "         'Entire house': 146,\n",
       "         'Private room in condominium': 219,\n",
       "         'Private room in bed and breakfast': 59,\n",
       "         'Private room in townhouse': 38,\n",
       "         'Entire guest suite': 20,\n",
       "         'Shared room in apartment': 108,\n",
       "         'Room in aparthotel': 6,\n",
       "         'Entire bungalow': 1,\n",
       "         'Private room in loft': 34,\n",
       "         'Shared room in bed and breakfast': 36,\n",
       "         'Dome house': 2,\n",
       "         'Shared room in loft': 6,\n",
       "         'Shared room in hostel': 25,\n",
       "         'Private room': 7,\n",
       "         'Private room in floor': 10,\n",
       "         'Entire place': 4,\n",
       "         'Private room in casa particular': 11,\n",
       "         'Room in serviced apartment': 17,\n",
       "         'Shared room in house': 30,\n",
       "         'Room in boutique hotel': 43,\n",
       "         'Private room in hostel': 127,\n",
       "         'Room in hotel': 23,\n",
       "         'Entire chalet': 6,\n",
       "         'Entire bed and breakfast': 1,\n",
       "         'Private room in serviced apartment': 25,\n",
       "         'Entire townhouse': 13,\n",
       "         'Private room in guesthouse': 26,\n",
       "         'Entire guesthouse': 15,\n",
       "         'Entire floor': 7,\n",
       "         'Shared room in condominium': 2,\n",
       "         'Hut': 1,\n",
       "         'Camper/RV': 5,\n",
       "         'Entire home/apt': 2,\n",
       "         'Room in hostel': 46,\n",
       "         'Casa particular': 1,\n",
       "         'Private room in bungalow': 1,\n",
       "         'Private room in villa': 6,\n",
       "         'Room in bed and breakfast': 3,\n",
       "         'Private room in tiny house': 9,\n",
       "         'Room in casa particular': 1,\n",
       "         'Tiny house': 9,\n",
       "         'Entire villa': 2,\n",
       "         'Private room in earth house': 4,\n",
       "         'Private room in dome house': 2,\n",
       "         'Cave': 1,\n",
       "         'Shared room in guesthouse': 1,\n",
       "         'Yurt': 1,\n",
       "         'Shared room in tiny house': 1,\n",
       "         'Shared room in townhouse': 1,\n",
       "         'Private room in pension': 1})"
      ]
     },
     "execution_count": 21,
     "metadata": {},
     "output_type": "execute_result"
    }
   ],
   "source": [
    "from collections import Counter\n",
    "\n",
    "Counter(df_columns_chosen[\"property_type\"])"
   ]
  },
  {
   "cell_type": "code",
   "execution_count": 22,
   "id": "a0a49629",
   "metadata": {},
   "outputs": [],
   "source": [
    "dict_property_types = dict(Counter(df_columns_chosen[\"property_type\"]))"
   ]
  },
  {
   "cell_type": "code",
   "execution_count": 23,
   "id": "e55afebf",
   "metadata": {},
   "outputs": [
    {
     "data": {
      "text/plain": [
       "3859"
      ]
     },
     "execution_count": 23,
     "metadata": {},
     "output_type": "execute_result"
    }
   ],
   "source": [
    "dict_property_types[list(dict_property_types.keys())[0]]"
   ]
  },
  {
   "cell_type": "code",
   "execution_count": 24,
   "id": "22496795",
   "metadata": {},
   "outputs": [
    {
     "name": "stderr",
     "output_type": "stream",
     "text": [
      "/var/folders/10/5nbnv2696vlgb605wf3g6wwh0000gn/T/ipykernel_6311/1177635394.py:10: SettingWithCopyWarning: \n",
      "A value is trying to be set on a copy of a slice from a DataFrame\n",
      "\n",
      "See the caveats in the documentation: https://pandas.pydata.org/pandas-docs/stable/user_guide/indexing.html#returning-a-view-versus-a-copy\n",
      "  df_columns_chosen[\"property_type\"].replace(i,\"Other\", inplace = True)\n"
     ]
    }
   ],
   "source": [
    "list_others = []\n",
    "for i in dict_property_types.keys():\n",
    "    \n",
    "    if dict_property_types[i] < 300:\n",
    "        \n",
    "        list_others.append(i)\n",
    "        \n",
    "for i in list_others:\n",
    "    \n",
    "    df_columns_chosen[\"property_type\"].replace(i,\"Other\", inplace = True)"
   ]
  },
  {
   "cell_type": "code",
   "execution_count": 25,
   "id": "757cbc79",
   "metadata": {},
   "outputs": [
    {
     "data": {
      "text/plain": [
       "Counter({'Private room in apartment': 3859,\n",
       "         'Entire apartment': 7523,\n",
       "         'Private room in house': 477,\n",
       "         'Entire loft': 498,\n",
       "         'Other': 1624})"
      ]
     },
     "execution_count": 25,
     "metadata": {},
     "output_type": "execute_result"
    }
   ],
   "source": [
    "Counter(df_columns_chosen[\"property_type\"])"
   ]
  },
  {
   "cell_type": "code",
   "execution_count": 28,
   "id": "d6157c77",
   "metadata": {},
   "outputs": [
    {
     "data": {
      "text/html": [
       "<div>\n",
       "<style scoped>\n",
       "    .dataframe tbody tr th:only-of-type {\n",
       "        vertical-align: middle;\n",
       "    }\n",
       "\n",
       "    .dataframe tbody tr th {\n",
       "        vertical-align: top;\n",
       "    }\n",
       "\n",
       "    .dataframe thead th {\n",
       "        text-align: right;\n",
       "    }\n",
       "</style>\n",
       "<table border=\"1\" class=\"dataframe\">\n",
       "  <thead>\n",
       "    <tr style=\"text-align: right;\">\n",
       "      <th></th>\n",
       "      <th>neighbourhood_group_cleansed</th>\n",
       "      <th>property_type</th>\n",
       "      <th>latitude</th>\n",
       "      <th>longitude</th>\n",
       "      <th>accommodates</th>\n",
       "      <th>price</th>\n",
       "      <th>minimum_nights</th>\n",
       "      <th>availability_365</th>\n",
       "      <th>number_of_reviews</th>\n",
       "      <th>calculated_host_listings_count</th>\n",
       "      <th>reviews_per_month</th>\n",
       "    </tr>\n",
       "  </thead>\n",
       "  <tbody>\n",
       "    <tr>\n",
       "      <th>0</th>\n",
       "      <td>Chamartín</td>\n",
       "      <td>Private room in apartment</td>\n",
       "      <td>40.45724</td>\n",
       "      <td>-3.67688</td>\n",
       "      <td>2</td>\n",
       "      <td>60.0</td>\n",
       "      <td>1</td>\n",
       "      <td>180</td>\n",
       "      <td>78</td>\n",
       "      <td>1</td>\n",
       "      <td>0.58</td>\n",
       "    </tr>\n",
       "    <tr>\n",
       "      <th>1</th>\n",
       "      <td>Latina</td>\n",
       "      <td>Private room in apartment</td>\n",
       "      <td>40.40381</td>\n",
       "      <td>-3.74130</td>\n",
       "      <td>1</td>\n",
       "      <td>31.0</td>\n",
       "      <td>4</td>\n",
       "      <td>364</td>\n",
       "      <td>33</td>\n",
       "      <td>2</td>\n",
       "      <td>0.42</td>\n",
       "    </tr>\n",
       "    <tr>\n",
       "      <th>2</th>\n",
       "      <td>Centro</td>\n",
       "      <td>Entire apartment</td>\n",
       "      <td>40.42183</td>\n",
       "      <td>-3.70529</td>\n",
       "      <td>3</td>\n",
       "      <td>92.0</td>\n",
       "      <td>5</td>\n",
       "      <td>72</td>\n",
       "      <td>10</td>\n",
       "      <td>1</td>\n",
       "      <td>0.13</td>\n",
       "    </tr>\n",
       "    <tr>\n",
       "      <th>3</th>\n",
       "      <td>Arganzuela</td>\n",
       "      <td>Private room in house</td>\n",
       "      <td>40.38975</td>\n",
       "      <td>-3.69018</td>\n",
       "      <td>1</td>\n",
       "      <td>26.0</td>\n",
       "      <td>2</td>\n",
       "      <td>365</td>\n",
       "      <td>149</td>\n",
       "      <td>1</td>\n",
       "      <td>1.12</td>\n",
       "    </tr>\n",
       "    <tr>\n",
       "      <th>4</th>\n",
       "      <td>Arganzuela</td>\n",
       "      <td>Entire apartment</td>\n",
       "      <td>40.38860</td>\n",
       "      <td>-3.69492</td>\n",
       "      <td>6</td>\n",
       "      <td>85.0</td>\n",
       "      <td>1</td>\n",
       "      <td>365</td>\n",
       "      <td>3</td>\n",
       "      <td>7</td>\n",
       "      <td>0.03</td>\n",
       "    </tr>\n",
       "    <tr>\n",
       "      <th>...</th>\n",
       "      <td>...</td>\n",
       "      <td>...</td>\n",
       "      <td>...</td>\n",
       "      <td>...</td>\n",
       "      <td>...</td>\n",
       "      <td>...</td>\n",
       "      <td>...</td>\n",
       "      <td>...</td>\n",
       "      <td>...</td>\n",
       "      <td>...</td>\n",
       "      <td>...</td>\n",
       "    </tr>\n",
       "    <tr>\n",
       "      <th>13976</th>\n",
       "      <td>Centro</td>\n",
       "      <td>Entire apartment</td>\n",
       "      <td>40.42207</td>\n",
       "      <td>-3.69930</td>\n",
       "      <td>4</td>\n",
       "      <td>44.0</td>\n",
       "      <td>2</td>\n",
       "      <td>331</td>\n",
       "      <td>1</td>\n",
       "      <td>2</td>\n",
       "      <td>1.00</td>\n",
       "    </tr>\n",
       "    <tr>\n",
       "      <th>13977</th>\n",
       "      <td>Centro</td>\n",
       "      <td>Entire apartment</td>\n",
       "      <td>40.42059</td>\n",
       "      <td>-3.70338</td>\n",
       "      <td>2</td>\n",
       "      <td>37.0</td>\n",
       "      <td>2</td>\n",
       "      <td>0</td>\n",
       "      <td>1</td>\n",
       "      <td>1</td>\n",
       "      <td>1.00</td>\n",
       "    </tr>\n",
       "    <tr>\n",
       "      <th>13978</th>\n",
       "      <td>Ciudad Lineal</td>\n",
       "      <td>Entire apartment</td>\n",
       "      <td>40.43080</td>\n",
       "      <td>-3.65934</td>\n",
       "      <td>3</td>\n",
       "      <td>70.0</td>\n",
       "      <td>1</td>\n",
       "      <td>89</td>\n",
       "      <td>1</td>\n",
       "      <td>1</td>\n",
       "      <td>1.00</td>\n",
       "    </tr>\n",
       "    <tr>\n",
       "      <th>13979</th>\n",
       "      <td>Centro</td>\n",
       "      <td>Entire apartment</td>\n",
       "      <td>40.42035</td>\n",
       "      <td>-3.70963</td>\n",
       "      <td>2</td>\n",
       "      <td>47.0</td>\n",
       "      <td>1</td>\n",
       "      <td>358</td>\n",
       "      <td>2</td>\n",
       "      <td>5</td>\n",
       "      <td>2.00</td>\n",
       "    </tr>\n",
       "    <tr>\n",
       "      <th>13980</th>\n",
       "      <td>Salamanca</td>\n",
       "      <td>Entire apartment</td>\n",
       "      <td>40.42252</td>\n",
       "      <td>-3.68986</td>\n",
       "      <td>4</td>\n",
       "      <td>70.0</td>\n",
       "      <td>2</td>\n",
       "      <td>349</td>\n",
       "      <td>1</td>\n",
       "      <td>8</td>\n",
       "      <td>1.00</td>\n",
       "    </tr>\n",
       "  </tbody>\n",
       "</table>\n",
       "<p>13981 rows × 11 columns</p>\n",
       "</div>"
      ],
      "text/plain": [
       "      neighbourhood_group_cleansed              property_type  latitude  \\\n",
       "0                        Chamartín  Private room in apartment  40.45724   \n",
       "1                           Latina  Private room in apartment  40.40381   \n",
       "2                           Centro           Entire apartment  40.42183   \n",
       "3                       Arganzuela      Private room in house  40.38975   \n",
       "4                       Arganzuela           Entire apartment  40.38860   \n",
       "...                            ...                        ...       ...   \n",
       "13976                       Centro           Entire apartment  40.42207   \n",
       "13977                       Centro           Entire apartment  40.42059   \n",
       "13978                Ciudad Lineal           Entire apartment  40.43080   \n",
       "13979                       Centro           Entire apartment  40.42035   \n",
       "13980                    Salamanca           Entire apartment  40.42252   \n",
       "\n",
       "       longitude  accommodates  price  minimum_nights  availability_365  \\\n",
       "0       -3.67688             2   60.0               1               180   \n",
       "1       -3.74130             1   31.0               4               364   \n",
       "2       -3.70529             3   92.0               5                72   \n",
       "3       -3.69018             1   26.0               2               365   \n",
       "4       -3.69492             6   85.0               1               365   \n",
       "...          ...           ...    ...             ...               ...   \n",
       "13976   -3.69930             4   44.0               2               331   \n",
       "13977   -3.70338             2   37.0               2                 0   \n",
       "13978   -3.65934             3   70.0               1                89   \n",
       "13979   -3.70963             2   47.0               1               358   \n",
       "13980   -3.68986             4   70.0               2               349   \n",
       "\n",
       "       number_of_reviews  calculated_host_listings_count  reviews_per_month  \n",
       "0                     78                               1               0.58  \n",
       "1                     33                               2               0.42  \n",
       "2                     10                               1               0.13  \n",
       "3                    149                               1               1.12  \n",
       "4                      3                               7               0.03  \n",
       "...                  ...                             ...                ...  \n",
       "13976                  1                               2               1.00  \n",
       "13977                  1                               1               1.00  \n",
       "13978                  1                               1               1.00  \n",
       "13979                  2                               5               2.00  \n",
       "13980                  1                               8               1.00  \n",
       "\n",
       "[13981 rows x 11 columns]"
      ]
     },
     "execution_count": 28,
     "metadata": {},
     "output_type": "execute_result"
    }
   ],
   "source": [
    "df_columns_chosen"
   ]
  },
  {
   "cell_type": "code",
   "execution_count": 30,
   "id": "14762db4",
   "metadata": {},
   "outputs": [
    {
     "name": "stderr",
     "output_type": "stream",
     "text": [
      "/var/folders/10/5nbnv2696vlgb605wf3g6wwh0000gn/T/ipykernel_6311/552826231.py:8: SettingWithCopyWarning: \n",
      "A value is trying to be set on a copy of a slice from a DataFrame.\n",
      "Try using .loc[row_indexer,col_indexer] = value instead\n",
      "\n",
      "See the caveats in the documentation: https://pandas.pydata.org/pandas-docs/stable/user_guide/indexing.html#returning-a-view-versus-a-copy\n",
      "  df_columns_chosen[\"property_type\"] = o_labelEncoding.transform(df_columns_chosen[\"property_type\"].values)\n"
     ]
    }
   ],
   "source": [
    "# Inicializing object LabelEncoder()\n",
    "o_labelEncoding = LabelEncoder()\n",
    "\n",
    "# Training it with the column data\n",
    "o_labelEncoding.fit(df_columns_chosen[\"property_type\"].values)\n",
    "\n",
    "# Transform the column\n",
    "df_columns_chosen[\"property_type\"] = o_labelEncoding.transform(df_columns_chosen[\"property_type\"].values)"
   ]
  },
  {
   "cell_type": "code",
   "execution_count": 31,
   "id": "45102f99",
   "metadata": {},
   "outputs": [
    {
     "data": {
      "text/html": [
       "<div>\n",
       "<style scoped>\n",
       "    .dataframe tbody tr th:only-of-type {\n",
       "        vertical-align: middle;\n",
       "    }\n",
       "\n",
       "    .dataframe tbody tr th {\n",
       "        vertical-align: top;\n",
       "    }\n",
       "\n",
       "    .dataframe thead th {\n",
       "        text-align: right;\n",
       "    }\n",
       "</style>\n",
       "<table border=\"1\" class=\"dataframe\">\n",
       "  <thead>\n",
       "    <tr style=\"text-align: right;\">\n",
       "      <th></th>\n",
       "      <th>neighbourhood_group_cleansed</th>\n",
       "      <th>property_type</th>\n",
       "      <th>latitude</th>\n",
       "      <th>longitude</th>\n",
       "      <th>accommodates</th>\n",
       "      <th>price</th>\n",
       "      <th>minimum_nights</th>\n",
       "      <th>availability_365</th>\n",
       "      <th>number_of_reviews</th>\n",
       "      <th>calculated_host_listings_count</th>\n",
       "      <th>reviews_per_month</th>\n",
       "    </tr>\n",
       "  </thead>\n",
       "  <tbody>\n",
       "    <tr>\n",
       "      <th>0</th>\n",
       "      <td>Chamartín</td>\n",
       "      <td>3</td>\n",
       "      <td>40.45724</td>\n",
       "      <td>-3.67688</td>\n",
       "      <td>2</td>\n",
       "      <td>60.0</td>\n",
       "      <td>1</td>\n",
       "      <td>180</td>\n",
       "      <td>78</td>\n",
       "      <td>1</td>\n",
       "      <td>0.58</td>\n",
       "    </tr>\n",
       "    <tr>\n",
       "      <th>1</th>\n",
       "      <td>Latina</td>\n",
       "      <td>3</td>\n",
       "      <td>40.40381</td>\n",
       "      <td>-3.74130</td>\n",
       "      <td>1</td>\n",
       "      <td>31.0</td>\n",
       "      <td>4</td>\n",
       "      <td>364</td>\n",
       "      <td>33</td>\n",
       "      <td>2</td>\n",
       "      <td>0.42</td>\n",
       "    </tr>\n",
       "    <tr>\n",
       "      <th>2</th>\n",
       "      <td>Centro</td>\n",
       "      <td>0</td>\n",
       "      <td>40.42183</td>\n",
       "      <td>-3.70529</td>\n",
       "      <td>3</td>\n",
       "      <td>92.0</td>\n",
       "      <td>5</td>\n",
       "      <td>72</td>\n",
       "      <td>10</td>\n",
       "      <td>1</td>\n",
       "      <td>0.13</td>\n",
       "    </tr>\n",
       "    <tr>\n",
       "      <th>3</th>\n",
       "      <td>Arganzuela</td>\n",
       "      <td>4</td>\n",
       "      <td>40.38975</td>\n",
       "      <td>-3.69018</td>\n",
       "      <td>1</td>\n",
       "      <td>26.0</td>\n",
       "      <td>2</td>\n",
       "      <td>365</td>\n",
       "      <td>149</td>\n",
       "      <td>1</td>\n",
       "      <td>1.12</td>\n",
       "    </tr>\n",
       "    <tr>\n",
       "      <th>4</th>\n",
       "      <td>Arganzuela</td>\n",
       "      <td>0</td>\n",
       "      <td>40.38860</td>\n",
       "      <td>-3.69492</td>\n",
       "      <td>6</td>\n",
       "      <td>85.0</td>\n",
       "      <td>1</td>\n",
       "      <td>365</td>\n",
       "      <td>3</td>\n",
       "      <td>7</td>\n",
       "      <td>0.03</td>\n",
       "    </tr>\n",
       "    <tr>\n",
       "      <th>...</th>\n",
       "      <td>...</td>\n",
       "      <td>...</td>\n",
       "      <td>...</td>\n",
       "      <td>...</td>\n",
       "      <td>...</td>\n",
       "      <td>...</td>\n",
       "      <td>...</td>\n",
       "      <td>...</td>\n",
       "      <td>...</td>\n",
       "      <td>...</td>\n",
       "      <td>...</td>\n",
       "    </tr>\n",
       "    <tr>\n",
       "      <th>13976</th>\n",
       "      <td>Centro</td>\n",
       "      <td>0</td>\n",
       "      <td>40.42207</td>\n",
       "      <td>-3.69930</td>\n",
       "      <td>4</td>\n",
       "      <td>44.0</td>\n",
       "      <td>2</td>\n",
       "      <td>331</td>\n",
       "      <td>1</td>\n",
       "      <td>2</td>\n",
       "      <td>1.00</td>\n",
       "    </tr>\n",
       "    <tr>\n",
       "      <th>13977</th>\n",
       "      <td>Centro</td>\n",
       "      <td>0</td>\n",
       "      <td>40.42059</td>\n",
       "      <td>-3.70338</td>\n",
       "      <td>2</td>\n",
       "      <td>37.0</td>\n",
       "      <td>2</td>\n",
       "      <td>0</td>\n",
       "      <td>1</td>\n",
       "      <td>1</td>\n",
       "      <td>1.00</td>\n",
       "    </tr>\n",
       "    <tr>\n",
       "      <th>13978</th>\n",
       "      <td>Ciudad Lineal</td>\n",
       "      <td>0</td>\n",
       "      <td>40.43080</td>\n",
       "      <td>-3.65934</td>\n",
       "      <td>3</td>\n",
       "      <td>70.0</td>\n",
       "      <td>1</td>\n",
       "      <td>89</td>\n",
       "      <td>1</td>\n",
       "      <td>1</td>\n",
       "      <td>1.00</td>\n",
       "    </tr>\n",
       "    <tr>\n",
       "      <th>13979</th>\n",
       "      <td>Centro</td>\n",
       "      <td>0</td>\n",
       "      <td>40.42035</td>\n",
       "      <td>-3.70963</td>\n",
       "      <td>2</td>\n",
       "      <td>47.0</td>\n",
       "      <td>1</td>\n",
       "      <td>358</td>\n",
       "      <td>2</td>\n",
       "      <td>5</td>\n",
       "      <td>2.00</td>\n",
       "    </tr>\n",
       "    <tr>\n",
       "      <th>13980</th>\n",
       "      <td>Salamanca</td>\n",
       "      <td>0</td>\n",
       "      <td>40.42252</td>\n",
       "      <td>-3.68986</td>\n",
       "      <td>4</td>\n",
       "      <td>70.0</td>\n",
       "      <td>2</td>\n",
       "      <td>349</td>\n",
       "      <td>1</td>\n",
       "      <td>8</td>\n",
       "      <td>1.00</td>\n",
       "    </tr>\n",
       "  </tbody>\n",
       "</table>\n",
       "<p>13981 rows × 11 columns</p>\n",
       "</div>"
      ],
      "text/plain": [
       "      neighbourhood_group_cleansed  property_type  latitude  longitude  \\\n",
       "0                        Chamartín              3  40.45724   -3.67688   \n",
       "1                           Latina              3  40.40381   -3.74130   \n",
       "2                           Centro              0  40.42183   -3.70529   \n",
       "3                       Arganzuela              4  40.38975   -3.69018   \n",
       "4                       Arganzuela              0  40.38860   -3.69492   \n",
       "...                            ...            ...       ...        ...   \n",
       "13976                       Centro              0  40.42207   -3.69930   \n",
       "13977                       Centro              0  40.42059   -3.70338   \n",
       "13978                Ciudad Lineal              0  40.43080   -3.65934   \n",
       "13979                       Centro              0  40.42035   -3.70963   \n",
       "13980                    Salamanca              0  40.42252   -3.68986   \n",
       "\n",
       "       accommodates  price  minimum_nights  availability_365  \\\n",
       "0                 2   60.0               1               180   \n",
       "1                 1   31.0               4               364   \n",
       "2                 3   92.0               5                72   \n",
       "3                 1   26.0               2               365   \n",
       "4                 6   85.0               1               365   \n",
       "...             ...    ...             ...               ...   \n",
       "13976             4   44.0               2               331   \n",
       "13977             2   37.0               2                 0   \n",
       "13978             3   70.0               1                89   \n",
       "13979             2   47.0               1               358   \n",
       "13980             4   70.0               2               349   \n",
       "\n",
       "       number_of_reviews  calculated_host_listings_count  reviews_per_month  \n",
       "0                     78                               1               0.58  \n",
       "1                     33                               2               0.42  \n",
       "2                     10                               1               0.13  \n",
       "3                    149                               1               1.12  \n",
       "4                      3                               7               0.03  \n",
       "...                  ...                             ...                ...  \n",
       "13976                  1                               2               1.00  \n",
       "13977                  1                               1               1.00  \n",
       "13978                  1                               1               1.00  \n",
       "13979                  2                               5               2.00  \n",
       "13980                  1                               8               1.00  \n",
       "\n",
       "[13981 rows x 11 columns]"
      ]
     },
     "execution_count": 31,
     "metadata": {},
     "output_type": "execute_result"
    }
   ],
   "source": [
    "df_columns_chosen"
   ]
  },
  {
   "cell_type": "code",
   "execution_count": null,
   "id": "2d22bca0",
   "metadata": {},
   "outputs": [],
   "source": [
    "# def dummies(data, column):\n",
    "#     return pd.get_dummies(data = data[column], drop_first=True)"
   ]
  },
  {
   "cell_type": "code",
   "execution_count": null,
   "id": "90f481f8",
   "metadata": {},
   "outputs": [],
   "source": [
    "# df_room_type = dummies(df_columns_chosen, \"room_type\")"
   ]
  },
  {
   "cell_type": "code",
   "execution_count": null,
   "id": "f798526b",
   "metadata": {},
   "outputs": [],
   "source": [
    "# df_columns_chosen = pd.concat([df_columns_chosen, df_room_type], axis = 1)"
   ]
  },
  {
   "cell_type": "code",
   "execution_count": null,
   "id": "e8d7104f",
   "metadata": {},
   "outputs": [],
   "source": [
    "# df_columns_chosen.drop(\"room_type\", axis = 1, inplace = True)"
   ]
  },
  {
   "cell_type": "code",
   "execution_count": 32,
   "id": "1ef496b5",
   "metadata": {},
   "outputs": [
    {
     "name": "stderr",
     "output_type": "stream",
     "text": [
      "/var/folders/10/5nbnv2696vlgb605wf3g6wwh0000gn/T/ipykernel_6311/3873492371.py:8: SettingWithCopyWarning: \n",
      "A value is trying to be set on a copy of a slice from a DataFrame.\n",
      "Try using .loc[row_indexer,col_indexer] = value instead\n",
      "\n",
      "See the caveats in the documentation: https://pandas.pydata.org/pandas-docs/stable/user_guide/indexing.html#returning-a-view-versus-a-copy\n",
      "  df_columns_chosen[\"neighbourhood_group_cleansed\"] = o_labelEncoding.transform(df_columns_chosen[\"neighbourhood_group_cleansed\"].values)\n"
     ]
    }
   ],
   "source": [
    "# Inicializing object LabelEncoder()\n",
    "o_labelEncoding = LabelEncoder()\n",
    "\n",
    "# Training it with the column data\n",
    "o_labelEncoding.fit(df_columns_chosen[\"neighbourhood_group_cleansed\"].values)\n",
    "\n",
    "# Transform the column\n",
    "df_columns_chosen[\"neighbourhood_group_cleansed\"] = o_labelEncoding.transform(df_columns_chosen[\"neighbourhood_group_cleansed\"].values)\n"
   ]
  },
  {
   "cell_type": "code",
   "execution_count": 33,
   "id": "bf169433",
   "metadata": {},
   "outputs": [
    {
     "data": {
      "text/html": [
       "<div>\n",
       "<style scoped>\n",
       "    .dataframe tbody tr th:only-of-type {\n",
       "        vertical-align: middle;\n",
       "    }\n",
       "\n",
       "    .dataframe tbody tr th {\n",
       "        vertical-align: top;\n",
       "    }\n",
       "\n",
       "    .dataframe thead th {\n",
       "        text-align: right;\n",
       "    }\n",
       "</style>\n",
       "<table border=\"1\" class=\"dataframe\">\n",
       "  <thead>\n",
       "    <tr style=\"text-align: right;\">\n",
       "      <th></th>\n",
       "      <th>neighbourhood_group_cleansed</th>\n",
       "      <th>property_type</th>\n",
       "      <th>latitude</th>\n",
       "      <th>longitude</th>\n",
       "      <th>accommodates</th>\n",
       "      <th>price</th>\n",
       "      <th>minimum_nights</th>\n",
       "      <th>availability_365</th>\n",
       "      <th>number_of_reviews</th>\n",
       "      <th>calculated_host_listings_count</th>\n",
       "      <th>reviews_per_month</th>\n",
       "    </tr>\n",
       "  </thead>\n",
       "  <tbody>\n",
       "    <tr>\n",
       "      <th>0</th>\n",
       "      <td>4</td>\n",
       "      <td>3</td>\n",
       "      <td>40.45724</td>\n",
       "      <td>-3.67688</td>\n",
       "      <td>2</td>\n",
       "      <td>60.0</td>\n",
       "      <td>1</td>\n",
       "      <td>180</td>\n",
       "      <td>78</td>\n",
       "      <td>1</td>\n",
       "      <td>0.58</td>\n",
       "    </tr>\n",
       "    <tr>\n",
       "      <th>1</th>\n",
       "      <td>9</td>\n",
       "      <td>3</td>\n",
       "      <td>40.40381</td>\n",
       "      <td>-3.74130</td>\n",
       "      <td>1</td>\n",
       "      <td>31.0</td>\n",
       "      <td>4</td>\n",
       "      <td>364</td>\n",
       "      <td>33</td>\n",
       "      <td>2</td>\n",
       "      <td>0.42</td>\n",
       "    </tr>\n",
       "    <tr>\n",
       "      <th>2</th>\n",
       "      <td>3</td>\n",
       "      <td>0</td>\n",
       "      <td>40.42183</td>\n",
       "      <td>-3.70529</td>\n",
       "      <td>3</td>\n",
       "      <td>92.0</td>\n",
       "      <td>5</td>\n",
       "      <td>72</td>\n",
       "      <td>10</td>\n",
       "      <td>1</td>\n",
       "      <td>0.13</td>\n",
       "    </tr>\n",
       "    <tr>\n",
       "      <th>3</th>\n",
       "      <td>0</td>\n",
       "      <td>4</td>\n",
       "      <td>40.38975</td>\n",
       "      <td>-3.69018</td>\n",
       "      <td>1</td>\n",
       "      <td>26.0</td>\n",
       "      <td>2</td>\n",
       "      <td>365</td>\n",
       "      <td>149</td>\n",
       "      <td>1</td>\n",
       "      <td>1.12</td>\n",
       "    </tr>\n",
       "    <tr>\n",
       "      <th>4</th>\n",
       "      <td>0</td>\n",
       "      <td>0</td>\n",
       "      <td>40.38860</td>\n",
       "      <td>-3.69492</td>\n",
       "      <td>6</td>\n",
       "      <td>85.0</td>\n",
       "      <td>1</td>\n",
       "      <td>365</td>\n",
       "      <td>3</td>\n",
       "      <td>7</td>\n",
       "      <td>0.03</td>\n",
       "    </tr>\n",
       "    <tr>\n",
       "      <th>...</th>\n",
       "      <td>...</td>\n",
       "      <td>...</td>\n",
       "      <td>...</td>\n",
       "      <td>...</td>\n",
       "      <td>...</td>\n",
       "      <td>...</td>\n",
       "      <td>...</td>\n",
       "      <td>...</td>\n",
       "      <td>...</td>\n",
       "      <td>...</td>\n",
       "      <td>...</td>\n",
       "    </tr>\n",
       "    <tr>\n",
       "      <th>13976</th>\n",
       "      <td>3</td>\n",
       "      <td>0</td>\n",
       "      <td>40.42207</td>\n",
       "      <td>-3.69930</td>\n",
       "      <td>4</td>\n",
       "      <td>44.0</td>\n",
       "      <td>2</td>\n",
       "      <td>331</td>\n",
       "      <td>1</td>\n",
       "      <td>2</td>\n",
       "      <td>1.00</td>\n",
       "    </tr>\n",
       "    <tr>\n",
       "      <th>13977</th>\n",
       "      <td>3</td>\n",
       "      <td>0</td>\n",
       "      <td>40.42059</td>\n",
       "      <td>-3.70338</td>\n",
       "      <td>2</td>\n",
       "      <td>37.0</td>\n",
       "      <td>2</td>\n",
       "      <td>0</td>\n",
       "      <td>1</td>\n",
       "      <td>1</td>\n",
       "      <td>1.00</td>\n",
       "    </tr>\n",
       "    <tr>\n",
       "      <th>13978</th>\n",
       "      <td>6</td>\n",
       "      <td>0</td>\n",
       "      <td>40.43080</td>\n",
       "      <td>-3.65934</td>\n",
       "      <td>3</td>\n",
       "      <td>70.0</td>\n",
       "      <td>1</td>\n",
       "      <td>89</td>\n",
       "      <td>1</td>\n",
       "      <td>1</td>\n",
       "      <td>1.00</td>\n",
       "    </tr>\n",
       "    <tr>\n",
       "      <th>13979</th>\n",
       "      <td>3</td>\n",
       "      <td>0</td>\n",
       "      <td>40.42035</td>\n",
       "      <td>-3.70963</td>\n",
       "      <td>2</td>\n",
       "      <td>47.0</td>\n",
       "      <td>1</td>\n",
       "      <td>358</td>\n",
       "      <td>2</td>\n",
       "      <td>5</td>\n",
       "      <td>2.00</td>\n",
       "    </tr>\n",
       "    <tr>\n",
       "      <th>13980</th>\n",
       "      <td>14</td>\n",
       "      <td>0</td>\n",
       "      <td>40.42252</td>\n",
       "      <td>-3.68986</td>\n",
       "      <td>4</td>\n",
       "      <td>70.0</td>\n",
       "      <td>2</td>\n",
       "      <td>349</td>\n",
       "      <td>1</td>\n",
       "      <td>8</td>\n",
       "      <td>1.00</td>\n",
       "    </tr>\n",
       "  </tbody>\n",
       "</table>\n",
       "<p>13981 rows × 11 columns</p>\n",
       "</div>"
      ],
      "text/plain": [
       "       neighbourhood_group_cleansed  property_type  latitude  longitude  \\\n",
       "0                                 4              3  40.45724   -3.67688   \n",
       "1                                 9              3  40.40381   -3.74130   \n",
       "2                                 3              0  40.42183   -3.70529   \n",
       "3                                 0              4  40.38975   -3.69018   \n",
       "4                                 0              0  40.38860   -3.69492   \n",
       "...                             ...            ...       ...        ...   \n",
       "13976                             3              0  40.42207   -3.69930   \n",
       "13977                             3              0  40.42059   -3.70338   \n",
       "13978                             6              0  40.43080   -3.65934   \n",
       "13979                             3              0  40.42035   -3.70963   \n",
       "13980                            14              0  40.42252   -3.68986   \n",
       "\n",
       "       accommodates  price  minimum_nights  availability_365  \\\n",
       "0                 2   60.0               1               180   \n",
       "1                 1   31.0               4               364   \n",
       "2                 3   92.0               5                72   \n",
       "3                 1   26.0               2               365   \n",
       "4                 6   85.0               1               365   \n",
       "...             ...    ...             ...               ...   \n",
       "13976             4   44.0               2               331   \n",
       "13977             2   37.0               2                 0   \n",
       "13978             3   70.0               1                89   \n",
       "13979             2   47.0               1               358   \n",
       "13980             4   70.0               2               349   \n",
       "\n",
       "       number_of_reviews  calculated_host_listings_count  reviews_per_month  \n",
       "0                     78                               1               0.58  \n",
       "1                     33                               2               0.42  \n",
       "2                     10                               1               0.13  \n",
       "3                    149                               1               1.12  \n",
       "4                      3                               7               0.03  \n",
       "...                  ...                             ...                ...  \n",
       "13976                  1                               2               1.00  \n",
       "13977                  1                               1               1.00  \n",
       "13978                  1                               1               1.00  \n",
       "13979                  2                               5               2.00  \n",
       "13980                  1                               8               1.00  \n",
       "\n",
       "[13981 rows x 11 columns]"
      ]
     },
     "execution_count": 33,
     "metadata": {},
     "output_type": "execute_result"
    }
   ],
   "source": [
    "df_columns_chosen"
   ]
  },
  {
   "cell_type": "markdown",
   "id": "b817f7eb",
   "metadata": {},
   "source": [
    "# Getting rid of outliers using quantiles"
   ]
  },
  {
   "cell_type": "code",
   "execution_count": null,
   "id": "6013d7a5",
   "metadata": {},
   "outputs": [],
   "source": [
    "cols = [\"price\", \"minimum_nights\", \"calculated_host_listings_count\",\n",
    "        \"reviews_per_month\", \"number_of_reviews\"]\n",
    "\n",
    "for col in cols:\n",
    "    upper_bound = df_columns_chosen[col].quantile(0.95)\n",
    "    lower_bound = df_columns_chosen[col].quantile(0.05)\n",
    "    listings = df_columns_chosen[df_columns_chosen[col] < upper_bound]\n",
    "    listings = df_columns_chosen[df_columns_chosen[col] > lower_bound]"
   ]
  },
  {
   "cell_type": "code",
   "execution_count": 34,
   "id": "d5dfb17d",
   "metadata": {},
   "outputs": [],
   "source": [
    "cols = df_columns_chosen.columns\n",
    "\n",
    "for col in cols:\n",
    "    upper_bound = df_columns_chosen[col].quantile(0.95)\n",
    "    lower_bound = df_columns_chosen[col].quantile(0.05)\n",
    "    listings = df_columns_chosen[df_columns_chosen[col] < upper_bound]\n",
    "    listings = df_columns_chosen[df_columns_chosen[col] > lower_bound]"
   ]
  },
  {
   "cell_type": "code",
   "execution_count": 35,
   "id": "df6ae50b",
   "metadata": {},
   "outputs": [
    {
     "name": "stderr",
     "output_type": "stream",
     "text": [
      "/var/folders/10/5nbnv2696vlgb605wf3g6wwh0000gn/T/ipykernel_6311/3946210335.py:7: SettingWithCopyWarning: \n",
      "A value is trying to be set on a copy of a slice from a DataFrame.\n",
      "Try using .loc[row_indexer,col_indexer] = value instead\n",
      "\n",
      "See the caveats in the documentation: https://pandas.pydata.org/pandas-docs/stable/user_guide/indexing.html#returning-a-view-versus-a-copy\n",
      "  df_columns_chosen[numeric_cols] = pt.fit_transform(df_columns_chosen[numeric_cols])\n"
     ]
    },
    {
     "data": {
      "image/png": "[encoded data removed]",
      "text/plain": [
       "<Figure size 640x480 with 1 Axes>"
      ]
     },
     "metadata": {},
     "output_type": "display_data"
    }
   ],
   "source": [
    "# Plot before transformation\n",
    "stats.probplot(df_columns_chosen[\"price\"], plot=plt)\n",
    "\n",
    "# Power Transformer\n",
    "numeric_cols = list(df_columns_chosen._get_numeric_data().columns)\n",
    "pt = PowerTransformer(method=\"yeo-johnson\")\n",
    "df_columns_chosen[numeric_cols] = pt.fit_transform(df_columns_chosen[numeric_cols])"
   ]
  },
  {
   "cell_type": "code",
   "execution_count": 36,
   "id": "d4384aad",
   "metadata": {},
   "outputs": [
    {
     "data": {
      "text/plain": [
       "((array([-3.89265493, -3.67198108, -3.55103111, ...,  3.55103111,\n",
       "          3.67198108,  3.89265493]),\n",
       "  array([-3.33195413, -3.33195413, -3.08121355, ...,  3.56533681,\n",
       "          3.56533681,  3.56533681])),\n",
       " (0.9975712775264198, -3.2462898705224585e-16, 0.9973076543913557))"
      ]
     },
     "execution_count": 36,
     "metadata": {},
     "output_type": "execute_result"
    },
    {
     "data": {
      "image/png": "[encoded data removed]",
      "text/plain": [
       "<Figure size 640x480 with 1 Axes>"
      ]
     },
     "metadata": {},
     "output_type": "display_data"
    }
   ],
   "source": [
    "# After transformation\n",
    "stats.probplot(df_columns_chosen[\"price\"], plot=plt)"
   ]
  },
  {
   "cell_type": "code",
   "execution_count": 37,
   "id": "c47609e9",
   "metadata": {},
   "outputs": [
    {
     "data": {
      "text/html": [
       "<div>\n",
       "<style scoped>\n",
       "    .dataframe tbody tr th:only-of-type {\n",
       "        vertical-align: middle;\n",
       "    }\n",
       "\n",
       "    .dataframe tbody tr th {\n",
       "        vertical-align: top;\n",
       "    }\n",
       "\n",
       "    .dataframe thead th {\n",
       "        text-align: right;\n",
       "    }\n",
       "</style>\n",
       "<table border=\"1\" class=\"dataframe\">\n",
       "  <thead>\n",
       "    <tr style=\"text-align: right;\">\n",
       "      <th></th>\n",
       "      <th>neighbourhood_group_cleansed</th>\n",
       "      <th>property_type</th>\n",
       "      <th>latitude</th>\n",
       "      <th>longitude</th>\n",
       "      <th>accommodates</th>\n",
       "      <th>price</th>\n",
       "      <th>minimum_nights</th>\n",
       "      <th>availability_365</th>\n",
       "      <th>number_of_reviews</th>\n",
       "      <th>calculated_host_listings_count</th>\n",
       "      <th>reviews_per_month</th>\n",
       "    </tr>\n",
       "  </thead>\n",
       "  <tbody>\n",
       "    <tr>\n",
       "      <th>0</th>\n",
       "      <td>-0.164326</td>\n",
       "      <td>1.191556</td>\n",
       "      <td>3.608225e-16</td>\n",
       "      <td>0.777949</td>\n",
       "      <td>-0.544369</td>\n",
       "      <td>0.156251</td>\n",
       "      <td>-1.114435</td>\n",
       "      <td>0.544565</td>\n",
       "      <td>1.063428</td>\n",
       "      <td>-0.979897</td>\n",
       "      <td>-0.101958</td>\n",
       "    </tr>\n",
       "    <tr>\n",
       "      <th>1</th>\n",
       "      <td>0.833615</td>\n",
       "      <td>1.191556</td>\n",
       "      <td>-1.665335e-16</td>\n",
       "      <td>-2.100801</td>\n",
       "      <td>-1.648758</td>\n",
       "      <td>-0.796569</td>\n",
       "      <td>1.007303</td>\n",
       "      <td>1.112689</td>\n",
       "      <td>0.553450</td>\n",
       "      <td>-0.174317</td>\n",
       "      <td>-0.376323</td>\n",
       "    </tr>\n",
       "    <tr>\n",
       "      <th>2</th>\n",
       "      <td>-0.475055</td>\n",
       "      <td>-0.911948</td>\n",
       "      <td>0.000000e+00</td>\n",
       "      <td>-0.329159</td>\n",
       "      <td>0.160786</td>\n",
       "      <td>0.683340</td>\n",
       "      <td>1.225198</td>\n",
       "      <td>-0.037562</td>\n",
       "      <td>-0.193677</td>\n",
       "      <td>-0.979897</td>\n",
       "      <td>-1.062389</td>\n",
       "    </tr>\n",
       "    <tr>\n",
       "      <th>3</th>\n",
       "      <td>-2.296705</td>\n",
       "      <td>1.403353</td>\n",
       "      <td>-3.053113e-16</td>\n",
       "      <td>0.287889</td>\n",
       "      <td>-1.648758</td>\n",
       "      <td>-1.080978</td>\n",
       "      <td>0.094146</td>\n",
       "      <td>1.115141</td>\n",
       "      <td>1.425795</td>\n",
       "      <td>-0.979897</td>\n",
       "      <td>0.527799</td>\n",
       "    </tr>\n",
       "    <tr>\n",
       "      <th>4</th>\n",
       "      <td>-2.296705</td>\n",
       "      <td>-0.911948</td>\n",
       "      <td>-3.053113e-16</td>\n",
       "      <td>0.101519</td>\n",
       "      <td>1.368129</td>\n",
       "      <td>0.590690</td>\n",
       "      <td>-1.114435</td>\n",
       "      <td>1.115141</td>\n",
       "      <td>-0.932204</td>\n",
       "      <td>0.976580</td>\n",
       "      <td>-1.384548</td>\n",
       "    </tr>\n",
       "    <tr>\n",
       "      <th>...</th>\n",
       "      <td>...</td>\n",
       "      <td>...</td>\n",
       "      <td>...</td>\n",
       "      <td>...</td>\n",
       "      <td>...</td>\n",
       "      <td>...</td>\n",
       "      <td>...</td>\n",
       "      <td>...</td>\n",
       "      <td>...</td>\n",
       "      <td>...</td>\n",
       "      <td>...</td>\n",
       "    </tr>\n",
       "    <tr>\n",
       "      <th>13976</th>\n",
       "      <td>-0.475055</td>\n",
       "      <td>-0.911948</td>\n",
       "      <td>0.000000e+00</td>\n",
       "      <td>-0.076463</td>\n",
       "      <td>0.666904</td>\n",
       "      <td>-0.269280</td>\n",
       "      <td>0.094146</td>\n",
       "      <td>1.028966</td>\n",
       "      <td>-1.479153</td>\n",
       "      <td>-0.174317</td>\n",
       "      <td>0.416157</td>\n",
       "    </tr>\n",
       "    <tr>\n",
       "      <th>13977</th>\n",
       "      <td>-0.475055</td>\n",
       "      <td>-0.911948</td>\n",
       "      <td>0.000000e+00</td>\n",
       "      <td>-0.247395</td>\n",
       "      <td>-0.544369</td>\n",
       "      <td>-0.523790</td>\n",
       "      <td>0.094146</td>\n",
       "      <td>-1.406846</td>\n",
       "      <td>-1.479153</td>\n",
       "      <td>-0.979897</td>\n",
       "      <td>0.416157</td>\n",
       "    </tr>\n",
       "    <tr>\n",
       "      <th>13978</th>\n",
       "      <td>0.313833</td>\n",
       "      <td>-0.911948</td>\n",
       "      <td>8.326673e-17</td>\n",
       "      <td>1.356004</td>\n",
       "      <td>0.160786</td>\n",
       "      <td>0.353998</td>\n",
       "      <td>-1.114435</td>\n",
       "      <td>0.083294</td>\n",
       "      <td>-1.479153</td>\n",
       "      <td>-0.979897</td>\n",
       "      <td>0.416157</td>\n",
       "    </tr>\n",
       "    <tr>\n",
       "      <th>13979</th>\n",
       "      <td>-0.475055</td>\n",
       "      <td>-0.911948</td>\n",
       "      <td>0.000000e+00</td>\n",
       "      <td>-0.519187</td>\n",
       "      <td>-0.544369</td>\n",
       "      <td>-0.175607</td>\n",
       "      <td>-1.114435</td>\n",
       "      <td>1.097877</td>\n",
       "      <td>-1.155009</td>\n",
       "      <td>0.725585</td>\n",
       "      <td>1.081942</td>\n",
       "    </tr>\n",
       "    <tr>\n",
       "      <th>13980</th>\n",
       "      <td>1.441076</td>\n",
       "      <td>-0.911948</td>\n",
       "      <td>0.000000e+00</td>\n",
       "      <td>0.300243</td>\n",
       "      <td>0.666904</td>\n",
       "      <td>0.353998</td>\n",
       "      <td>0.094146</td>\n",
       "      <td>1.075328</td>\n",
       "      <td>-1.479153</td>\n",
       "      <td>1.063987</td>\n",
       "      <td>0.416157</td>\n",
       "    </tr>\n",
       "  </tbody>\n",
       "</table>\n",
       "<p>13981 rows × 11 columns</p>\n",
       "</div>"
      ],
      "text/plain": [
       "       neighbourhood_group_cleansed  property_type      latitude  longitude  \\\n",
       "0                         -0.164326       1.191556  3.608225e-16   0.777949   \n",
       "1                          0.833615       1.191556 -1.665335e-16  -2.100801   \n",
       "2                         -0.475055      -0.911948  0.000000e+00  -0.329159   \n",
       "3                         -2.296705       1.403353 -3.053113e-16   0.287889   \n",
       "4                         -2.296705      -0.911948 -3.053113e-16   0.101519   \n",
       "...                             ...            ...           ...        ...   \n",
       "13976                     -0.475055      -0.911948  0.000000e+00  -0.076463   \n",
       "13977                     -0.475055      -0.911948  0.000000e+00  -0.247395   \n",
       "13978                      0.313833      -0.911948  8.326673e-17   1.356004   \n",
       "13979                     -0.475055      -0.911948  0.000000e+00  -0.519187   \n",
       "13980                      1.441076      -0.911948  0.000000e+00   0.300243   \n",
       "\n",
       "       accommodates     price  minimum_nights  availability_365  \\\n",
       "0         -0.544369  0.156251       -1.114435          0.544565   \n",
       "1         -1.648758 -0.796569        1.007303          1.112689   \n",
       "2          0.160786  0.683340        1.225198         -0.037562   \n",
       "3         -1.648758 -1.080978        0.094146          1.115141   \n",
       "4          1.368129  0.590690       -1.114435          1.115141   \n",
       "...             ...       ...             ...               ...   \n",
       "13976      0.666904 -0.269280        0.094146          1.028966   \n",
       "13977     -0.544369 -0.523790        0.094146         -1.406846   \n",
       "13978      0.160786  0.353998       -1.114435          0.083294   \n",
       "13979     -0.544369 -0.175607       -1.114435          1.097877   \n",
       "13980      0.666904  0.353998        0.094146          1.075328   \n",
       "\n",
       "       number_of_reviews  calculated_host_listings_count  reviews_per_month  \n",
       "0               1.063428                       -0.979897          -0.101958  \n",
       "1               0.553450                       -0.174317          -0.376323  \n",
       "2              -0.193677                       -0.979897          -1.062389  \n",
       "3               1.425795                       -0.979897           0.527799  \n",
       "4              -0.932204                        0.976580          -1.384548  \n",
       "...                  ...                             ...                ...  \n",
       "13976          -1.479153                       -0.174317           0.416157  \n",
       "13977          -1.479153                       -0.979897           0.416157  \n",
       "13978          -1.479153                       -0.979897           0.416157  \n",
       "13979          -1.155009                        0.725585           1.081942  \n",
       "13980          -1.479153                        1.063987           0.416157  \n",
       "\n",
       "[13981 rows x 11 columns]"
      ]
     },
     "execution_count": 37,
     "metadata": {},
     "output_type": "execute_result"
    }
   ],
   "source": [
    "df_columns_chosen"
   ]
  },
  {
   "cell_type": "markdown",
   "id": "0d78cf5c",
   "metadata": {},
   "source": [
    "# Outliers"
   ]
  },
  {
   "cell_type": "code",
   "execution_count": null,
   "id": "e0f790b6",
   "metadata": {
    "scrolled": false
   },
   "outputs": [],
   "source": [
    "for i in df_columns_chosen.columns:\n",
    "    \n",
    "    print(i)\n",
    "    sns.kdeplot(df_columns_chosen[i])\n",
    "    plt.show()"
   ]
  },
  {
   "cell_type": "code",
   "execution_count": null,
   "id": "574edac9",
   "metadata": {},
   "outputs": [],
   "source": [
    "df.shape"
   ]
  },
  {
   "cell_type": "code",
   "execution_count": null,
   "id": "cf9218e5",
   "metadata": {},
   "outputs": [],
   "source": [
    "df = df[df[\"beds\"]<15]"
   ]
  },
  {
   "cell_type": "code",
   "execution_count": null,
   "id": "747c7d77",
   "metadata": {},
   "outputs": [],
   "source": [
    "df.shape"
   ]
  },
  {
   "cell_type": "code",
   "execution_count": null,
   "id": "76dc7a17",
   "metadata": {},
   "outputs": [],
   "source": [
    "df = df[df[\"accommodates\"]<13]"
   ]
  },
  {
   "cell_type": "code",
   "execution_count": null,
   "id": "ba0ff7f0",
   "metadata": {},
   "outputs": [],
   "source": [
    "df.shape"
   ]
  },
  {
   "cell_type": "code",
   "execution_count": null,
   "id": "ef138aec",
   "metadata": {},
   "outputs": [],
   "source": [
    "df = df[df[\"price\"]<700]"
   ]
  },
  {
   "cell_type": "code",
   "execution_count": null,
   "id": "c379cef5",
   "metadata": {},
   "outputs": [],
   "source": [
    "sns.histplot(df[df[\"host_is_superhost\"] == 0][\"price\"])"
   ]
  },
  {
   "cell_type": "code",
   "execution_count": null,
   "id": "0d9851e6",
   "metadata": {},
   "outputs": [],
   "source": [
    "sns.histplot(df[df[\"host_is_superhost\"] == 1][\"price\"])"
   ]
  },
  {
   "cell_type": "code",
   "execution_count": null,
   "id": "eb816592",
   "metadata": {},
   "outputs": [],
   "source": [
    "df.shape"
   ]
  },
  {
   "cell_type": "code",
   "execution_count": null,
   "id": "0b8e038c",
   "metadata": {},
   "outputs": [],
   "source": [
    "df = df[df[\"minimum_nights\"]<150]"
   ]
  },
  {
   "cell_type": "code",
   "execution_count": null,
   "id": "a7a66493",
   "metadata": {},
   "outputs": [],
   "source": [
    "df.shape"
   ]
  },
  {
   "cell_type": "code",
   "execution_count": null,
   "id": "7d84586e",
   "metadata": {},
   "outputs": [],
   "source": [
    "df = df[df[\"maximum_nights\"]<1500]"
   ]
  },
  {
   "cell_type": "code",
   "execution_count": null,
   "id": "20b3a466",
   "metadata": {},
   "outputs": [],
   "source": [
    "df.shape"
   ]
  },
  {
   "cell_type": "code",
   "execution_count": null,
   "id": "c81ced85",
   "metadata": {},
   "outputs": [],
   "source": [
    "df = df[df[\"number_of_reviews\"]<500]"
   ]
  },
  {
   "cell_type": "code",
   "execution_count": null,
   "id": "26c00f77",
   "metadata": {},
   "outputs": [],
   "source": [
    "df.shape"
   ]
  },
  {
   "cell_type": "code",
   "execution_count": null,
   "id": "63557700",
   "metadata": {},
   "outputs": [],
   "source": [
    "df = df[df[\"amenities\"]<1200]"
   ]
  },
  {
   "cell_type": "code",
   "execution_count": null,
   "id": "0e5c0f95",
   "metadata": {},
   "outputs": [],
   "source": [
    "df.shape"
   ]
  },
  {
   "cell_type": "code",
   "execution_count": null,
   "id": "c222a022",
   "metadata": {},
   "outputs": [],
   "source": [
    "df = df[df[\"host_verifications\"]<160]"
   ]
  },
  {
   "cell_type": "code",
   "execution_count": null,
   "id": "ae0cbd36",
   "metadata": {},
   "outputs": [],
   "source": [
    "df.shape"
   ]
  },
  {
   "cell_type": "code",
   "execution_count": null,
   "id": "6f2be89a",
   "metadata": {},
   "outputs": [],
   "source": [
    "df = df[df[\"num_of_baths\"] < 7]"
   ]
  },
  {
   "cell_type": "code",
   "execution_count": null,
   "id": "5e615db0",
   "metadata": {},
   "outputs": [],
   "source": [
    "df.shape"
   ]
  },
  {
   "cell_type": "code",
   "execution_count": null,
   "id": "2b21f2d3",
   "metadata": {
    "scrolled": true
   },
   "outputs": [],
   "source": [
    "for i in df.columns:\n",
    "    \n",
    "    print(i)\n",
    "    sns.kdeplot(df[i])\n",
    "    plt.show()"
   ]
  },
  {
   "cell_type": "markdown",
   "id": "7fcdb3ca",
   "metadata": {},
   "source": [
    "## Dividing x & y"
   ]
  },
  {
   "cell_type": "code",
   "execution_count": null,
   "id": "aa1dd741",
   "metadata": {},
   "outputs": [],
   "source": [
    "X = df_columns_chosen.drop(\"price\", axis = 1)\n",
    "y = df_columns_chosen[[\"price\"]]\n"
   ]
  },
  {
   "cell_type": "markdown",
   "id": "4a8e7cf0",
   "metadata": {},
   "source": [
    "## Scaling data"
   ]
  },
  {
   "cell_type": "code",
   "execution_count": null,
   "id": "65878cc8",
   "metadata": {},
   "outputs": [],
   "source": [
    "from sklearn.preprocessing import MinMaxScaler\n",
    "\n",
    "\n",
    "scaler_x = MinMaxScaler()\n",
    "scaler_x.fit(X)\n",
    "X = scaler_x.transform(X)\n",
    "\n",
    "\n",
    "scaler_y = MinMaxScaler()\n",
    "scaler_y.fit(y)\n",
    "y = scaler_y.transform(y)"
   ]
  },
  {
   "cell_type": "markdown",
   "id": "88aa1125",
   "metadata": {},
   "source": [
    "# Feature importances"
   ]
  },
  {
   "cell_type": "code",
   "execution_count": null,
   "id": "3a1be5eb",
   "metadata": {
    "scrolled": true
   },
   "outputs": [],
   "source": [
    "df_class = df_columns_chosen[\"price\"].copy()"
   ]
  },
  {
   "cell_type": "code",
   "execution_count": null,
   "id": "0c46bf3e",
   "metadata": {},
   "outputs": [],
   "source": [
    "df_columns_chosen.drop(\"price\", axis = 1, inplace = True)"
   ]
  },
  {
   "cell_type": "code",
   "execution_count": null,
   "id": "6ff3a4d3",
   "metadata": {},
   "outputs": [],
   "source": [
    "X = np.asarray(df_columns_chosen)\n",
    "y = np.asarray(df_class)"
   ]
  },
  {
   "cell_type": "code",
   "execution_count": null,
   "id": "1f642470",
   "metadata": {},
   "outputs": [],
   "source": [
    "X.shape, y.shape"
   ]
  },
  {
   "cell_type": "code",
   "execution_count": null,
   "id": "ed046796",
   "metadata": {},
   "outputs": [],
   "source": [
    "from sklearn.ensemble import ExtraTreesRegressor\n",
    "\n",
    "# Build a forest and compute the feature importances\n",
    "forest = ExtraTreesRegressor(n_estimators = 250,\n",
    "                              random_state = 0)\n",
    "\n",
    "forest.fit(X, y)\n",
    "\n",
    "importances = forest.feature_importances_\n",
    "\n",
    "std = np.std([tree.feature_importances_ for tree in forest.estimators_], axis = 0)\n",
    "\n",
    "indices = np.argsort(importances)[::-1]\n",
    "\n",
    "# Print the feature ranking\n",
    "print(\"Feature ranking:\")\n",
    "\n",
    "for f in range(X.shape[1]):\n",
    "    print(\"%d. feature %d (%f): %s\" % (f + 1, indices[f], importances[indices[f]], df_columns_chosen.columns[f]))\n",
    "\n",
    "# Plot the feature importances of the forest\n",
    "plt.figure()\n",
    "\n",
    "plt.title(\"Feature importances\")\n",
    "\n",
    "plt.bar(range(X.shape[1]), importances[indices], color = \"r\", yerr = std[indices], align = \"center\")\n",
    "\n",
    "plt.xticks(range(X.shape[1]), indices)\n",
    "plt.xlim([-1, X.shape[1]])\n",
    "plt.show()"
   ]
  },
  {
   "cell_type": "markdown",
   "id": "cc10ddfb",
   "metadata": {},
   "source": [
    "# 1. LinearRegression"
   ]
  },
  {
   "cell_type": "code",
   "execution_count": null,
   "id": "9f0d52bc",
   "metadata": {},
   "outputs": [],
   "source": [
    "X_train, X_test, y_train, y_test = train_test_split(X, y, test_size = 0.20)\n",
    "\n",
    "print(f\"Train data: {X_train.shape, y_train.shape}\")\n",
    "print(f\"Test data: {X_test.shape, y_test.shape}\")"
   ]
  },
  {
   "cell_type": "code",
   "execution_count": null,
   "id": "2150df56",
   "metadata": {},
   "outputs": [],
   "source": [
    "# Regresión algorithm\n",
    "\n",
    "regresion_lineal = LinearRegression()\n",
    "regresion_lineal.fit(X_train, y_train)\n",
    "\n",
    "# Finding coef\n",
    "\n",
    "print (\"weights:\", regresion_lineal.coef_)\n",
    "print (\"w_0:\", regresion_lineal.intercept_)"
   ]
  },
  {
   "cell_type": "markdown",
   "id": "50c99e4b",
   "metadata": {},
   "source": [
    "## Predicción"
   ]
  },
  {
   "cell_type": "code",
   "execution_count": null,
   "id": "74f715d3",
   "metadata": {},
   "outputs": [],
   "source": [
    "yhat = regresion_lineal.predict(X_test)\n",
    "\n",
    "for i, j in zip(yhat[:5], y_test[:5]):\n",
    "    print(f\"Predicción:{i} \\tValor real:{j}\")"
   ]
  },
  {
   "cell_type": "markdown",
   "id": "be686f8f",
   "metadata": {},
   "source": [
    "## Metrics"
   ]
  },
  {
   "cell_type": "code",
   "execution_count": null,
   "id": "301fd49e",
   "metadata": {},
   "outputs": [],
   "source": [
    "# Sklearn tiene las formulas de algunas métricas en funciones.\n",
    "\n",
    "from sklearn.metrics import mean_absolute_error\n",
    "from sklearn.metrics import mean_squared_error\n",
    "from sklearn.metrics import r2_score"
   ]
  },
  {
   "cell_type": "code",
   "execution_count": null,
   "id": "dd09a23e",
   "metadata": {},
   "outputs": [],
   "source": [
    "# Relative Absolute Error\n",
    "RAE = np.sum(np.abs(np.subtract(y_test, yhat))) / np.sum(np.abs(np.subtract(y_test, np.mean(y_test))))\n",
    "\n",
    "# Relative Square Error\n",
    "RSE = np.sum(np.square(np.subtract(y_test, yhat))) / np.sum(np.square(np.subtract(y_test, np.mean(y_test))))\n",
    "\n",
    "# Adjusted R**2\n",
    "r2_ajustada = 1 - (1 - regresion_lineal.score(X_test, y_test))*(len(y_test) - 1)/(len(y_test) - X_test.shape[1] - 1)"
   ]
  },
  {
   "cell_type": "code",
   "execution_count": null,
   "id": "c67ece12",
   "metadata": {},
   "outputs": [],
   "source": [
    "print(f\"MAE:\\t {mean_absolute_error(yhat, y_test)}\")\n",
    "print(f\"MSE:\\t {mean_squared_error(yhat, y_test)}\")\n",
    "print(f\"R**2:\\t {r2_score(yhat, y_test)}\")\n",
    "print(f\"RAE:\\t {RAE}\")\n",
    "print(f\"RSE:\\t {RSE}\")\n",
    "print(f\"Adjusted R**2:\\t {r2_ajustada}\")"
   ]
  },
  {
   "cell_type": "code",
   "execution_count": null,
   "id": "8809447a",
   "metadata": {},
   "outputs": [],
   "source": [
    "# Veamos los valores de yhat, y_test y su diferencia\n",
    "\n",
    "df_pred = pd.DataFrame()\n",
    "\n",
    "df_pred[\"y_test\"] = scaler_y.inverse_transform([y_test]).flatten()\n",
    "df_pred[\"yhat\"] = scaler_y.inverse_transform([yhat]).flatten()\n",
    "\n",
    "df_pred[\"diferencia\"] = round(abs((df_pred[\"y_test\"] - df_pred[\"yhat\"]) / df_pred[\"y_test\"] * 100), 4)\n",
    "\n",
    "df_pred = df_pred.sort_values(\"diferencia\")\n",
    "\n",
    "df_pred.head(20)"
   ]
  },
  {
   "cell_type": "code",
   "execution_count": null,
   "id": "0a236c4e",
   "metadata": {},
   "outputs": [],
   "source": [
    "df_pred.tail(20)"
   ]
  },
  {
   "cell_type": "code",
   "execution_count": null,
   "id": "17e301cb",
   "metadata": {},
   "outputs": [],
   "source": [
    "# Distance btw real and predicted values\n",
    "\n",
    "plt.figure(figsize = (8, 5))\n",
    "\n",
    "sns.scatterplot(x = y_test.flatten(), y = yhat.flatten(), alpha = 0.5, color = \"blue\")\n",
    "\n",
    "plt.xlabel(\"Valores Reales (y_train)\", size = 18)\n",
    "plt.ylabel(\"Predicciones (yhat)\", size = 18)\n",
    "\n",
    "plt.show()"
   ]
  },
  {
   "cell_type": "markdown",
   "id": "d9ee7d79",
   "metadata": {},
   "source": [
    "# 2. KNeighborsRegressor"
   ]
  },
  {
   "cell_type": "code",
   "execution_count": null,
   "id": "45242239",
   "metadata": {},
   "outputs": [],
   "source": [
    "from sklearn.neighbors import KNeighborsRegressor"
   ]
  },
  {
   "cell_type": "code",
   "execution_count": null,
   "id": "dd2ab59c",
   "metadata": {},
   "outputs": [],
   "source": [
    "model = KNeighborsRegressor(n_neighbors = 7)\n",
    "\n",
    "model.fit(X_train, y_train)"
   ]
  },
  {
   "cell_type": "code",
   "execution_count": null,
   "id": "69ef795e",
   "metadata": {},
   "outputs": [],
   "source": [
    "yhat = model.predict(X_test)\n",
    "\n",
    "yhat"
   ]
  },
  {
   "cell_type": "code",
   "execution_count": null,
   "id": "9b798f06",
   "metadata": {},
   "outputs": [],
   "source": [
    "print(f\"MAE:\\t {mean_absolute_error(yhat, y_test)}\")\n",
    "print(f\"MSE:\\t {mean_squared_error(yhat, y_test)}\")\n",
    "print(f\"R**2:\\t {r2_score(yhat, y_test)}\")\n",
    "print(f\"RAE:\\t {RAE}\")\n",
    "print(f\"RSE:\\t {RSE}\")\n",
    "print(f\"Adjusted R**2:\\t {r2_ajustada}\")"
   ]
  },
  {
   "cell_type": "markdown",
   "id": "f404f8d7",
   "metadata": {},
   "source": [
    "# 3. DecisionTreeRegressor"
   ]
  },
  {
   "cell_type": "code",
   "execution_count": null,
   "id": "946c0ec0",
   "metadata": {},
   "outputs": [],
   "source": [
    "from sklearn.tree import DecisionTreeRegressor"
   ]
  },
  {
   "cell_type": "code",
   "execution_count": null,
   "id": "3adc7ec0",
   "metadata": {},
   "outputs": [],
   "source": [
    "model = DecisionTreeRegressor()\n",
    "model.fit(X_train, y_train)"
   ]
  },
  {
   "cell_type": "code",
   "execution_count": null,
   "id": "aa273264",
   "metadata": {},
   "outputs": [],
   "source": [
    "yhat = model.predict(X_test)\n",
    "\n",
    "yhat"
   ]
  },
  {
   "cell_type": "code",
   "execution_count": null,
   "id": "2e9f1471",
   "metadata": {},
   "outputs": [],
   "source": [
    "print(f\"MAE:\\t {mean_absolute_error(yhat, y_test)}\")\n",
    "print(f\"MSE:\\t {mean_squared_error(yhat, y_test)}\")\n",
    "print(f\"R**2:\\t {r2_score(yhat, y_test)}\")\n",
    "print(f\"RAE:\\t {RAE}\")\n",
    "print(f\"RSE:\\t {RSE}\")\n",
    "print(f\"Adjusted R**2:\\t {r2_ajustada}\")"
   ]
  },
  {
   "cell_type": "markdown",
   "id": "1cf8ce5b",
   "metadata": {},
   "source": [
    "# 4. RandomForestRegressor"
   ]
  },
  {
   "cell_type": "code",
   "execution_count": null,
   "id": "181d6eb7",
   "metadata": {},
   "outputs": [],
   "source": [
    "from sklearn.ensemble import RandomForestRegressor"
   ]
  },
  {
   "cell_type": "code",
   "execution_count": null,
   "id": "fd8d8b69",
   "metadata": {},
   "outputs": [],
   "source": [
    "model = RandomForestRegressor()\n",
    "model.fit(X_train, y_train)"
   ]
  },
  {
   "cell_type": "code",
   "execution_count": null,
   "id": "a5024367",
   "metadata": {},
   "outputs": [],
   "source": [
    "yhat = model.predict(X_test)\n",
    "\n",
    "yhat"
   ]
  },
  {
   "cell_type": "code",
   "execution_count": null,
   "id": "e6c40dc2",
   "metadata": {},
   "outputs": [],
   "source": [
    "print(f\"MAE:\\t {mean_absolute_error(yhat, y_test)}\")\n",
    "print(f\"MSE:\\t {mean_squared_error(yhat, y_test)}\")\n",
    "print(f\"R**2:\\t {r2_score(yhat, y_test)}\")\n",
    "print(f\"RAE:\\t {RAE}\")\n",
    "print(f\"RSE:\\t {RSE}\")\n",
    "print(f\"Adjusted R**2:\\t {r2_ajustada}\")"
   ]
  },
  {
   "cell_type": "markdown",
   "id": "8fa80f95",
   "metadata": {},
   "source": [
    "# 4. AdaBoostRegressor"
   ]
  },
  {
   "cell_type": "code",
   "execution_count": null,
   "id": "bd686098",
   "metadata": {},
   "outputs": [],
   "source": [
    "from sklearn.ensemble import AdaBoostRegressor"
   ]
  },
  {
   "cell_type": "code",
   "execution_count": null,
   "id": "eef5b7de",
   "metadata": {},
   "outputs": [],
   "source": [
    "model = AdaBoostRegressor(n_estimators = 50)\n",
    "model.fit(X_train, y_train)\n"
   ]
  },
  {
   "cell_type": "code",
   "execution_count": null,
   "id": "4729ea6a",
   "metadata": {},
   "outputs": [],
   "source": [
    "yhat = model.predict(X_test)\n",
    "\n",
    "yhat"
   ]
  },
  {
   "cell_type": "code",
   "execution_count": null,
   "id": "dc3b750c",
   "metadata": {},
   "outputs": [],
   "source": [
    "print(f\"MAE:\\t {mean_absolute_error(yhat, y_test)}\")\n",
    "print(f\"MSE:\\t {mean_squared_error(yhat, y_test)}\")\n",
    "print(f\"R**2:\\t {r2_score(yhat, y_test)}\")\n",
    "print(f\"RAE:\\t {RAE}\")\n",
    "print(f\"RSE:\\t {RSE}\")\n",
    "print(f\"Adjusted R**2:\\t {r2_ajustada}\")"
   ]
  },
  {
   "cell_type": "code",
   "execution_count": null,
   "id": "0861fc78",
   "metadata": {},
   "outputs": [],
   "source": [
    "model.base_estimator_"
   ]
  },
  {
   "cell_type": "code",
   "execution_count": null,
   "id": "58c6d7c1",
   "metadata": {},
   "outputs": [],
   "source": [
    "plt.plot(model.estimator_errors_, marker = \"o\", color = \"red\", linestyle = \"\")\n",
    "plt.show()"
   ]
  },
  {
   "cell_type": "code",
   "execution_count": null,
   "id": "a537272f",
   "metadata": {},
   "outputs": [],
   "source": [
    "model.feature_importances_"
   ]
  },
  {
   "cell_type": "code",
   "execution_count": null,
   "id": "81e794cd",
   "metadata": {},
   "outputs": [],
   "source": [
    "df.columns"
   ]
  },
  {
   "cell_type": "code",
   "execution_count": null,
   "id": "2edd9430",
   "metadata": {},
   "outputs": [],
   "source": []
  },
  {
   "cell_type": "code",
   "execution_count": null,
   "id": "893ed450",
   "metadata": {},
   "outputs": [],
   "source": []
  },
  {
   "cell_type": "code",
   "execution_count": null,
   "id": "43e084e8",
   "metadata": {},
   "outputs": [],
   "source": []
  },
  {
   "cell_type": "code",
   "execution_count": null,
   "id": "f5e1d38c",
   "metadata": {},
   "outputs": [],
   "source": []
  },
  {
   "cell_type": "code",
   "execution_count": null,
   "id": "de2aada5",
   "metadata": {},
   "outputs": [],
   "source": [
    "import pickle\n",
    "from sklearn.ensemble import RandomForestClassifier\n",
    "\n",
    "model = RandomForestClassifier()\n",
    "model.fit(X_train, y_train)\n",
    "\n",
    "# Exportar modelos usando pickle con extensión \".sav\"\n",
    "with open(\"random_forest_clf.sav\", \"wb\") as file:\n",
    "    pickle.dump(model, file)\n",
    "    \n",
    "# Importar modelos usando pickle con extensión \".sav\"\n",
    "with open(\"random_forest_clf.sav\", \"rb\") as file:\n",
    "    model = pickle.load(file)\n",
    "    \n",
    "# También se puede usar extensión \".pkl\""
   ]
  },
  {
   "cell_type": "code",
   "execution_count": null,
   "id": "487e8b65",
   "metadata": {},
   "outputs": [],
   "source": []
  },
  {
   "cell_type": "code",
   "execution_count": null,
   "id": "58f55367",
   "metadata": {},
   "outputs": [],
   "source": []
  },
  {
   "cell_type": "code",
   "execution_count": null,
   "id": "ddb0d985",
   "metadata": {},
   "outputs": [],
   "source": []
  },
  {
   "cell_type": "markdown",
   "id": "6c9d463c",
   "metadata": {},
   "source": [
    "# Mapa"
   ]
  },
  {
   "cell_type": "code",
   "execution_count": null,
   "id": "8441376d",
   "metadata": {},
   "outputs": [],
   "source": [
    "# df.columns"
   ]
  },
  {
   "cell_type": "code",
   "execution_count": null,
   "id": "8822fcbf",
   "metadata": {},
   "outputs": [],
   "source": [
    "# df['neighbourhood_group_cleansed'].unique()"
   ]
  },
  {
   "cell_type": "code",
   "execution_count": null,
   "id": "10c2cd9a",
   "metadata": {},
   "outputs": [],
   "source": [
    "# with open(\"neighbourhoods.geojson\", \"r\") as file:\n",
    "    \n",
    "#     geojson = file.read()\n",
    "    \n",
    "# pprint(geojson)"
   ]
  },
  {
   "cell_type": "code",
   "execution_count": null,
   "id": "3572486d",
   "metadata": {
    "scrolled": true
   },
   "outputs": [],
   "source": [
    "# df_map = df.groupby('neighbourhood_group_cleansed', as_index=False).mean()\n",
    "# df_map"
   ]
  },
  {
   "cell_type": "code",
   "execution_count": null,
   "id": "cd0db3af",
   "metadata": {},
   "outputs": [],
   "source": [
    "# df_map = df_map[df_map[\"price\"]<200]"
   ]
  },
  {
   "cell_type": "code",
   "execution_count": null,
   "id": "9e27abff",
   "metadata": {},
   "outputs": [],
   "source": [
    "# df_map"
   ]
  },
  {
   "cell_type": "code",
   "execution_count": null,
   "id": "6542a3e6",
   "metadata": {},
   "outputs": [],
   "source": [
    "# sns.histplot(df_map[\"price\"])"
   ]
  },
  {
   "cell_type": "code",
   "execution_count": null,
   "id": "4f42cfd3",
   "metadata": {},
   "outputs": [],
   "source": [
    "# world_map = folium.Map(location = [40.18893909782826, -3.938873736090105], zoom_start =12)\n",
    "\n",
    "# folium.Choropleth(geo_data     = geojson,\n",
    "#                   data         = df_map,\n",
    "#                   columns      = [\"neighbourhood_group_cleansed\", \"price\"],\n",
    "#                   key_on       = \"feature.properties.neighbourhood_group\",\n",
    "#                   fill_color   = \"Blues_r\", \n",
    "#                   fill_opacity = 0.7, \n",
    "#                   line_opacity = 0.2,\n",
    "#                   legend_name  = \"Precio airbnb\",\n",
    "#                   bins         = 253,\n",
    "#                   highlight    = True).add_to(world_map)\n",
    "\n",
    "# world_map"
   ]
  }
 ],
 "metadata": {
  "kernelspec": {
   "display_name": "Python 3 (ipykernel)",
   "language": "python",
   "name": "python3"
  },
  "language_info": {
   "codemirror_mode": {
    "name": "ipython",
    "version": 3
   },
   "file_extension": ".py",
   "mimetype": "text/x-python",
   "name": "python",
   "nbconvert_exporter": "python",
   "pygments_lexer": "ipython3",
   "version": "3.9.13"
  }
 },
 "nbformat": 4,
 "nbformat_minor": 5
}
