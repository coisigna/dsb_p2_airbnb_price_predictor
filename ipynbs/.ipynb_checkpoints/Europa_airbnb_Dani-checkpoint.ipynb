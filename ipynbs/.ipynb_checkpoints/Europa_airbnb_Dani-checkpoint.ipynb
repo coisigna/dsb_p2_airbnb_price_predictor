{
 "cells": [
  {
   "cell_type": "code",
   "execution_count": 1,
   "id": "f38379df",
   "metadata": {},
   "outputs": [],
   "source": [
    "import numpy as np\n",
    "import pandas as pd\n",
    "import matplotlib.pyplot as plt\n",
    "import seaborn as sns\n",
    "import json"
   ]
  },
  {
   "cell_type": "code",
   "execution_count": 2,
   "id": "e168d8ce",
   "metadata": {
    "scrolled": true
   },
   "outputs": [
    {
     "ename": "FileNotFoundError",
     "evalue": "[Errno 2] No such file or directory: 'madrid.csv'",
     "output_type": "error",
     "traceback": [
      "\u001b[0;31m---------------------------------------------------------------------------\u001b[0m",
      "\u001b[0;31mFileNotFoundError\u001b[0m                         Traceback (most recent call last)",
      "\u001b[0;32m/var/folders/10/5nbnv2696vlgb605wf3g6wwh0000gn/T/ipykernel_6496/2696470637.py\u001b[0m in \u001b[0;36m<module>\u001b[0;34m\u001b[0m\n\u001b[0;32m----> 1\u001b[0;31m \u001b[0mdf_madrid\u001b[0m \u001b[0;34m=\u001b[0m \u001b[0mpd\u001b[0m\u001b[0;34m.\u001b[0m\u001b[0mread_csv\u001b[0m\u001b[0;34m(\u001b[0m\u001b[0;34m\"madrid.csv\"\u001b[0m\u001b[0;34m)\u001b[0m\u001b[0;34m\u001b[0m\u001b[0;34m\u001b[0m\u001b[0m\n\u001b[0m\u001b[1;32m      2\u001b[0m \u001b[0mdf_rome\u001b[0m \u001b[0;34m=\u001b[0m \u001b[0mpd\u001b[0m\u001b[0;34m.\u001b[0m\u001b[0mread_csv\u001b[0m\u001b[0;34m(\u001b[0m\u001b[0;34m\"rome.csv\"\u001b[0m\u001b[0;34m)\u001b[0m\u001b[0;34m\u001b[0m\u001b[0;34m\u001b[0m\u001b[0m\n\u001b[1;32m      3\u001b[0m \u001b[0mdf_paris\u001b[0m \u001b[0;34m=\u001b[0m \u001b[0mpd\u001b[0m\u001b[0;34m.\u001b[0m\u001b[0mread_csv\u001b[0m\u001b[0;34m(\u001b[0m\u001b[0;34m\"paris.csv\"\u001b[0m\u001b[0;34m)\u001b[0m\u001b[0;34m\u001b[0m\u001b[0;34m\u001b[0m\u001b[0m\n\u001b[1;32m      4\u001b[0m \u001b[0mdf_oslo\u001b[0m \u001b[0;34m=\u001b[0m \u001b[0mpd\u001b[0m\u001b[0;34m.\u001b[0m\u001b[0mread_csv\u001b[0m\u001b[0;34m(\u001b[0m\u001b[0;34m\"oslo.csv\"\u001b[0m\u001b[0;34m)\u001b[0m\u001b[0;34m\u001b[0m\u001b[0;34m\u001b[0m\u001b[0m\n\u001b[1;32m      5\u001b[0m \u001b[0mdf_london\u001b[0m \u001b[0;34m=\u001b[0m \u001b[0mpd\u001b[0m\u001b[0;34m.\u001b[0m\u001b[0mread_csv\u001b[0m\u001b[0;34m(\u001b[0m\u001b[0;34m\"london.csv\"\u001b[0m\u001b[0;34m)\u001b[0m\u001b[0;34m\u001b[0m\u001b[0;34m\u001b[0m\u001b[0m\n",
      "\u001b[0;32m~/opt/anaconda3/lib/python3.9/site-packages/pandas/util/_decorators.py\u001b[0m in \u001b[0;36mwrapper\u001b[0;34m(*args, **kwargs)\u001b[0m\n\u001b[1;32m    309\u001b[0m                     \u001b[0mstacklevel\u001b[0m\u001b[0;34m=\u001b[0m\u001b[0mstacklevel\u001b[0m\u001b[0;34m,\u001b[0m\u001b[0;34m\u001b[0m\u001b[0;34m\u001b[0m\u001b[0m\n\u001b[1;32m    310\u001b[0m                 )\n\u001b[0;32m--> 311\u001b[0;31m             \u001b[0;32mreturn\u001b[0m \u001b[0mfunc\u001b[0m\u001b[0;34m(\u001b[0m\u001b[0;34m*\u001b[0m\u001b[0margs\u001b[0m\u001b[0;34m,\u001b[0m \u001b[0;34m**\u001b[0m\u001b[0mkwargs\u001b[0m\u001b[0;34m)\u001b[0m\u001b[0;34m\u001b[0m\u001b[0;34m\u001b[0m\u001b[0m\n\u001b[0m\u001b[1;32m    312\u001b[0m \u001b[0;34m\u001b[0m\u001b[0m\n\u001b[1;32m    313\u001b[0m         \u001b[0;32mreturn\u001b[0m \u001b[0mwrapper\u001b[0m\u001b[0;34m\u001b[0m\u001b[0;34m\u001b[0m\u001b[0m\n",
      "\u001b[0;32m~/opt/anaconda3/lib/python3.9/site-packages/pandas/io/parsers/readers.py\u001b[0m in \u001b[0;36mread_csv\u001b[0;34m(filepath_or_buffer, sep, delimiter, header, names, index_col, usecols, squeeze, prefix, mangle_dupe_cols, dtype, engine, converters, true_values, false_values, skipinitialspace, skiprows, skipfooter, nrows, na_values, keep_default_na, na_filter, verbose, skip_blank_lines, parse_dates, infer_datetime_format, keep_date_col, date_parser, dayfirst, cache_dates, iterator, chunksize, compression, thousands, decimal, lineterminator, quotechar, quoting, doublequote, escapechar, comment, encoding, encoding_errors, dialect, error_bad_lines, warn_bad_lines, on_bad_lines, delim_whitespace, low_memory, memory_map, float_precision, storage_options)\u001b[0m\n\u001b[1;32m    676\u001b[0m     \u001b[0mkwds\u001b[0m\u001b[0;34m.\u001b[0m\u001b[0mupdate\u001b[0m\u001b[0;34m(\u001b[0m\u001b[0mkwds_defaults\u001b[0m\u001b[0;34m)\u001b[0m\u001b[0;34m\u001b[0m\u001b[0;34m\u001b[0m\u001b[0m\n\u001b[1;32m    677\u001b[0m \u001b[0;34m\u001b[0m\u001b[0m\n\u001b[0;32m--> 678\u001b[0;31m     \u001b[0;32mreturn\u001b[0m \u001b[0m_read\u001b[0m\u001b[0;34m(\u001b[0m\u001b[0mfilepath_or_buffer\u001b[0m\u001b[0;34m,\u001b[0m \u001b[0mkwds\u001b[0m\u001b[0;34m)\u001b[0m\u001b[0;34m\u001b[0m\u001b[0;34m\u001b[0m\u001b[0m\n\u001b[0m\u001b[1;32m    679\u001b[0m \u001b[0;34m\u001b[0m\u001b[0m\n\u001b[1;32m    680\u001b[0m \u001b[0;34m\u001b[0m\u001b[0m\n",
      "\u001b[0;32m~/opt/anaconda3/lib/python3.9/site-packages/pandas/io/parsers/readers.py\u001b[0m in \u001b[0;36m_read\u001b[0;34m(filepath_or_buffer, kwds)\u001b[0m\n\u001b[1;32m    573\u001b[0m \u001b[0;34m\u001b[0m\u001b[0m\n\u001b[1;32m    574\u001b[0m     \u001b[0;31m# Create the parser.\u001b[0m\u001b[0;34m\u001b[0m\u001b[0;34m\u001b[0m\u001b[0m\n\u001b[0;32m--> 575\u001b[0;31m     \u001b[0mparser\u001b[0m \u001b[0;34m=\u001b[0m \u001b[0mTextFileReader\u001b[0m\u001b[0;34m(\u001b[0m\u001b[0mfilepath_or_buffer\u001b[0m\u001b[0;34m,\u001b[0m \u001b[0;34m**\u001b[0m\u001b[0mkwds\u001b[0m\u001b[0;34m)\u001b[0m\u001b[0;34m\u001b[0m\u001b[0;34m\u001b[0m\u001b[0m\n\u001b[0m\u001b[1;32m    576\u001b[0m \u001b[0;34m\u001b[0m\u001b[0m\n\u001b[1;32m    577\u001b[0m     \u001b[0;32mif\u001b[0m \u001b[0mchunksize\u001b[0m \u001b[0;32mor\u001b[0m \u001b[0miterator\u001b[0m\u001b[0;34m:\u001b[0m\u001b[0;34m\u001b[0m\u001b[0;34m\u001b[0m\u001b[0m\n",
      "\u001b[0;32m~/opt/anaconda3/lib/python3.9/site-packages/pandas/io/parsers/readers.py\u001b[0m in \u001b[0;36m__init__\u001b[0;34m(self, f, engine, **kwds)\u001b[0m\n\u001b[1;32m    930\u001b[0m \u001b[0;34m\u001b[0m\u001b[0m\n\u001b[1;32m    931\u001b[0m         \u001b[0mself\u001b[0m\u001b[0;34m.\u001b[0m\u001b[0mhandles\u001b[0m\u001b[0;34m:\u001b[0m \u001b[0mIOHandles\u001b[0m \u001b[0;34m|\u001b[0m \u001b[0;32mNone\u001b[0m \u001b[0;34m=\u001b[0m \u001b[0;32mNone\u001b[0m\u001b[0;34m\u001b[0m\u001b[0;34m\u001b[0m\u001b[0m\n\u001b[0;32m--> 932\u001b[0;31m         \u001b[0mself\u001b[0m\u001b[0;34m.\u001b[0m\u001b[0m_engine\u001b[0m \u001b[0;34m=\u001b[0m \u001b[0mself\u001b[0m\u001b[0;34m.\u001b[0m\u001b[0m_make_engine\u001b[0m\u001b[0;34m(\u001b[0m\u001b[0mf\u001b[0m\u001b[0;34m,\u001b[0m \u001b[0mself\u001b[0m\u001b[0;34m.\u001b[0m\u001b[0mengine\u001b[0m\u001b[0;34m)\u001b[0m\u001b[0;34m\u001b[0m\u001b[0;34m\u001b[0m\u001b[0m\n\u001b[0m\u001b[1;32m    933\u001b[0m \u001b[0;34m\u001b[0m\u001b[0m\n\u001b[1;32m    934\u001b[0m     \u001b[0;32mdef\u001b[0m \u001b[0mclose\u001b[0m\u001b[0;34m(\u001b[0m\u001b[0mself\u001b[0m\u001b[0;34m)\u001b[0m\u001b[0;34m:\u001b[0m\u001b[0;34m\u001b[0m\u001b[0;34m\u001b[0m\u001b[0m\n",
      "\u001b[0;32m~/opt/anaconda3/lib/python3.9/site-packages/pandas/io/parsers/readers.py\u001b[0m in \u001b[0;36m_make_engine\u001b[0;34m(self, f, engine)\u001b[0m\n\u001b[1;32m   1214\u001b[0m             \u001b[0;31m# \"Union[str, PathLike[str], ReadCsvBuffer[bytes], ReadCsvBuffer[str]]\"\u001b[0m\u001b[0;34m\u001b[0m\u001b[0;34m\u001b[0m\u001b[0m\n\u001b[1;32m   1215\u001b[0m             \u001b[0;31m# , \"str\", \"bool\", \"Any\", \"Any\", \"Any\", \"Any\", \"Any\"\u001b[0m\u001b[0;34m\u001b[0m\u001b[0;34m\u001b[0m\u001b[0m\n\u001b[0;32m-> 1216\u001b[0;31m             self.handles = get_handle(  # type: ignore[call-overload]\n\u001b[0m\u001b[1;32m   1217\u001b[0m                 \u001b[0mf\u001b[0m\u001b[0;34m,\u001b[0m\u001b[0;34m\u001b[0m\u001b[0;34m\u001b[0m\u001b[0m\n\u001b[1;32m   1218\u001b[0m                 \u001b[0mmode\u001b[0m\u001b[0;34m,\u001b[0m\u001b[0;34m\u001b[0m\u001b[0;34m\u001b[0m\u001b[0m\n",
      "\u001b[0;32m~/opt/anaconda3/lib/python3.9/site-packages/pandas/io/common.py\u001b[0m in \u001b[0;36mget_handle\u001b[0;34m(path_or_buf, mode, encoding, compression, memory_map, is_text, errors, storage_options)\u001b[0m\n\u001b[1;32m    784\u001b[0m         \u001b[0;32mif\u001b[0m \u001b[0mioargs\u001b[0m\u001b[0;34m.\u001b[0m\u001b[0mencoding\u001b[0m \u001b[0;32mand\u001b[0m \u001b[0;34m\"b\"\u001b[0m \u001b[0;32mnot\u001b[0m \u001b[0;32min\u001b[0m \u001b[0mioargs\u001b[0m\u001b[0;34m.\u001b[0m\u001b[0mmode\u001b[0m\u001b[0;34m:\u001b[0m\u001b[0;34m\u001b[0m\u001b[0;34m\u001b[0m\u001b[0m\n\u001b[1;32m    785\u001b[0m             \u001b[0;31m# Encoding\u001b[0m\u001b[0;34m\u001b[0m\u001b[0;34m\u001b[0m\u001b[0m\n\u001b[0;32m--> 786\u001b[0;31m             handle = open(\n\u001b[0m\u001b[1;32m    787\u001b[0m                 \u001b[0mhandle\u001b[0m\u001b[0;34m,\u001b[0m\u001b[0;34m\u001b[0m\u001b[0;34m\u001b[0m\u001b[0m\n\u001b[1;32m    788\u001b[0m                 \u001b[0mioargs\u001b[0m\u001b[0;34m.\u001b[0m\u001b[0mmode\u001b[0m\u001b[0;34m,\u001b[0m\u001b[0;34m\u001b[0m\u001b[0;34m\u001b[0m\u001b[0m\n",
      "\u001b[0;31mFileNotFoundError\u001b[0m: [Errno 2] No such file or directory: 'madrid.csv'"
     ]
    }
   ],
   "source": [
    "df_madrid = pd.read_csv(\"madrid.csv\")\n",
    "df_rome = pd.read_csv(\"rome.csv\")\n",
    "df_paris = pd.read_csv(\"paris.csv\")\n",
    "df_oslo = pd.read_csv(\"oslo.csv\")\n",
    "df_london = pd.read_csv(\"london.csv\")\n",
    "df_geneva = pd.read_csv(\"geneva.csv\")\n",
    "df_dublin = pd.read_csv(\"dublin.csv\")\n",
    "df_barcelona = pd.read_csv(\"barcelona.csv\")\n",
    "df_athens = pd.read_csv(\"athens.csv\")\n",
    "df_amsterdam = pd.read_csv(\"amsterdam.csv\")\n",
    "\n",
    "\n",
    "l_dataframes = [df_madrid, df_barcelona, df_rome, df_paris, df_oslo, df_london, df_geneva, df_dublin, df_athens, df_amsterdam]"
   ]
  },
  {
   "cell_type": "code",
   "execution_count": null,
   "id": "7334945c",
   "metadata": {},
   "outputs": [],
   "source": [
    "df_madrid[\"city\"] = \"madrid\"\n",
    "df_rome[\"city\"] = \"rome\"\n",
    "df_paris[\"city\"] = \"paris\"\n",
    "df_oslo[\"city\"] = \"oslo\"\n",
    "df_london[\"city\"] = \"london\"\n",
    "df_geneva[\"city\"] = \"geneva\"\n",
    "df_dublin[\"city\"] = \"dublin\"\n",
    "df_barcelona[\"city\"] = \"barcelona\"\n",
    "df_athens[\"city\"] = \"athens\"\n",
    "df_amsterdam[\"city\"] = \"amsterdam\""
   ]
  },
  {
   "cell_type": "code",
   "execution_count": null,
   "id": "ee1918f0",
   "metadata": {
    "scrolled": true
   },
   "outputs": [],
   "source": [
    "df_madrid"
   ]
  },
  {
   "cell_type": "code",
   "execution_count": null,
   "id": "fe7fa763",
   "metadata": {},
   "outputs": [],
   "source": [
    "for i in l_dataframes:\n",
    "    i.drop(\"source\", axis = 1, inplace = True)"
   ]
  },
  {
   "cell_type": "code",
   "execution_count": null,
   "id": "0735c9d5",
   "metadata": {},
   "outputs": [],
   "source": [
    "for i in l_dataframes:\n",
    "    print(i.shape) \n",
    "    "
   ]
  },
  {
   "cell_type": "code",
   "execution_count": null,
   "id": "9e0b6ffb",
   "metadata": {},
   "outputs": [],
   "source": []
  },
  {
   "cell_type": "code",
   "execution_count": null,
   "id": "4be346a4",
   "metadata": {
    "scrolled": true
   },
   "outputs": [],
   "source": [
    "df = pd.concat(l_dataframes)\n",
    "df"
   ]
  },
  {
   "cell_type": "code",
   "execution_count": null,
   "id": "2411b860",
   "metadata": {},
   "outputs": [],
   "source": [
    "# df[[\"reviews_per_month\"]]\n",
    "# df[\"reviews_per_month\"] = df[\"reviews_per_month\"].fillna(df[\"reviews_per_month\"].mean())"
   ]
  },
  {
   "cell_type": "code",
   "execution_count": null,
   "id": "6394893c",
   "metadata": {},
   "outputs": [],
   "source": [
    "# df[\"reviews_per_month\"]\n",
    "\n",
    "# from sklearn.impute import KNNImputer\n",
    "\n",
    "# imputer = KNNImputer(n_neighbors = 3)\n",
    "\n",
    "# df_num_imp = imputer.fit_transform(df[[\"reviews_per_month\"]])\n",
    "\n",
    "# df[\"reviews_per_month\"] = df_num_imp"
   ]
  },
  {
   "cell_type": "code",
   "execution_count": null,
   "id": "e9d60d2a",
   "metadata": {},
   "outputs": [],
   "source": [
    "columns_drop = [\"listing_url\", \"scrape_id\", \"last_scraped\", \"description\", \"picture_url\", \"host_url\", \"host_about\",\n",
    "                \"host_location\", \"name\", \"neighborhood_overview\", \"host_since\", \"host_thumbnail_url\", \"host_picture_url\",\n",
    "                \"host_neighbourhood\", \"host_listings_count\", \"host_has_profile_pic\", \"bathrooms\", \"calendar_updated\",\n",
    "                \"has_availability\", \"calendar_last_scraped\", \"number_of_reviews_ltm\", \"number_of_reviews_l30d\",\n",
    "                \"first_review\", \"last_review\", \"review_scores_rating\", \"review_scores_accuracy\", \"review_scores_cleanliness\",\n",
    "                \"review_scores_checkin\", \"review_scores_communication\", \"review_scores_location\", \"review_scores_value\",\n",
    "                \"license\", \"calculated_host_listings_count_entire_homes\", \"calculated_host_listings_count_private_rooms\",\n",
    "                \"calculated_host_listings_count_shared_rooms\", \"neighbourhood\", \"host_name\", \"calculated_host_listings_count\"]\n",
    "\n",
    "columns_maybe_drop = [\"host_response_time\", \"host_response_rate\", \"host_acceptance_rate\", \"host_is_superhost\",\n",
    "                      \"host_identity_verified\", \"minimum_minimum_nights\", \"minimum_minimum_nights\", \"maximum_minimum_nights\",\n",
    "                      \"minimum_maximum_nights\", \"maximum_maximum_nights\", \"minimum_nights_avg_ntm\", \"maximum_nights_avg_ntm\",\n",
    "                      \"availability_30\", \"availability_60\", \"availability_90\"]"
   ]
  },
  {
   "cell_type": "code",
   "execution_count": null,
   "id": "860390fa",
   "metadata": {},
   "outputs": [],
   "source": [
    "df.drop(columns = columns_drop + columns_maybe_drop, axis = 1, inplace = True)"
   ]
  },
  {
   "cell_type": "code",
   "execution_count": null,
   "id": "8b0ffe4d",
   "metadata": {},
   "outputs": [],
   "source": [
    "df.isna().sum()/df.shape[0]*100"
   ]
  },
  {
   "cell_type": "code",
   "execution_count": null,
   "id": "c34c5e4b",
   "metadata": {},
   "outputs": [],
   "source": [
    "# host_verifications: número de elementos en la lista\n",
    "df[\"host_verifications\"] = df[\"host_verifications\"].apply(lambda x : len(json.loads((x.replace(\"'\", '\"')))) if x != \"None\" else np.nan)"
   ]
  },
  {
   "cell_type": "code",
   "execution_count": null,
   "id": "28454e32",
   "metadata": {},
   "outputs": [],
   "source": [
    "# bathrooms_text: limpieza de columna\n",
    "\n",
    "df[\"bathrooms_text\"] = df[\"bathrooms_text\"].apply(lambda x : x.split(\" \")[0] if (type(x) == str) and (\"bath\" in x) else np.nan)\n",
    "\n",
    "bath_map = {\"Private\" : 1, \"Shared\" : 0.5, \"Half-bath\" : 0.5}\n",
    "\n",
    "df[\"bathrooms_text\"] = df[\"bathrooms_text\"].apply(lambda x : bath_map[x] if x in bath_map.keys() else float(x))"
   ]
  },
  {
   "cell_type": "code",
   "execution_count": null,
   "id": "1177defe",
   "metadata": {},
   "outputs": [],
   "source": [
    "import json\n",
    "l_amenities_cleaned = list()\n",
    "for i in df[\"amenities\"]:\n",
    "    \n",
    "    l_amenities_cleaned.append(json.loads(i))\n",
    "    \n",
    "# More relevant amenities, to see why check EDA\n",
    "\n",
    "\n",
    "l_amenities_valuables = ['Long term stays allowed','Cooking basics','Dishes and silverware','Essentials','Coffee maker','Hair dryer','Microwave','Refrigerator','Heating','Air conditioning']\n",
    "                         \n",
    "df_amenities_valuables = pd.DataFrame()\n",
    "\n",
    "for j in l_amenities_valuables:\n",
    "    \n",
    "    df[j] = [1 if j in i else 0 for i in l_amenities_cleaned]\n",
    "    \n",
    "df.drop(\"amenities\", axis =1, inplace=True)"
   ]
  },
  {
   "cell_type": "code",
   "execution_count": null,
   "id": "0f40f42b",
   "metadata": {},
   "outputs": [],
   "source": [
    "df"
   ]
  },
  {
   "cell_type": "code",
   "execution_count": null,
   "id": "43f22754",
   "metadata": {},
   "outputs": [],
   "source": [
    "# # amenities: número de elementos en la lista\n",
    "\n",
    "# list_amenities = list()\n",
    "\n",
    "# for num, x in enumerate(df[\"amenities\"].values):\n",
    "#     try:\n",
    "#         list_amenities.append(len(json.loads((x.replace(\"'\", '\"')))))\n",
    "        \n",
    "#     except:\n",
    "#         list_amenities.append(len(x.replace(\"'\", '\"').replace(\"\\\\\", \"\")))\n",
    "        \n",
    "        \n",
    "# df[\"amenities\"] = list_amenities"
   ]
  },
  {
   "cell_type": "code",
   "execution_count": null,
   "id": "7eb4d525",
   "metadata": {},
   "outputs": [],
   "source": [
    "# Quito esta columna por la cantidad de NaN's, pero creo que si estuviera el modelo daría mejores resultados\n",
    "# Se pueden llenar con KNNImputer\n",
    "\n",
    "# df.drop(\"reviews_per_month\", axis = 1, inplace = True)\n",
    "# df.dropna(inplace = True)"
   ]
  },
  {
   "cell_type": "code",
   "execution_count": null,
   "id": "28514435",
   "metadata": {},
   "outputs": [],
   "source": [
    "df"
   ]
  },
  {
   "cell_type": "code",
   "execution_count": null,
   "id": "f2ef2360",
   "metadata": {},
   "outputs": [],
   "source": [
    "df_num = df._get_numeric_data()\n",
    "df_num"
   ]
  },
  {
   "cell_type": "code",
   "execution_count": null,
   "id": "e561913d",
   "metadata": {},
   "outputs": [],
   "source": [
    "# Agrego la columna id para después hacer pd.merge()\n",
    "\n",
    "df_cat = df.drop(df_num.columns, axis = 1)\n",
    "df_cat = pd.concat([df_cat, df_num[[\"id\"]]], axis = 1)\n",
    "df_cat"
   ]
  },
  {
   "cell_type": "code",
   "execution_count": null,
   "id": "3128f480",
   "metadata": {},
   "outputs": [],
   "source": [
    "# Decido quedarme solo con \"neighbourhood_group_cleansed\"\n",
    "\n",
    "df_cat.drop([\"neighbourhood_group_cleansed\"], axis = 1, inplace = True)\n",
    "\n",
    "df_cat"
   ]
  },
  {
   "cell_type": "code",
   "execution_count": null,
   "id": "6960d18b",
   "metadata": {},
   "outputs": [],
   "source": [
    "# price: limpieza de columna\n",
    "df_cat[\"price\"] = df_cat[\"price\"].apply(lambda x : float(x.strip(\"$\").replace(\",\", \"\")))"
   ]
  },
  {
   "cell_type": "code",
   "execution_count": null,
   "id": "443e38f3",
   "metadata": {},
   "outputs": [],
   "source": [
    "# instant_bookable: transformar a 0 y 1\n",
    "df_cat[\"instant_bookable\"] = df_cat[\"instant_bookable\"].apply(lambda x : 0 if x == \"f\" else 1)"
   ]
  },
  {
   "cell_type": "code",
   "execution_count": null,
   "id": "0b321899",
   "metadata": {},
   "outputs": [],
   "source": [
    "# room_type: eliminar \"Hotel room\" y transformar a dummies\n",
    "\n",
    "df_cat = df_cat[df_cat[\"room_type\"] != \"Hotel room\"]\n",
    "\n",
    "df_cat = pd.concat([df_cat, pd.get_dummies(data = df_cat[\"room_type\"])], axis = 1).drop(\"room_type\", axis = 1)"
   ]
  },
  {
   "cell_type": "code",
   "execution_count": null,
   "id": "65958746",
   "metadata": {},
   "outputs": [],
   "source": [
    "ghjkgjhk"
   ]
  },
  {
   "cell_type": "code",
   "execution_count": null,
   "id": "8ecec769",
   "metadata": {
    "scrolled": true
   },
   "outputs": [],
   "source": [
    "df_cat"
   ]
  },
  {
   "cell_type": "code",
   "execution_count": null,
   "id": "8c396151",
   "metadata": {},
   "outputs": [],
   "source": [
    "# property_type está representada port la columnas dummies de room_type\n",
    "\n",
    "df_cat.drop(\"property_type\", axis = 1, inplace = True)"
   ]
  },
  {
   "cell_type": "code",
   "execution_count": null,
   "id": "0e561982",
   "metadata": {},
   "outputs": [],
   "source": [
    "# Uso el LabelEncoder para transformarlo a números sin ningún tipo de relación u orden\n",
    "\n",
    "from sklearn.preprocessing import LabelEncoder\n",
    "\n",
    "neighbourhood_group_encoder = LabelEncoder()\n",
    "df_cat[\"neighbourhood_cleansed\"] = neighbourhood_group_encoder.fit_transform(df_cat[\"neighbourhood_cleansed\"])"
   ]
  },
  {
   "cell_type": "code",
   "execution_count": null,
   "id": "d0af6e71",
   "metadata": {},
   "outputs": [],
   "source": []
  },
  {
   "cell_type": "code",
   "execution_count": null,
   "id": "b3380453",
   "metadata": {},
   "outputs": [],
   "source": [
    "from sklearn.preprocessing import LabelEncoder\n",
    "\n",
    "neighbourhood_group_encoder = LabelEncoder()\n",
    "df_cat[\"city\"] = neighbourhood_group_encoder.fit_transform(df_cat[\"city\"])"
   ]
  },
  {
   "cell_type": "code",
   "execution_count": null,
   "id": "5f35f245",
   "metadata": {},
   "outputs": [],
   "source": [
    "df = pd.merge(left = df_num, right = df_cat, on = \"id\")\n",
    "\n",
    "df"
   ]
  },
  {
   "cell_type": "code",
   "execution_count": null,
   "id": "1561403a",
   "metadata": {},
   "outputs": [],
   "source": [
    "df.dropna(inplace = True)"
   ]
  },
  {
   "cell_type": "markdown",
   "id": "a941b722",
   "metadata": {},
   "source": [
    "### Outliers"
   ]
  },
  {
   "cell_type": "code",
   "execution_count": null,
   "id": "6c845f39",
   "metadata": {},
   "outputs": [],
   "source": [
    "df"
   ]
  },
  {
   "cell_type": "code",
   "execution_count": null,
   "id": "7d330484",
   "metadata": {},
   "outputs": [],
   "source": [
    "df[\"bathrooms_text\"] = df[\"bathrooms_text\"].apply(lambda x : np.ceil(x))"
   ]
  },
  {
   "cell_type": "code",
   "execution_count": null,
   "id": "059a99fa",
   "metadata": {},
   "outputs": [],
   "source": [
    "# Eliminé outliers solo viendo las gráficas\n",
    "# Elimino alrededor de 4000 filas (muchísimo)\n",
    "\n",
    "df = df[df[\"accommodates\"] <= 8]\n",
    "df = df[df[\"bathrooms_text\"].between(1, 2)]\n",
    "df = df[df[\"bedrooms\"] <= 4]\n",
    "df = df[df[\"beds\"].between(1, 5)]\n",
    "#df = df[df[\"amenities\"] <= 50]\n",
    "df = df[df[\"minimum_nights\"] <= 30]\n",
    "df = df[df[\"number_of_reviews\"] <= 300]\n",
    "df = df[df[\"reviews_per_month\"] <= 8]\n",
    "df = df[df[\"price\"] <= 400]\n",
    "# df = df[df[\"host_total_listings_count\"] <= 40]"
   ]
  },
  {
   "cell_type": "code",
   "execution_count": null,
   "id": "361d3feb",
   "metadata": {},
   "outputs": [],
   "source": [
    "# Elimono \"Shared room\" por el desbalance, casí no aparace en comparación a los otros\n",
    "\n",
    "df.drop(\"Shared room\", axis = 1, inplace = True)"
   ]
  },
  {
   "cell_type": "code",
   "execution_count": null,
   "id": "443fde46",
   "metadata": {},
   "outputs": [],
   "source": [
    "df"
   ]
  },
  {
   "cell_type": "markdown",
   "id": "9875d78a",
   "metadata": {},
   "source": [
    "### Normalizar"
   ]
  },
  {
   "cell_type": "code",
   "execution_count": null,
   "id": "d5779fb3",
   "metadata": {},
   "outputs": [],
   "source": [
    "from sklearn.preprocessing import MinMaxScaler\n",
    "\n",
    "x_scaler = MinMaxScaler()\n",
    "df[df.drop(\"price\", axis = 1).columns] = x_scaler.fit_transform(df[df.drop(\"price\", axis = 1).columns])\n",
    "\n",
    "y_scaler = MinMaxScaler()\n",
    "df[\"price\"] = y_scaler.fit_transform(df[[\"price\"]]).flatten()"
   ]
  },
  {
   "cell_type": "code",
   "execution_count": null,
   "id": "595629ca",
   "metadata": {},
   "outputs": [],
   "source": [
    "df.drop([\"host_id\", \"id\", \"latitude\", \"longitude\"], axis = 1, inplace = True)"
   ]
  },
  {
   "cell_type": "code",
   "execution_count": null,
   "id": "d6c22340",
   "metadata": {},
   "outputs": [],
   "source": [
    "df.drop([\"instant_bookable\", \"host_verifications\"], axis = 1, inplace = True)"
   ]
  },
  {
   "cell_type": "code",
   "execution_count": null,
   "id": "ba299adc",
   "metadata": {},
   "outputs": [],
   "source": [
    "df.dropna(inplace=True)"
   ]
  },
  {
   "cell_type": "code",
   "execution_count": null,
   "id": "3e98df6a",
   "metadata": {},
   "outputs": [],
   "source": [
    "df.columns"
   ]
  },
  {
   "cell_type": "code",
   "execution_count": null,
   "id": "38f824da",
   "metadata": {},
   "outputs": [],
   "source": [
    "X = df.drop([\"price\"], axis = 1)\n",
    "y = df[\"price\"]\n",
    "\n",
    "print(X.shape, y.shape)"
   ]
  },
  {
   "cell_type": "markdown",
   "id": "2dd4910e",
   "metadata": {},
   "source": [
    "### Train, Test"
   ]
  },
  {
   "cell_type": "code",
   "execution_count": null,
   "id": "d805ccb8",
   "metadata": {},
   "outputs": [],
   "source": [
    "from sklearn.model_selection import train_test_split\n",
    "\n",
    "X_train, X_test, y_train, y_test = train_test_split(X, y, test_size = 0.2, random_state = 42)\n",
    "\n",
    "print(f\"X_train: {X_train.shape} | y_train: {y_train.shape}\")\n",
    "print(f\"X_test: {X_test.shape} | y_test: {y_test.shape}\")"
   ]
  },
  {
   "cell_type": "code",
   "execution_count": null,
   "id": "f7b1301d",
   "metadata": {},
   "outputs": [],
   "source": []
  },
  {
   "cell_type": "markdown",
   "id": "265708fd",
   "metadata": {},
   "source": [
    "### Modelos y Métricas"
   ]
  },
  {
   "cell_type": "code",
   "execution_count": null,
   "id": "c192b3c4",
   "metadata": {},
   "outputs": [],
   "source": [
    "# Modelos\n",
    "from sklearn.linear_model import LinearRegression\n",
    "from sklearn.neighbors import KNeighborsRegressor\n",
    "from sklearn.tree import DecisionTreeRegressor\n",
    "from sklearn.svm import SVR\n",
    "from sklearn.ensemble import RandomForestRegressor\n",
    "from sklearn.ensemble import AdaBoostRegressor\n",
    "from sklearn.ensemble import GradientBoostingRegressor\n",
    "\n",
    "# Métricas\n",
    "from sklearn.metrics import r2_score\n",
    "from sklearn.metrics import mean_squared_error"
   ]
  },
  {
   "cell_type": "code",
   "execution_count": null,
   "id": "429f3269",
   "metadata": {},
   "outputs": [],
   "source": [
    "%%time\n",
    "\n",
    "modelos = [LinearRegression(), KNeighborsRegressor(), DecisionTreeRegressor(),\n",
    "           RandomForestRegressor(), SVR(), AdaBoostRegressor(), GradientBoostingRegressor()]\n",
    "\n",
    "metricas = list() \n",
    "\n",
    "for model in modelos:\n",
    "    \n",
    "    # fit\n",
    "    model.fit(X_train, y_train)\n",
    "    \n",
    "    # predict\n",
    "    yhat = model.predict(X_test)\n",
    "    \n",
    "    # metrics\n",
    "    r2 = r2_score(y_test, yhat)\n",
    "    mse = mean_squared_error(y_test, yhat)\n",
    "    \n",
    "    metricas.append([str(model), r2, mse, model])\n",
    "    \n",
    "df_metricas = pd.DataFrame(data = metricas, columns = [\"model_name\", \"r2\", \"mse\", \"model\"])\n",
    "\n",
    "df_metricas.sort_values(by = \"r2\", ascending = False)"
   ]
  },
  {
   "cell_type": "code",
   "execution_count": null,
   "id": "a4bfa989",
   "metadata": {},
   "outputs": [],
   "source": [
    "modelo = df_metricas[\"model\"][3]\n",
    "\n",
    "modelo"
   ]
  },
  {
   "cell_type": "code",
   "execution_count": null,
   "id": "7a20c64e",
   "metadata": {},
   "outputs": [],
   "source": [
    "importances = np.argsort(modelo.feature_importances_)[::-1]\n",
    "\n",
    "for i in importances:\n",
    "    \n",
    "    print(i, modelo.feature_importances_[i]*100, df.drop(\"price\", axis = 1).columns[i])"
   ]
  },
  {
   "cell_type": "code",
   "execution_count": null,
   "id": "57058490",
   "metadata": {},
   "outputs": [],
   "source": [
    "modelo = df_metricas[\"model\"][6]\n",
    "\n",
    "importances = np.argsort(modelo.feature_importances_)[::-1]\n",
    "\n",
    "for i in importances:\n",
    "    \n",
    "    print(i, modelo.feature_importances_[i]*100, df.drop(\"price\", axis = 1).columns[i])"
   ]
  },
  {
   "cell_type": "code",
   "execution_count": null,
   "id": "6d14372e",
   "metadata": {},
   "outputs": [],
   "source": [
    "y_test_inv = y_scaler.inverse_transform([y_test]).flatten()\n",
    "yhat_inv = y_scaler.inverse_transform([yhat]).flatten()\n",
    "\n",
    "\n",
    "r2 = r2_score(y_test_inv, yhat_inv)\n",
    "mse = mean_squared_error(y_test_inv, yhat_inv)\n",
    "\n",
    "print(r2, mse)"
   ]
  },
  {
   "cell_type": "code",
   "execution_count": null,
   "id": "ccff5a1e",
   "metadata": {},
   "outputs": [],
   "source": []
  },
  {
   "cell_type": "code",
   "execution_count": null,
   "id": "13215da4",
   "metadata": {},
   "outputs": [],
   "source": [
    "model = RandomForestRegressor(max_depth=16, max_features='sqrt', n_estimators=650, random_state = 42)\n",
    "model.fit(X_train, y_train)"
   ]
  },
  {
   "cell_type": "code",
   "execution_count": null,
   "id": "4663fedb",
   "metadata": {},
   "outputs": [],
   "source": []
  },
  {
   "cell_type": "code",
   "execution_count": null,
   "id": "08a62e2c",
   "metadata": {},
   "outputs": [],
   "source": [
    "yhat = model.predict(X_test)\n",
    "\n",
    "for i, j in zip(yhat[:5], y_test[:5]):\n",
    "    print(f\"Predicción:{i} \\tValor real:{j}\")"
   ]
  },
  {
   "cell_type": "code",
   "execution_count": null,
   "id": "7ea94699",
   "metadata": {},
   "outputs": [],
   "source": [
    "r2 = r2_score(y_test, yhat)\n",
    "r2"
   ]
  },
  {
   "cell_type": "code",
   "execution_count": null,
   "id": "b1362749",
   "metadata": {},
   "outputs": [],
   "source": [
    "# %%time\n",
    "\n",
    "# from sklearn.model_selection import GridSearchCV\n",
    "\n",
    "# # Modelo\n",
    "# model = RandomForestRegressor()\n",
    "\n",
    "# # Parametros a iterar\n",
    "# params = {\"n_estimators\" : [i for i in range(100, 1001, 50)],\n",
    "#           \"max_depth\"    : [8, 10, 12, 14, 16],\n",
    "#           \"max_features\" : [\"log2\", \"sqrt\"]}\n",
    "\n",
    "# # Metricas\n",
    "# scorers = {\"r2\", \"neg_mean_squared_error\"}\n",
    "\n",
    "# #GridSearchCV\n",
    "# grid_solver = GridSearchCV(estimator  = model, \n",
    "#                            param_grid = params, \n",
    "#                            scoring    = scorers,\n",
    "#                            cv         = 10,\n",
    "#                            refit      = \"r2\",\n",
    "#                            n_jobs     = -1, \n",
    "#                            verbose    = 2)\n",
    "\n",
    "# # Resultados\n",
    "# model_result = grid_solver.fit(X_train, y_train)"
   ]
  },
  {
   "cell_type": "code",
   "execution_count": null,
   "id": "30e7d9a7",
   "metadata": {},
   "outputs": [],
   "source": [
    "model_result.best_estimator_"
   ]
  },
  {
   "cell_type": "code",
   "execution_count": null,
   "id": "564f24d9",
   "metadata": {},
   "outputs": [],
   "source": [
    "model_result.cv_results_[\"mean_test_r2\"].max()"
   ]
  },
  {
   "cell_type": "code",
   "execution_count": null,
   "id": "da9d6150",
   "metadata": {},
   "outputs": [],
   "source": [
    "model_result.cv_results_"
   ]
  },
  {
   "cell_type": "code",
   "execution_count": null,
   "id": "96c28f9a",
   "metadata": {},
   "outputs": [],
   "source": [
    "model_result.best_score_"
   ]
  },
  {
   "cell_type": "code",
   "execution_count": null,
   "id": "9a2be919",
   "metadata": {},
   "outputs": [],
   "source": [
    "# %%time\n",
    "\n",
    "# from sklearn.model_selection import GridSearchCV\n",
    "\n",
    "# # Modelo\n",
    "# model = GradientBoostingRegressor()\n",
    "\n",
    "# # Parametros a iterar\n",
    "# params = {\"n_estimators\"  : [i for i in range(100, 1001, 50)],\n",
    "#           \"max_depth\"     : [8, 10, 12, 14, 16],\n",
    "#           \"max_features\"  : [\"log2\", \"sqrt\"],\n",
    "#           \"learning_rate\" : [1 / (10**i) for i in range(1, 5)]}\n",
    "\n",
    "# # Metricas\n",
    "# scorers = {\"r2\", \"neg_mean_squared_error\"}\n",
    "\n",
    "# #GridSearchCV\n",
    "# grid_solver = GridSearchCV(estimator  = model, \n",
    "#                            param_grid = params, \n",
    "#                            scoring    = scorers,\n",
    "#                            cv         = 10,\n",
    "#                            refit      = \"r2\",\n",
    "#                            n_jobs     = -1, \n",
    "#                            verbose    = 2)\n",
    "\n",
    "# # Resultados\n",
    "# model_result = grid_solver.fit(X_train, y_train)"
   ]
  },
  {
   "cell_type": "code",
   "execution_count": null,
   "id": "3290b236",
   "metadata": {},
   "outputs": [],
   "source": [
    "# model_result.best_estimator_, model_result.best_score_"
   ]
  },
  {
   "cell_type": "code",
   "execution_count": null,
   "id": "bed6191a",
   "metadata": {},
   "outputs": [],
   "source": [
    "X_def = df.drop([\"price\"], axis = 1)\n",
    "y_def = df[\"price\"]"
   ]
  },
  {
   "cell_type": "code",
   "execution_count": null,
   "id": "379f50e1",
   "metadata": {},
   "outputs": [],
   "source": [
    "model = RandomForestRegressor(max_depth=16, max_features='sqrt', n_estimators=650, random_state = 42)\n",
    "model.fit(X_def, y_def)"
   ]
  },
  {
   "cell_type": "code",
   "execution_count": null,
   "id": "3b35d046",
   "metadata": {},
   "outputs": [],
   "source": []
  },
  {
   "cell_type": "code",
   "execution_count": null,
   "id": "0e03a11d",
   "metadata": {},
   "outputs": [],
   "source": []
  },
  {
   "cell_type": "code",
   "execution_count": null,
   "id": "e4428f66",
   "metadata": {},
   "outputs": [],
   "source": []
  },
  {
   "cell_type": "code",
   "execution_count": null,
   "id": "4a2f1442",
   "metadata": {},
   "outputs": [],
   "source": [
    "X_test.iloc[0, :].values"
   ]
  },
  {
   "cell_type": "code",
   "execution_count": null,
   "id": "7dac7b76",
   "metadata": {},
   "outputs": [],
   "source": []
  },
  {
   "cell_type": "code",
   "execution_count": null,
   "id": "124879d2",
   "metadata": {},
   "outputs": [],
   "source": []
  },
  {
   "cell_type": "code",
   "execution_count": null,
   "id": "4b3be556",
   "metadata": {},
   "outputs": [],
   "source": [
    "import pickle\n",
    "\n",
    "\n",
    "with open(\"model_rf.sav\", \"wb\") as file:\n",
    "    pickle.dump(model, file)"
   ]
  },
  {
   "cell_type": "code",
   "execution_count": null,
   "id": "0f61e3eb",
   "metadata": {},
   "outputs": [],
   "source": [
    "with open(\"model_gbr.sav\", \"rb\") as file:\n",
    "    model = pickle.load(file)"
   ]
  },
  {
   "cell_type": "code",
   "execution_count": null,
   "id": "ef5ada96",
   "metadata": {},
   "outputs": [],
   "source": [
    "y_scaler.inverse_transform([model.predict([X_test.iloc[0, :].values])])"
   ]
  },
  {
   "cell_type": "code",
   "execution_count": null,
   "id": "c563b928",
   "metadata": {},
   "outputs": [],
   "source": []
  }
 ],
 "metadata": {
  "kernelspec": {
   "display_name": "Python 3 (ipykernel)",
   "language": "python",
   "name": "python3"
  },
  "language_info": {
   "codemirror_mode": {
    "name": "ipython",
    "version": 3
   },
   "file_extension": ".py",
   "mimetype": "text/x-python",
   "name": "python",
   "nbconvert_exporter": "python",
   "pygments_lexer": "ipython3",
   "version": "3.9.13"
  }
 },
 "nbformat": 4,
 "nbformat_minor": 5
}
