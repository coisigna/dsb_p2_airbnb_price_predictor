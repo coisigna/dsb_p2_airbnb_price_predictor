{
 "cells": [
  {
   "cell_type": "code",
   "execution_count": 1,
   "id": "fdff04f5",
   "metadata": {},
   "outputs": [],
   "source": [
    "import pandas as pd\n",
    "import numpy as np\n",
    "import re\n",
    "import seaborn as sns\n",
    "from sklearn.preprocessing import LabelEncoder\n",
    "import matplotlib.pyplot as plt\n",
    "from pprint import pprint\n",
    "import folium\n",
    "from sklearn.linear_model import LinearRegression\n",
    "from sklearn.model_selection import train_test_split\n",
    "from scipy import stats\n",
    "from sklearn.preprocessing import PowerTransformer\n",
    "from collections import Counter\n",
    "import json\n"
   ]
  },
  {
   "cell_type": "code",
   "execution_count": 2,
   "id": "b28f7fc5",
   "metadata": {},
   "outputs": [],
   "source": [
    "class airbnb_city:\n",
    "    \n",
    "    def __init__(self, csv):\n",
    "        \n",
    "        self.csv = csv\n",
    "                \n",
    "        self.df_city = pd.read_csv(self.csv)\n",
    "        \n",
    "        print(\"Instance created!\")\n",
    "        \n",
    "    def clean_columns(self):\n",
    "        \n",
    "        # Take only the relevant columns in the dataframe\n",
    "        \n",
    "        l_relevant_columns = [\"host_is_superhost\",\"neighbourhood_cleansed\",\"neighbourhood_group_cleansed\",\"property_type\",\"room_type\",\"accommodates\",\"bathrooms_text\",\"beds\",\"price\",\"minimum_nights\",\"maximum_nights\",\"availability_30\",\"availability_365\",\"number_of_reviews\",\"instant_bookable\", \"amenities\", \"host_verifications\"]\n",
    "\n",
    "        self.df_city = self.df_city[l_relevant_columns]\n",
    "        \n",
    "        self.df_city[\"bathrooms_text\"].replace(np.nan, \"?\", inplace = True)\n",
    "        \n",
    "        # Get numbers out of bathroom_text columns\n",
    "        \n",
    "        l_nums = [re.findall(r'\\d+',i) for i in self.df_city[\"bathrooms_text\"].values]\n",
    "\n",
    "        l_nums_completed = []\n",
    "\n",
    "        for i in l_nums:\n",
    "\n",
    "            if len(i) > 1:\n",
    "\n",
    "                l_nums_completed.append('.'.join(i))\n",
    "\n",
    "            elif len(i) == 0:\n",
    "\n",
    "                l_nums_completed.append('0')\n",
    "\n",
    "            else:\n",
    "\n",
    "                l_nums_completed.append(i[0])\n",
    "\n",
    "        # Separate categories from bathroom_text\n",
    "        \n",
    "        l_category = []\n",
    "\n",
    "        for i in self.df_city[\"bathrooms_text\"].values:\n",
    "\n",
    "            if \"shared\" in i:\n",
    "\n",
    "                l_category.append(\"Shared\")\n",
    "\n",
    "            elif \"private\" in i:\n",
    "\n",
    "                l_category.append(\"Private\")\n",
    "\n",
    "            else:\n",
    "\n",
    "                l_category.append(\"Unknown\")\n",
    "                \n",
    "        # Create two different columns replacing bathroom_text\n",
    "        \n",
    "        self.df_city.drop(\"bathrooms_text\", axis = 1, inplace = True)\n",
    "                \n",
    "        self.df_city[\"num_of_baths\"] = l_nums_completed\n",
    "        \n",
    "        self.df_city[\"bath_category\"] = l_category\n",
    "        \n",
    "        self.df_city[\"num_of_baths\"] = self.df_city[\"num_of_baths\"].astype(\"float64\")\n",
    "\n",
    "        # Column[\"prices\"]\n",
    "        \n",
    "        self.df_city[\"price\"]  = self.df_city[\"price\"] .apply(lambda x: float(x.strip(\"$\").replace(',', '')) if pd.notnull(x) else x)\n",
    "        \n",
    "        self.df_city[\"amenities\"] = [len(i) for i in self.df_city[\"amenities\"]]\n",
    "\n",
    "        self.df_city[\"host_verifications\"] = [len(i) for i in self.df_city[\"host_verifications\"]]\n",
    "        \n",
    "        \n",
    "        print(\"Dataframe sucessfully created!\")\n",
    "    \n",
    "    def label_encoding(self):\n",
    "        \n",
    "        self.df_city.dropna(inplace=True)\n",
    "        \n",
    "        # Encoding columns with dummies function\n",
    "        \n",
    "        def dummies(data, column):\n",
    "            return pd.get_dummies(data = data[column], drop_first=True)\n",
    "        \n",
    "        self.df_city[\"host_is_superhost\"] = dummies(self.df_city, \"host_is_superhost\")\n",
    "        self.df_city[\"instant_bookable\"] = dummies(self.df_city, \"instant_bookable\")\n",
    "        \n",
    "        df_room_type = dummies(self.df_city, \"room_type\")\n",
    "        df_bath_category = dummies(self.df_city, \"bath_category\")\n",
    "        df_bath_category = df_bath_category.rename(columns={'Shared': 'shared_bath', 'Unknown': 'unknoun_bath'})\n",
    "        \n",
    "        self.df_city = pd.concat([self.df_city, df_bath_category], axis = 1)\n",
    "\n",
    "        self.df_city = pd.concat([self.df_city, df_room_type], axis = 1)\n",
    "\n",
    "        self.df_city.drop(\"room_type\", axis = 1, inplace = True)\n",
    "\n",
    "        self.df_city.drop(\"bath_category\", axis = 1, inplace = True)\n",
    "        \n",
    "        # Encoding categorical columns with labelEncoding function\n",
    "        \n",
    "        l_columns_to_labelEncode = [\"neighbourhood_cleansed\", \"property_type\", \"neighbourhood_group_cleansed\"]\n",
    "        l_columns_encoded = list()\n",
    "\n",
    "        for i in l_columns_to_labelEncode:\n",
    "\n",
    "            # Inicializing object LabelEncoder()\n",
    "            o_labelEncoding = LabelEncoder()\n",
    "\n",
    "            # Training it with the column data\n",
    "            o_labelEncoding.fit(self.df_city[i].values)\n",
    "\n",
    "            # Transform the column\n",
    "            l_columns_encoded.append(o_labelEncoding.transform(self.df_city[i].values))\n",
    "\n",
    "        self.df_city[\"neighbourhood_cleansed\"] = l_columns_encoded[0]\n",
    "        self.df_city[\"property_type\"] = l_columns_encoded[1]\n",
    "        self.df_city[\"neighbourhood_group_cleansed\"] = l_columns_encoded[2]\n",
    "        \n",
    "        print(\"Dataframe sucessfully encoded!\")\n",
    "\n",
    "        \n",
    "    def return_df(self):\n",
    "    \n",
    "        return self.df_city\n",
    "    \n",
    "    def display_df(self):\n",
    "    \n",
    "        display(self.df_city)"
   ]
  },
  {
   "cell_type": "code",
   "execution_count": 3,
   "id": "e64948ac",
   "metadata": {},
   "outputs": [
    {
     "name": "stdout",
     "output_type": "stream",
     "text": [
      "Instance created!\n"
     ]
    }
   ],
   "source": [
    "madrid = airbnb_city(\"datasets/Madrid air bnb/listings_detailed.csv\")"
   ]
  },
  {
   "cell_type": "code",
   "execution_count": 4,
   "id": "12e91b06",
   "metadata": {},
   "outputs": [],
   "source": [
    "df = madrid.return_df()"
   ]
  },
  {
   "cell_type": "markdown",
   "id": "6277901d",
   "metadata": {},
   "source": [
    "# Markdown reserved"
   ]
  },
  {
   "cell_type": "code",
   "execution_count": 5,
   "id": "705e3c1b",
   "metadata": {},
   "outputs": [],
   "source": [
    "df_columns_chosen = df[[\"minimum_nights\", \"amenities\",\"property_type\", \"room_type\", \"neighbourhood_group_cleansed\",\"latitude\", \"longitude\", \"number_of_reviews\", \"price\",\"reviews_per_month\",\"beds\",\"calculated_host_listings_count\", \"accommodates\"]]"
   ]
  },
  {
   "cell_type": "code",
   "execution_count": 6,
   "id": "c9a17b13",
   "metadata": {},
   "outputs": [
    {
     "data": {
      "text/html": [
       "<div>\n",
       "<style scoped>\n",
       "    .dataframe tbody tr th:only-of-type {\n",
       "        vertical-align: middle;\n",
       "    }\n",
       "\n",
       "    .dataframe tbody tr th {\n",
       "        vertical-align: top;\n",
       "    }\n",
       "\n",
       "    .dataframe thead th {\n",
       "        text-align: right;\n",
       "    }\n",
       "</style>\n",
       "<table border=\"1\" class=\"dataframe\">\n",
       "  <thead>\n",
       "    <tr style=\"text-align: right;\">\n",
       "      <th></th>\n",
       "      <th>minimum_nights</th>\n",
       "      <th>amenities</th>\n",
       "      <th>property_type</th>\n",
       "      <th>room_type</th>\n",
       "      <th>neighbourhood_group_cleansed</th>\n",
       "      <th>latitude</th>\n",
       "      <th>longitude</th>\n",
       "      <th>number_of_reviews</th>\n",
       "      <th>price</th>\n",
       "      <th>reviews_per_month</th>\n",
       "      <th>beds</th>\n",
       "      <th>calculated_host_listings_count</th>\n",
       "      <th>accommodates</th>\n",
       "    </tr>\n",
       "  </thead>\n",
       "  <tbody>\n",
       "    <tr>\n",
       "      <th>0</th>\n",
       "      <td>1</td>\n",
       "      <td>[\"Kitchen\", \"Elevator\", \"Extra pillows and bla...</td>\n",
       "      <td>Private room in apartment</td>\n",
       "      <td>Private room</td>\n",
       "      <td>Chamartín</td>\n",
       "      <td>40.45724</td>\n",
       "      <td>-3.67688</td>\n",
       "      <td>78</td>\n",
       "      <td>$60.00</td>\n",
       "      <td>0.58</td>\n",
       "      <td>1.0</td>\n",
       "      <td>1</td>\n",
       "      <td>2</td>\n",
       "    </tr>\n",
       "    <tr>\n",
       "      <th>1</th>\n",
       "      <td>4</td>\n",
       "      <td>[\"Bed linens\", \"Refrigerator\", \"Dishes and sil...</td>\n",
       "      <td>Private room in apartment</td>\n",
       "      <td>Private room</td>\n",
       "      <td>Latina</td>\n",
       "      <td>40.40381</td>\n",
       "      <td>-3.74130</td>\n",
       "      <td>33</td>\n",
       "      <td>$31.00</td>\n",
       "      <td>0.42</td>\n",
       "      <td>1.0</td>\n",
       "      <td>2</td>\n",
       "      <td>1</td>\n",
       "    </tr>\n",
       "    <tr>\n",
       "      <th>2</th>\n",
       "      <td>15</td>\n",
       "      <td>[\"Pool\", \"Dishwasher\", \"Bed linens\", \"Refriger...</td>\n",
       "      <td>Entire apartment</td>\n",
       "      <td>Entire home/apt</td>\n",
       "      <td>Arganzuela</td>\n",
       "      <td>40.38840</td>\n",
       "      <td>-3.69511</td>\n",
       "      <td>0</td>\n",
       "      <td>$50.00</td>\n",
       "      <td>NaN</td>\n",
       "      <td>5.0</td>\n",
       "      <td>7</td>\n",
       "      <td>6</td>\n",
       "    </tr>\n",
       "    <tr>\n",
       "      <th>3</th>\n",
       "      <td>5</td>\n",
       "      <td>[\"Refrigerator\", \"Host greets you\", \"Dishes an...</td>\n",
       "      <td>Entire apartment</td>\n",
       "      <td>Entire home/apt</td>\n",
       "      <td>Centro</td>\n",
       "      <td>40.42183</td>\n",
       "      <td>-3.70529</td>\n",
       "      <td>10</td>\n",
       "      <td>$92.00</td>\n",
       "      <td>0.13</td>\n",
       "      <td>1.0</td>\n",
       "      <td>1</td>\n",
       "      <td>3</td>\n",
       "    </tr>\n",
       "    <tr>\n",
       "      <th>4</th>\n",
       "      <td>2</td>\n",
       "      <td>[\"Elevator\", \"Patio or balcony\", \"Bed linens\",...</td>\n",
       "      <td>Private room in house</td>\n",
       "      <td>Private room</td>\n",
       "      <td>Arganzuela</td>\n",
       "      <td>40.38975</td>\n",
       "      <td>-3.69018</td>\n",
       "      <td>149</td>\n",
       "      <td>$26.00</td>\n",
       "      <td>1.12</td>\n",
       "      <td>1.0</td>\n",
       "      <td>1</td>\n",
       "      <td>1</td>\n",
       "    </tr>\n",
       "    <tr>\n",
       "      <th>...</th>\n",
       "      <td>...</td>\n",
       "      <td>...</td>\n",
       "      <td>...</td>\n",
       "      <td>...</td>\n",
       "      <td>...</td>\n",
       "      <td>...</td>\n",
       "      <td>...</td>\n",
       "      <td>...</td>\n",
       "      <td>...</td>\n",
       "      <td>...</td>\n",
       "      <td>...</td>\n",
       "      <td>...</td>\n",
       "      <td>...</td>\n",
       "    </tr>\n",
       "    <tr>\n",
       "      <th>19613</th>\n",
       "      <td>30</td>\n",
       "      <td>[\"Kitchen\", \"Lock on bedroom door\", \"Oven\", \"D...</td>\n",
       "      <td>Private room in apartment</td>\n",
       "      <td>Private room</td>\n",
       "      <td>Centro</td>\n",
       "      <td>40.40756</td>\n",
       "      <td>-3.69937</td>\n",
       "      <td>0</td>\n",
       "      <td>$23.00</td>\n",
       "      <td>NaN</td>\n",
       "      <td>1.0</td>\n",
       "      <td>8</td>\n",
       "      <td>1</td>\n",
       "    </tr>\n",
       "    <tr>\n",
       "      <th>19614</th>\n",
       "      <td>30</td>\n",
       "      <td>[\"Kitchen\", \"Wifi\", \"Cooking basics\", \"Hot wat...</td>\n",
       "      <td>Private room in apartment</td>\n",
       "      <td>Private room</td>\n",
       "      <td>Chamberí</td>\n",
       "      <td>40.43706</td>\n",
       "      <td>-3.71364</td>\n",
       "      <td>0</td>\n",
       "      <td>$21.00</td>\n",
       "      <td>NaN</td>\n",
       "      <td>1.0</td>\n",
       "      <td>8</td>\n",
       "      <td>1</td>\n",
       "    </tr>\n",
       "    <tr>\n",
       "      <th>19615</th>\n",
       "      <td>7</td>\n",
       "      <td>[\"Kitchen\", \"Toaster\", \"Oven\", \"Lock on bedroo...</td>\n",
       "      <td>Private room in apartment</td>\n",
       "      <td>Private room</td>\n",
       "      <td>Chamberí</td>\n",
       "      <td>40.43857</td>\n",
       "      <td>-3.70715</td>\n",
       "      <td>0</td>\n",
       "      <td>$22.00</td>\n",
       "      <td>NaN</td>\n",
       "      <td>1.0</td>\n",
       "      <td>8</td>\n",
       "      <td>1</td>\n",
       "    </tr>\n",
       "    <tr>\n",
       "      <th>19616</th>\n",
       "      <td>30</td>\n",
       "      <td>[\"Kitchen\", \"Toaster\", \"Lock on bedroom door\",...</td>\n",
       "      <td>Private room in apartment</td>\n",
       "      <td>Private room</td>\n",
       "      <td>Salamanca</td>\n",
       "      <td>40.43027</td>\n",
       "      <td>-3.66759</td>\n",
       "      <td>0</td>\n",
       "      <td>$19.00</td>\n",
       "      <td>NaN</td>\n",
       "      <td>1.0</td>\n",
       "      <td>8</td>\n",
       "      <td>1</td>\n",
       "    </tr>\n",
       "    <tr>\n",
       "      <th>19617</th>\n",
       "      <td>30</td>\n",
       "      <td>[\"Kitchen\", \"Wifi\", \"Cooking basics\", \"Hot wat...</td>\n",
       "      <td>Private room in apartment</td>\n",
       "      <td>Private room</td>\n",
       "      <td>Chamberí</td>\n",
       "      <td>40.43484</td>\n",
       "      <td>-3.70667</td>\n",
       "      <td>0</td>\n",
       "      <td>$20.00</td>\n",
       "      <td>NaN</td>\n",
       "      <td>NaN</td>\n",
       "      <td>8</td>\n",
       "      <td>1</td>\n",
       "    </tr>\n",
       "  </tbody>\n",
       "</table>\n",
       "<p>19618 rows × 13 columns</p>\n",
       "</div>"
      ],
      "text/plain": [
       "       minimum_nights                                          amenities  \\\n",
       "0                   1  [\"Kitchen\", \"Elevator\", \"Extra pillows and bla...   \n",
       "1                   4  [\"Bed linens\", \"Refrigerator\", \"Dishes and sil...   \n",
       "2                  15  [\"Pool\", \"Dishwasher\", \"Bed linens\", \"Refriger...   \n",
       "3                   5  [\"Refrigerator\", \"Host greets you\", \"Dishes an...   \n",
       "4                   2  [\"Elevator\", \"Patio or balcony\", \"Bed linens\",...   \n",
       "...               ...                                                ...   \n",
       "19613              30  [\"Kitchen\", \"Lock on bedroom door\", \"Oven\", \"D...   \n",
       "19614              30  [\"Kitchen\", \"Wifi\", \"Cooking basics\", \"Hot wat...   \n",
       "19615               7  [\"Kitchen\", \"Toaster\", \"Oven\", \"Lock on bedroo...   \n",
       "19616              30  [\"Kitchen\", \"Toaster\", \"Lock on bedroom door\",...   \n",
       "19617              30  [\"Kitchen\", \"Wifi\", \"Cooking basics\", \"Hot wat...   \n",
       "\n",
       "                   property_type        room_type  \\\n",
       "0      Private room in apartment     Private room   \n",
       "1      Private room in apartment     Private room   \n",
       "2               Entire apartment  Entire home/apt   \n",
       "3               Entire apartment  Entire home/apt   \n",
       "4          Private room in house     Private room   \n",
       "...                          ...              ...   \n",
       "19613  Private room in apartment     Private room   \n",
       "19614  Private room in apartment     Private room   \n",
       "19615  Private room in apartment     Private room   \n",
       "19616  Private room in apartment     Private room   \n",
       "19617  Private room in apartment     Private room   \n",
       "\n",
       "      neighbourhood_group_cleansed  latitude  longitude  number_of_reviews  \\\n",
       "0                        Chamartín  40.45724   -3.67688                 78   \n",
       "1                           Latina  40.40381   -3.74130                 33   \n",
       "2                       Arganzuela  40.38840   -3.69511                  0   \n",
       "3                           Centro  40.42183   -3.70529                 10   \n",
       "4                       Arganzuela  40.38975   -3.69018                149   \n",
       "...                            ...       ...        ...                ...   \n",
       "19613                       Centro  40.40756   -3.69937                  0   \n",
       "19614                     Chamberí  40.43706   -3.71364                  0   \n",
       "19615                     Chamberí  40.43857   -3.70715                  0   \n",
       "19616                    Salamanca  40.43027   -3.66759                  0   \n",
       "19617                     Chamberí  40.43484   -3.70667                  0   \n",
       "\n",
       "        price  reviews_per_month  beds  calculated_host_listings_count  \\\n",
       "0      $60.00               0.58   1.0                               1   \n",
       "1      $31.00               0.42   1.0                               2   \n",
       "2      $50.00                NaN   5.0                               7   \n",
       "3      $92.00               0.13   1.0                               1   \n",
       "4      $26.00               1.12   1.0                               1   \n",
       "...       ...                ...   ...                             ...   \n",
       "19613  $23.00                NaN   1.0                               8   \n",
       "19614  $21.00                NaN   1.0                               8   \n",
       "19615  $22.00                NaN   1.0                               8   \n",
       "19616  $19.00                NaN   1.0                               8   \n",
       "19617  $20.00                NaN   NaN                               8   \n",
       "\n",
       "       accommodates  \n",
       "0                 2  \n",
       "1                 1  \n",
       "2                 6  \n",
       "3                 3  \n",
       "4                 1  \n",
       "...             ...  \n",
       "19613             1  \n",
       "19614             1  \n",
       "19615             1  \n",
       "19616             1  \n",
       "19617             1  \n",
       "\n",
       "[19618 rows x 13 columns]"
      ]
     },
     "execution_count": 6,
     "metadata": {},
     "output_type": "execute_result"
    }
   ],
   "source": [
    "df_columns_chosen"
   ]
  },
  {
   "cell_type": "code",
   "execution_count": 7,
   "id": "d8a75db8",
   "metadata": {},
   "outputs": [],
   "source": [
    "df_columns_chosen = df_columns_chosen.dropna()"
   ]
  },
  {
   "cell_type": "code",
   "execution_count": 8,
   "id": "353c5d72",
   "metadata": {},
   "outputs": [],
   "source": [
    "df_columns_chosen.reset_index(drop = True, inplace = True)"
   ]
  },
  {
   "cell_type": "code",
   "execution_count": 9,
   "id": "f7a94a30",
   "metadata": {},
   "outputs": [
    {
     "name": "stderr",
     "output_type": "stream",
     "text": [
      "/var/folders/10/5nbnv2696vlgb605wf3g6wwh0000gn/T/ipykernel_8618/1023210409.py:1: SettingWithCopyWarning: \n",
      "A value is trying to be set on a copy of a slice from a DataFrame.\n",
      "Try using .loc[row_indexer,col_indexer] = value instead\n",
      "\n",
      "See the caveats in the documentation: https://pandas.pydata.org/pandas-docs/stable/user_guide/indexing.html#returning-a-view-versus-a-copy\n",
      "  df_columns_chosen[\"price\"] = df_columns_chosen[\"price\"].apply(lambda x: float(x.strip(\"$\").replace(',', '')) if pd.notnull(x) else x).values\n"
     ]
    }
   ],
   "source": [
    "df_columns_chosen[\"price\"] = df_columns_chosen[\"price\"].apply(lambda x: float(x.strip(\"$\").replace(',', '')) if pd.notnull(x) else x).values"
   ]
  },
  {
   "cell_type": "code",
   "execution_count": 14,
   "id": "4f1fadb9",
   "metadata": {},
   "outputs": [
    {
     "data": {
      "text/plain": [
       "18"
      ]
     },
     "execution_count": 14,
     "metadata": {},
     "output_type": "execute_result"
    }
   ],
   "source": [
    "len(json.loads(df[\"amenities\"].values[0]))"
   ]
  },
  {
   "cell_type": "code",
   "execution_count": 11,
   "id": "ada3db79",
   "metadata": {},
   "outputs": [
    {
     "ename": "AttributeError",
     "evalue": "'str' object has no attribute 'read'",
     "output_type": "error",
     "traceback": [
      "\u001b[0;31m---------------------------------------------------------------------------\u001b[0m",
      "\u001b[0;31mAttributeError\u001b[0m                            Traceback (most recent call last)",
      "\u001b[0;32m/var/folders/10/5nbnv2696vlgb605wf3g6wwh0000gn/T/ipykernel_8618/808637505.py\u001b[0m in \u001b[0;36m<module>\u001b[0;34m\u001b[0m\n\u001b[1;32m      1\u001b[0m \u001b[0;32mfor\u001b[0m \u001b[0menum\u001b[0m\u001b[0;34m,\u001b[0m \u001b[0mi\u001b[0m \u001b[0;32min\u001b[0m \u001b[0menumerate\u001b[0m\u001b[0;34m(\u001b[0m\u001b[0mdf\u001b[0m\u001b[0;34m[\u001b[0m\u001b[0;34m\"amenities\"\u001b[0m\u001b[0;34m]\u001b[0m\u001b[0;34m.\u001b[0m\u001b[0mvalues\u001b[0m\u001b[0;34m)\u001b[0m\u001b[0;34m:\u001b[0m\u001b[0;34m\u001b[0m\u001b[0;34m\u001b[0m\u001b[0m\n\u001b[1;32m      2\u001b[0m \u001b[0;34m\u001b[0m\u001b[0m\n\u001b[0;32m----> 3\u001b[0;31m     \u001b[0mdf_columns_chosen\u001b[0m\u001b[0;34m[\u001b[0m\u001b[0;34m\"amenities\"\u001b[0m\u001b[0;34m]\u001b[0m\u001b[0;34m.\u001b[0m\u001b[0mvalues\u001b[0m\u001b[0;34m[\u001b[0m\u001b[0menum\u001b[0m\u001b[0;34m]\u001b[0m \u001b[0;34m=\u001b[0m \u001b[0mjson\u001b[0m\u001b[0;34m.\u001b[0m\u001b[0mload\u001b[0m\u001b[0;34m(\u001b[0m\u001b[0mi\u001b[0m\u001b[0;34m)\u001b[0m\u001b[0;34m\u001b[0m\u001b[0;34m\u001b[0m\u001b[0m\n\u001b[0m",
      "\u001b[0;32m~/opt/anaconda3/lib/python3.9/json/__init__.py\u001b[0m in \u001b[0;36mload\u001b[0;34m(fp, cls, object_hook, parse_float, parse_int, parse_constant, object_pairs_hook, **kw)\u001b[0m\n\u001b[1;32m    291\u001b[0m     \u001b[0mkwarg\u001b[0m\u001b[0;34m;\u001b[0m \u001b[0motherwise\u001b[0m\u001b[0;31m \u001b[0m\u001b[0;31m`\u001b[0m\u001b[0;31m`\u001b[0m\u001b[0mJSONDecoder\u001b[0m\u001b[0;31m`\u001b[0m\u001b[0;31m`\u001b[0m \u001b[0;32mis\u001b[0m \u001b[0mused\u001b[0m\u001b[0;34m.\u001b[0m\u001b[0;34m\u001b[0m\u001b[0;34m\u001b[0m\u001b[0m\n\u001b[1;32m    292\u001b[0m     \"\"\"\n\u001b[0;32m--> 293\u001b[0;31m     return loads(fp.read(),\n\u001b[0m\u001b[1;32m    294\u001b[0m         \u001b[0mcls\u001b[0m\u001b[0;34m=\u001b[0m\u001b[0mcls\u001b[0m\u001b[0;34m,\u001b[0m \u001b[0mobject_hook\u001b[0m\u001b[0;34m=\u001b[0m\u001b[0mobject_hook\u001b[0m\u001b[0;34m,\u001b[0m\u001b[0;34m\u001b[0m\u001b[0;34m\u001b[0m\u001b[0m\n\u001b[1;32m    295\u001b[0m         \u001b[0mparse_float\u001b[0m\u001b[0;34m=\u001b[0m\u001b[0mparse_float\u001b[0m\u001b[0;34m,\u001b[0m \u001b[0mparse_int\u001b[0m\u001b[0;34m=\u001b[0m\u001b[0mparse_int\u001b[0m\u001b[0;34m,\u001b[0m\u001b[0;34m\u001b[0m\u001b[0;34m\u001b[0m\u001b[0m\n",
      "\u001b[0;31mAttributeError\u001b[0m: 'str' object has no attribute 'read'"
     ]
    }
   ],
   "source": [
    "for enum, i in enumerate(df[\"amenities\"].values):\n",
    "    \n",
    "    df_columns_chosen[\"amenities\"].values[enum] = json.load(i)"
   ]
  },
  {
   "cell_type": "code",
   "execution_count": null,
   "id": "6eaf02ab",
   "metadata": {},
   "outputs": [],
   "source": [
    "a = df_columns_chosen[\"amenities\"].explode()\n",
    "a[:] = a.factorize()[0]\n",
    "df_columns_chosen['amenities'] = a.groupby(level=0).agg(list)"
   ]
  },
  {
   "cell_type": "code",
   "execution_count": null,
   "id": "1f8bb39b",
   "metadata": {},
   "outputs": [],
   "source": [
    "dict_property_types = dict(Counter(df_columns_chosen[\"property_type\"]))\n",
    "\n",
    "list_others = []\n",
    "for i in dict_property_types.keys():\n",
    "    \n",
    "    if dict_property_types[i] < 300:\n",
    "        \n",
    "        list_others.append(i)\n",
    "        \n",
    "for i in list_others:\n",
    "    \n",
    "    df_columns_chosen[\"property_type\"].replace(i,\"Other\", inplace = True)"
   ]
  },
  {
   "cell_type": "code",
   "execution_count": null,
   "id": "299fb994",
   "metadata": {},
   "outputs": [],
   "source": [
    "Counter(df_columns_chosen[\"property_type\"])"
   ]
  },
  {
   "cell_type": "code",
   "execution_count": null,
   "id": "ae794833",
   "metadata": {},
   "outputs": [],
   "source": [
    "df_columns_chosen"
   ]
  },
  {
   "cell_type": "code",
   "execution_count": null,
   "id": "641e3e82",
   "metadata": {},
   "outputs": [],
   "source": [
    "l_lbencode = [\"property_type\",\"neighbourhood_group_cleansed\"]\n",
    "for i in l_lbencode:\n",
    "\n",
    "    # Inicializing object LabelEncoder()\n",
    "    o_labelEncoding = LabelEncoder()\n",
    "\n",
    "    # Training it with the column data\n",
    "    o_labelEncoding.fit(df_columns_chosen[i].values)\n",
    "\n",
    "    # Transform the column\n",
    "    df_columns_chosen[i] = o_labelEncoding.transform(df_columns_chosen[i].values)"
   ]
  },
  {
   "cell_type": "code",
   "execution_count": null,
   "id": "b47deec3",
   "metadata": {},
   "outputs": [],
   "source": [
    "df_columns_chosen"
   ]
  },
  {
   "cell_type": "code",
   "execution_count": null,
   "id": "548d4621",
   "metadata": {},
   "outputs": [],
   "source": [
    "df_columns_chosen = df_columns_chosen[df_columns_chosen[\"price\"] < 100]"
   ]
  },
  {
   "cell_type": "code",
   "execution_count": null,
   "id": "c5d58b13",
   "metadata": {},
   "outputs": [],
   "source": [
    "df_columns_chosen.reset_index(drop=True,inplace=True)"
   ]
  },
  {
   "cell_type": "code",
   "execution_count": null,
   "id": "ef8b91b5",
   "metadata": {},
   "outputs": [],
   "source": [
    "df_columns_chosen"
   ]
  },
  {
   "cell_type": "code",
   "execution_count": null,
   "id": "4c28a589",
   "metadata": {},
   "outputs": [],
   "source": [
    "sns.countplot(df[\"accommodates\"])"
   ]
  },
  {
   "cell_type": "code",
   "execution_count": null,
   "id": "80dfbd35",
   "metadata": {},
   "outputs": [],
   "source": [
    "for i in df[\"accommodates\"].values:\n",
    "    \n",
    "    if i > 8:\n",
    "        \n",
    "        df[\"accommodates\"].replace(i,9, inplace = True)\n",
    "        \n",
    "    elif i == 0:\n",
    "        \n",
    "        df[\"accommodates\"].replace(i,1, inplace = True)\n",
    "\n",
    "        "
   ]
  },
  {
   "cell_type": "code",
   "execution_count": null,
   "id": "c13268d9",
   "metadata": {},
   "outputs": [],
   "source": [
    "sns.countplot(df[\"accommodates\"])"
   ]
  },
  {
   "cell_type": "code",
   "execution_count": null,
   "id": "04059f9e",
   "metadata": {},
   "outputs": [],
   "source": [
    "def dummies(data, column):\n",
    "    return pd.get_dummies(data = data[column], drop_first=True)\n",
    "\n",
    "df_room_type = dummies(df_columns_chosen, \"room_type\")\n",
    "df_columns_chosen = pd.concat([df_columns_chosen, df_room_type], axis = 1)\n",
    "df_columns_chosen.drop(\"room_type\", axis = 1, inplace = True)"
   ]
  },
  {
   "cell_type": "code",
   "execution_count": null,
   "id": "70e3993d",
   "metadata": {},
   "outputs": [],
   "source": [
    "df_columns_chosen"
   ]
  },
  {
   "cell_type": "markdown",
   "id": "cacb20c6",
   "metadata": {},
   "source": [
    "# Getting rid of outliers using quantiles"
   ]
  },
  {
   "cell_type": "code",
   "execution_count": null,
   "id": "bb5d1c30",
   "metadata": {},
   "outputs": [],
   "source": [
    "cols = df_columns_chosen.columns\n",
    "\n",
    "cols = cols.tolist()\n",
    "\n",
    "cols.remove(\"amenities\")\n",
    "\n",
    "cols\n",
    "for col in cols:\n",
    "    upper_bound = df_columns_chosen[col].quantile(0.95)\n",
    "    lower_bound = df_columns_chosen[col].quantile(0.05)\n",
    "    listings = df_columns_chosen[df_columns_chosen[col] < upper_bound]\n",
    "    listings = df_columns_chosen[df_columns_chosen[col] > lower_bound]"
   ]
  },
  {
   "cell_type": "code",
   "execution_count": null,
   "id": "c0ec42db",
   "metadata": {},
   "outputs": [],
   "source": [
    "# Plot before transformation\n",
    "stats.probplot(df_columns_chosen[\"price\"], plot=plt)\n",
    "\n",
    "# Power Transformer\n",
    "numeric_cols = list(df_columns_chosen._get_numeric_data().columns)\n",
    "pt = PowerTransformer(method=\"yeo-johnson\")\n",
    "df_columns_chosen[numeric_cols] = pt.fit_transform(df_columns_chosen[numeric_cols])"
   ]
  },
  {
   "cell_type": "code",
   "execution_count": null,
   "id": "d06c1f77",
   "metadata": {},
   "outputs": [],
   "source": [
    "# After transformation\n",
    "stats.probplot(df_columns_chosen[\"price\"], plot=plt)"
   ]
  },
  {
   "cell_type": "markdown",
   "id": "46e12411",
   "metadata": {},
   "source": [
    "## Dividing x & y"
   ]
  },
  {
   "cell_type": "code",
   "execution_count": null,
   "id": "26fe8330",
   "metadata": {},
   "outputs": [],
   "source": [
    "X = df_columns_chosen.drop(\"price\", axis = 1)\n",
    "y = df_columns_chosen[[\"price\"]]"
   ]
  },
  {
   "cell_type": "markdown",
   "id": "9c1318c8",
   "metadata": {},
   "source": [
    "## Scaling data"
   ]
  },
  {
   "cell_type": "code",
   "execution_count": null,
   "id": "47341ca7",
   "metadata": {},
   "outputs": [],
   "source": [
    "from sklearn.preprocessing import MinMaxScaler\n",
    "\n",
    "\n",
    "scaler_x = MinMaxScaler()\n",
    "scaler_x.fit(X)\n",
    "X = scaler_x.transform(X)\n",
    "\n",
    "\n",
    "scaler_y = MinMaxScaler()\n",
    "scaler_y.fit(y)\n",
    "y = scaler_y.transform(y)"
   ]
  },
  {
   "cell_type": "markdown",
   "id": "da97d102",
   "metadata": {},
   "source": [
    "## Feature importances"
   ]
  },
  {
   "cell_type": "code",
   "execution_count": null,
   "id": "59ef37f2",
   "metadata": {},
   "outputs": [],
   "source": [
    "df_class = df_columns_chosen[\"price\"].copy()\n",
    "\n",
    "df_columns_chosen.drop(\"price\", axis = 1, inplace = True)\n",
    "\n",
    "X = np.asarray(df_columns_chosen)\n",
    "y = np.asarray(df_class)"
   ]
  },
  {
   "cell_type": "code",
   "execution_count": null,
   "id": "f5d92dd2",
   "metadata": {},
   "outputs": [],
   "source": [
    "X.shape, y.shape"
   ]
  },
  {
   "cell_type": "code",
   "execution_count": null,
   "id": "5e2c86ce",
   "metadata": {},
   "outputs": [],
   "source": [
    "from sklearn.ensemble import ExtraTreesRegressor\n",
    "\n",
    "# Build a forest and compute the feature importances\n",
    "forest = ExtraTreesRegressor(n_estimators = 250,\n",
    "                              random_state = 0)\n",
    "\n",
    "forest.fit(X, y)\n",
    "\n",
    "importances = forest.feature_importances_\n",
    "\n",
    "std = np.std([tree.feature_importances_ for tree in forest.estimators_], axis = 0)\n",
    "\n",
    "indices = np.argsort(importances)[::-1]\n",
    "\n",
    "# Print the feature ranking\n",
    "print(\"Feature ranking:\")\n",
    "\n",
    "for f in range(X.shape[1]):\n",
    "    print(\"%d. feature %d (%f): %s\" % (f + 1, indices[f], importances[indices[f]], df_columns_chosen.columns[f]))\n",
    "\n",
    "# Plot the feature importances of the forest\n",
    "plt.figure()\n",
    "\n",
    "plt.title(\"Feature importances\")\n",
    "\n",
    "plt.bar(range(X.shape[1]), importances[indices], color = \"r\", yerr = std[indices], align = \"center\")\n",
    "\n",
    "plt.xticks(range(X.shape[1]), indices)\n",
    "plt.xlim([-1, X.shape[1]])\n",
    "plt.show()"
   ]
  },
  {
   "cell_type": "markdown",
   "id": "e0488d14",
   "metadata": {},
   "source": [
    "## 1. LinearRegression"
   ]
  },
  {
   "cell_type": "code",
   "execution_count": null,
   "id": "a603b502",
   "metadata": {},
   "outputs": [],
   "source": [
    "X_train, X_test, y_train, y_test = train_test_split(X, y, test_size = 0.10, random_state=42)\n",
    "\n",
    "print(f\"Train data: {X_train.shape, y_train.shape}\")\n",
    "print(f\"Test data: {X_test.shape, y_test.shape}\")"
   ]
  },
  {
   "cell_type": "code",
   "execution_count": null,
   "id": "3a57db8f",
   "metadata": {},
   "outputs": [],
   "source": [
    "# Regresión algorithm\n",
    "\n",
    "regresion_lineal = LinearRegression()\n",
    "regresion_lineal.fit(X_train, y_train)\n",
    "\n",
    "# Finding coef\n",
    "\n",
    "print (\"weights:\", regresion_lineal.coef_)\n",
    "print (\"w_0:\", regresion_lineal.intercept_)"
   ]
  },
  {
   "cell_type": "markdown",
   "id": "887314ad",
   "metadata": {},
   "source": [
    "## Predicción"
   ]
  },
  {
   "cell_type": "code",
   "execution_count": null,
   "id": "d9afac41",
   "metadata": {},
   "outputs": [],
   "source": [
    "yhat = regresion_lineal.predict(X_test)\n",
    "\n",
    "for i, j in zip(yhat[:5], y_test[:5]):\n",
    "    print(f\"Predicción:{i} \\tValor real:{j}\")"
   ]
  },
  {
   "cell_type": "markdown",
   "id": "d43834c7",
   "metadata": {},
   "source": [
    "## Metrics"
   ]
  },
  {
   "cell_type": "code",
   "execution_count": null,
   "id": "04f4a239",
   "metadata": {},
   "outputs": [],
   "source": [
    "# Sklearn tiene las formulas de algunas métricas en funciones.\n",
    "\n",
    "from sklearn.metrics import mean_absolute_error\n",
    "from sklearn.metrics import mean_squared_error\n",
    "from sklearn.metrics import r2_score"
   ]
  },
  {
   "cell_type": "code",
   "execution_count": null,
   "id": "85751beb",
   "metadata": {},
   "outputs": [],
   "source": [
    "# Relative Absolute Error\n",
    "RAE = np.sum(np.abs(np.subtract(y_test, yhat))) / np.sum(np.abs(np.subtract(y_test, np.mean(y_test))))\n",
    "\n",
    "# Relative Square Error\n",
    "RSE = np.sum(np.square(np.subtract(y_test, yhat))) / np.sum(np.square(np.subtract(y_test, np.mean(y_test))))\n",
    "\n",
    "# Adjusted R**2\n",
    "r2_ajustada = 1 - (1 - regresion_lineal.score(X_test, y_test))*(len(y_test) - 1)/(len(y_test) - X_test.shape[1] - 1)"
   ]
  },
  {
   "cell_type": "code",
   "execution_count": null,
   "id": "0439c97c",
   "metadata": {},
   "outputs": [],
   "source": [
    "print(f\"MAE:\\t {mean_absolute_error(yhat, y_test)}\")\n",
    "print(f\"MSE:\\t {mean_squared_error(yhat, y_test)}\")\n",
    "print(f\"R**2:\\t {r2_score(yhat, y_test)}\")\n",
    "print(f\"RAE:\\t {RAE}\")\n",
    "print(f\"RSE:\\t {RSE}\")\n",
    "print(f\"Adjusted R**2:\\t {r2_ajustada}\")"
   ]
  },
  {
   "cell_type": "code",
   "execution_count": null,
   "id": "04772c88",
   "metadata": {},
   "outputs": [],
   "source": [
    "# Veamos los valores de yhat, y_test y su diferencia\n",
    "\n",
    "df_pred = pd.DataFrame()\n",
    "\n",
    "df_pred[\"y_test\"] = scaler_y.inverse_transform([y_test]).flatten()\n",
    "df_pred[\"yhat\"] = scaler_y.inverse_transform([yhat]).flatten()\n",
    "\n",
    "df_pred[\"diferencia\"] = round(abs((df_pred[\"y_test\"] - df_pred[\"yhat\"]) / df_pred[\"y_test\"] * 100), 4)\n",
    "\n",
    "df_pred = df_pred.sort_values(\"diferencia\")\n",
    "\n",
    "df_pred.head(20)"
   ]
  },
  {
   "cell_type": "code",
   "execution_count": null,
   "id": "8426a81b",
   "metadata": {},
   "outputs": [],
   "source": [
    "df_pred.tail(20)"
   ]
  },
  {
   "cell_type": "code",
   "execution_count": null,
   "id": "18c5c88b",
   "metadata": {},
   "outputs": [],
   "source": [
    "# Distance btw real and predicted values\n",
    "\n",
    "plt.figure(figsize = (8, 5))\n",
    "\n",
    "sns.scatterplot(x = y_test.flatten(), y = yhat.flatten(), alpha = 0.5, color = \"blue\")\n",
    "\n",
    "plt.xlabel(\"Valores Reales (y_train)\", size = 18)\n",
    "plt.ylabel(\"Predicciones (yhat)\", size = 18)\n",
    "\n",
    "plt.show()"
   ]
  },
  {
   "cell_type": "markdown",
   "id": "427fd374",
   "metadata": {},
   "source": [
    "# 2. KNeighborsRegressor"
   ]
  },
  {
   "cell_type": "code",
   "execution_count": null,
   "id": "c18720ac",
   "metadata": {},
   "outputs": [],
   "source": [
    "from sklearn.neighbors import KNeighborsRegressor\n",
    "\n",
    "model = KNeighborsRegressor(n_neighbors = 7)\n",
    "\n",
    "model.fit(X_train, y_train)\n",
    "\n",
    "yhat = model.predict(X_test)\n",
    "\n",
    "yhat"
   ]
  },
  {
   "cell_type": "code",
   "execution_count": null,
   "id": "047a3098",
   "metadata": {},
   "outputs": [],
   "source": [
    "print(f\"MAE:\\t {mean_absolute_error(yhat, y_test)}\")\n",
    "print(f\"MSE:\\t {mean_squared_error(yhat, y_test)}\")\n",
    "print(f\"R**2:\\t {r2_score(yhat, y_test)}\")\n",
    "print(f\"RAE:\\t {RAE}\")\n",
    "print(f\"RSE:\\t {RSE}\")\n",
    "print(f\"Adjusted R**2:\\t {r2_ajustada}\")"
   ]
  },
  {
   "cell_type": "markdown",
   "id": "428d5c04",
   "metadata": {},
   "source": [
    "# 3. DecisionTreeRegressor"
   ]
  },
  {
   "cell_type": "code",
   "execution_count": null,
   "id": "ca03394d",
   "metadata": {},
   "outputs": [],
   "source": [
    "from sklearn.tree import DecisionTreeRegressor\n",
    "\n",
    "model = DecisionTreeRegressor()\n",
    "model.fit(X_train, y_train)\n",
    "\n",
    "yhat = model.predict(X_test)\n",
    "\n",
    "yhat"
   ]
  },
  {
   "cell_type": "code",
   "execution_count": null,
   "id": "b30a7847",
   "metadata": {},
   "outputs": [],
   "source": [
    "print(f\"MAE:\\t {mean_absolute_error(yhat, y_test)}\")\n",
    "print(f\"MSE:\\t {mean_squared_error(yhat, y_test)}\")\n",
    "print(f\"R**2:\\t {r2_score(yhat, y_test)}\")\n",
    "print(f\"RAE:\\t {RAE}\")\n",
    "print(f\"RSE:\\t {RSE}\")\n",
    "print(f\"Adjusted R**2:\\t {r2_ajustada}\")"
   ]
  },
  {
   "cell_type": "markdown",
   "id": "a4cf4000",
   "metadata": {},
   "source": [
    "# 4. RandomForestRegressor"
   ]
  },
  {
   "cell_type": "code",
   "execution_count": null,
   "id": "53db2378",
   "metadata": {},
   "outputs": [],
   "source": [
    "from sklearn.ensemble import RandomForestRegressor\n",
    "\n",
    "model = RandomForestRegressor(n_jobs= -1 )\n",
    "model.fit(X_train, y_train)\n",
    "\n",
    "yhat = model.predict(X_test)\n",
    "\n",
    "yhat"
   ]
  },
  {
   "cell_type": "code",
   "execution_count": null,
   "id": "80156a86",
   "metadata": {},
   "outputs": [],
   "source": [
    "print(f\"MAE:\\t {mean_absolute_error(yhat, y_test)}\")\n",
    "print(f\"MSE:\\t {mean_squared_error(yhat, y_test)}\")\n",
    "print(f\"R**2:\\t {r2_score(yhat, y_test)}\")\n",
    "print(f\"RAE:\\t {RAE}\")\n",
    "print(f\"RSE:\\t {RSE}\")\n",
    "print(f\"Adjusted R**2:\\t {r2_ajustada}\")\n",
    "\n"
   ]
  },
  {
   "cell_type": "markdown",
   "id": "80c62924",
   "metadata": {},
   "source": [
    "# 4. AdaBoostRegressor"
   ]
  },
  {
   "cell_type": "code",
   "execution_count": null,
   "id": "9f8211b7",
   "metadata": {},
   "outputs": [],
   "source": [
    "from sklearn.ensemble import AdaBoostRegressor\n",
    "\n",
    "model = AdaBoostRegressor(n_estimators = 50)\n",
    "model.fit(X_train, y_train)\n",
    "\n",
    "yhat = model.predict(X_test)\n",
    "\n",
    "yhat"
   ]
  },
  {
   "cell_type": "code",
   "execution_count": null,
   "id": "38216086",
   "metadata": {},
   "outputs": [],
   "source": [
    "print(f\"MAE:\\t {mean_absolute_error(yhat, y_test)}\")\n",
    "print(f\"MSE:\\t {mean_squared_error(yhat, y_test)}\")\n",
    "print(f\"R**2:\\t {r2_score(yhat, y_test)}\")\n",
    "print(f\"RAE:\\t {RAE}\")\n",
    "print(f\"RSE:\\t {RSE}\")\n",
    "print(f\"Adjusted R**2:\\t {r2_ajustada}\")"
   ]
  },
  {
   "cell_type": "code",
   "execution_count": null,
   "id": "a7737176",
   "metadata": {},
   "outputs": [],
   "source": []
  }
 ],
 "metadata": {
  "kernelspec": {
   "display_name": "Python 3 (ipykernel)",
   "language": "python",
   "name": "python3"
  },
  "language_info": {
   "codemirror_mode": {
    "name": "ipython",
    "version": 3
   },
   "file_extension": ".py",
   "mimetype": "text/x-python",
   "name": "python",
   "nbconvert_exporter": "python",
   "pygments_lexer": "ipython3",
   "version": "3.9.13"
  }
 },
 "nbformat": 4,
 "nbformat_minor": 5
}
