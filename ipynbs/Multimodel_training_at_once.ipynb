{
 "cells": [
  {
   "cell_type": "code",
   "execution_count": 3,
   "id": "633b15de",
   "metadata": {},
   "outputs": [],
   "source": [
    "from airbnb_class import *"
   ]
  },
  {
   "cell_type": "code",
   "execution_count": null,
   "id": "b5cbde06",
   "metadata": {},
   "outputs": [],
   "source": [
    "# Datasets used\n",
    "madrid = \"datasets/madrid.csv\"\n",
    "barcelona = \"datasets/barcelona.csv\"\n",
    "london = \"datasets/london.csv\"\n",
    "\n",
    "d_csvs, d_names = dict(), dict()\n",
    "\n",
    "d_csvs[\"csvs1\"] = [madrid, barcelona]\n",
    "d_csvs[\"csvs2\"] = [london]\n",
    "\n",
    "d_names[\"names1\"] = [\"madrid\",\"barcelona\"]\n",
    "d_names[\"names2\"] = [\"london\"]"
   ]
  },
  {
   "cell_type": "code",
   "execution_count": null,
   "id": "42370d7e",
   "metadata": {},
   "outputs": [],
   "source": [
    "%%time\n",
    "\n",
    "## Init instances\n",
    "\n",
    "d_dfs = dict()\n",
    "\n",
    "for i in range(1,3):\n",
    "    \n",
    "    d_dfs[f\"instance{i}\"] = airbnb(d_csvs[f\"csvs{i}\"],d_names[f\"names{i}\"], \"csv\")"
   ]
  },
  {
   "cell_type": "code",
   "execution_count": null,
   "id": "901505ca",
   "metadata": {
    "scrolled": true
   },
   "outputs": [],
   "source": [
    "%%time\n",
    "\n",
    "## Clean columns\n",
    "for instance in d_dfs.values():\n",
    "    \n",
    "    instance.clean_tested_columns()"
   ]
  },
  {
   "cell_type": "code",
   "execution_count": null,
   "id": "7052a595",
   "metadata": {},
   "outputs": [],
   "source": [
    "%%time\n",
    "\n",
    "## Return cleaned\n",
    "\n",
    "l_dfs = list()\n",
    "\n",
    "for instance in d_dfs.values():\n",
    "    \n",
    "    l_dfs.append(instance.return_cleaned())"
   ]
  },
  {
   "cell_type": "code",
   "execution_count": null,
   "id": "09199853",
   "metadata": {},
   "outputs": [],
   "source": [
    "%%time\n",
    "\n",
    "## Remove outliers\n",
    "\n",
    "for instance in d_dfs.values():\n",
    "    \n",
    "    instance.remove_outliers()\n",
    "    "
   ]
  },
  {
   "cell_type": "code",
   "execution_count": null,
   "id": "ca68b624",
   "metadata": {},
   "outputs": [],
   "source": [
    "%%time\n",
    "\n",
    "## Label encoding\n",
    "\n",
    "for instance in d_dfs.values():\n",
    "    instance.label_encoding()"
   ]
  },
  {
   "cell_type": "code",
   "execution_count": null,
   "id": "fb3a2872",
   "metadata": {},
   "outputs": [],
   "source": [
    "%%time\n",
    "\n",
    "## Normalize\n",
    "\n",
    "for instance in d_dfs.values():\n",
    "    instance.normalize()"
   ]
  },
  {
   "cell_type": "code",
   "execution_count": null,
   "id": "ce7c622d",
   "metadata": {},
   "outputs": [],
   "source": [
    "%%time\n",
    "\n",
    "## Train test split\n",
    "\n",
    "for instance in d_dfs.values():\n",
    "    instance.tts()"
   ]
  },
  {
   "cell_type": "code",
   "execution_count": null,
   "id": "1f68d8ac",
   "metadata": {},
   "outputs": [],
   "source": [
    "%%time\n",
    "\n",
    "## Train model\n",
    "\n",
    "for instance in d_dfs.values():\n",
    "    instance.train_model()"
   ]
  },
  {
   "cell_type": "code",
   "execution_count": null,
   "id": "caaf35c2",
   "metadata": {},
   "outputs": [],
   "source": [
    "%%time\n",
    "\n",
    "## Return metrics\n",
    "l_metrics = []\n",
    "\n",
    "for instance in d_dfs.values():\n",
    "    l_metrics.append(instance.return_metrics())"
   ]
  },
  {
   "cell_type": "code",
   "execution_count": null,
   "id": "1a961cf3",
   "metadata": {},
   "outputs": [],
   "source": [
    "## Metricas Madrid - Barcelona\n",
    "\n",
    "l_metrics[0]"
   ]
  },
  {
   "cell_type": "code",
   "execution_count": null,
   "id": "78ad6453",
   "metadata": {},
   "outputs": [],
   "source": [
    "## London\n",
    "\n",
    "l_metrics[1]"
   ]
  },
  {
   "cell_type": "code",
   "execution_count": null,
   "id": "f5f8f97b",
   "metadata": {},
   "outputs": [],
   "source": [
    "%%time\n",
    "\n",
    "## Model importances\n",
    "\n",
    "for enum, instance in enumerate(d_dfs.values()):\n",
    "    instance.model_feature_importances(model=l_metrics[enum][\"model\"][3])"
   ]
  },
  {
   "cell_type": "code",
   "execution_count": null,
   "id": "9700a4c3",
   "metadata": {},
   "outputs": [],
   "source": [
    "%%time\n",
    "\n",
    "## Grid Search CV\n",
    "\n",
    "for instance in d_dfs.values():\n",
    "    instance.grid_search_cv_tuning()"
   ]
  },
  {
   "cell_type": "code",
   "execution_count": null,
   "id": "c706570d",
   "metadata": {},
   "outputs": [],
   "source": [
    "%%time\n",
    "d_models_resulted = dict()\n",
    "\n",
    "for name,instance in d_dfs.items():\n",
    "    d_models_resulted[name] = instance.return_model_result_gcv()"
   ]
  },
  {
   "cell_type": "code",
   "execution_count": null,
   "id": "753ffec2",
   "metadata": {},
   "outputs": [],
   "source": []
  }
 ],
 "metadata": {
  "kernelspec": {
   "display_name": "Python 3 (ipykernel)",
   "language": "python",
   "name": "python3"
  },
  "language_info": {
   "codemirror_mode": {
    "name": "ipython",
    "version": 3
   },
   "file_extension": ".py",
   "mimetype": "text/x-python",
   "name": "python",
   "nbconvert_exporter": "python",
   "pygments_lexer": "ipython3",
   "version": "3.9.13"
  }
 },
 "nbformat": 4,
 "nbformat_minor": 5
}
