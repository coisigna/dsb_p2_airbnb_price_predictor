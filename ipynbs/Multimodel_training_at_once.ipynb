{
 "cells": [
  {
   "cell_type": "code",
   "execution_count": 1,
   "id": "633b15de",
   "metadata": {},
   "outputs": [],
   "source": [
    "from airbnb_class import *"
   ]
  },
  {
   "cell_type": "code",
   "execution_count": 2,
   "id": "b5cbde06",
   "metadata": {},
   "outputs": [],
   "source": [
    "# Datasets used\n",
    "madrid = \"datasets/madrid.csv\"\n",
    "barcelona = \"datasets/barcelona.csv\"\n",
    "london = \"datasets/london.csv\"\n",
    "\n",
    "d_csvs, d_names = dict(), dict()\n",
    "\n",
    "d_csvs[\"csvs1\"] = [madrid, barcelona]\n",
    "d_csvs[\"csvs2\"] = [london]\n",
    "\n",
    "d_names[\"names1\"] = [\"madrid\",\"barcelona\"]\n",
    "d_names[\"names2\"] = [\"london\"]"
   ]
  },
  {
   "cell_type": "code",
   "execution_count": 3,
   "id": "42370d7e",
   "metadata": {},
   "outputs": [
    {
     "name": "stdout",
     "output_type": "stream",
     "text": [
      "Instance created!\n",
      "Instance created!\n",
      "CPU times: user 2.58 s, sys: 181 ms, total: 2.76 s\n",
      "Wall time: 2.76 s\n"
     ]
    }
   ],
   "source": [
    "%%time\n",
    "\n",
    "## Init instances\n",
    "\n",
    "d_dfs = dict()\n",
    "\n",
    "for i in range(1,3):\n",
    "    \n",
    "    d_dfs[f\"instance{i}\"] = airbnb(d_csvs[f\"csvs{i}\"],d_names[f\"names{i}\"], \"csv\")"
   ]
  },
  {
   "cell_type": "code",
   "execution_count": 4,
   "id": "901505ca",
   "metadata": {
    "scrolled": true
   },
   "outputs": [
    {
     "name": "stderr",
     "output_type": "stream",
     "text": [
      "/Users/jacob/Documents/git-repositories/coisigna/dsb-p2-ml/ipynbs/airbnb_class.py:98: SettingWithCopyWarning: \n",
      "A value is trying to be set on a copy of a slice from a DataFrame.\n",
      "Try using .loc[row_indexer,col_indexer] = value instead\n",
      "\n",
      "See the caveats in the documentation: https://pandas.pydata.org/pandas-docs/stable/user_guide/indexing.html#returning-a-view-versus-a-copy\n",
      "  self.df_cleaned[\"price\"] = self.df_cleaned[\"price\"].apply(lambda x: float(x.strip(\"$\").replace(',', '')) if pd.notnull(x) else x).values\n",
      "/Users/jacob/Documents/git-repositories/coisigna/dsb-p2-ml/ipynbs/airbnb_class.py:98: SettingWithCopyWarning: \n",
      "A value is trying to be set on a copy of a slice from a DataFrame.\n",
      "Try using .loc[row_indexer,col_indexer] = value instead\n",
      "\n",
      "See the caveats in the documentation: https://pandas.pydata.org/pandas-docs/stable/user_guide/indexing.html#returning-a-view-versus-a-copy\n",
      "  self.df_cleaned[\"price\"] = self.df_cleaned[\"price\"].apply(lambda x: float(x.strip(\"$\").replace(',', '')) if pd.notnull(x) else x).values\n"
     ]
    },
    {
     "name": "stdout",
     "output_type": "stream",
     "text": [
      "CPU times: user 1.16 s, sys: 56.1 ms, total: 1.22 s\n",
      "Wall time: 1.21 s\n"
     ]
    }
   ],
   "source": [
    "%%time\n",
    "\n",
    "## Clean columns\n",
    "for instance in d_dfs.values():\n",
    "    \n",
    "    instance.clean_tested_columns()"
   ]
  },
  {
   "cell_type": "code",
   "execution_count": 5,
   "id": "7052a595",
   "metadata": {},
   "outputs": [
    {
     "name": "stdout",
     "output_type": "stream",
     "text": [
      "CPU times: user 5 µs, sys: 0 ns, total: 5 µs\n",
      "Wall time: 5.72 µs\n"
     ]
    }
   ],
   "source": [
    "%%time\n",
    "\n",
    "## Return cleaned\n",
    "\n",
    "l_dfs = list()\n",
    "\n",
    "for instance in d_dfs.values():\n",
    "    \n",
    "    l_dfs.append(instance.return_cleaned())"
   ]
  },
  {
   "cell_type": "code",
   "execution_count": 6,
   "id": "09199853",
   "metadata": {},
   "outputs": [
    {
     "name": "stdout",
     "output_type": "stream",
     "text": [
      "CPU times: user 37.3 ms, sys: 960 µs, total: 38.3 ms\n",
      "Wall time: 37.8 ms\n"
     ]
    }
   ],
   "source": [
    "%%time\n",
    "\n",
    "## Remove outliers\n",
    "\n",
    "for instance in d_dfs.values():\n",
    "    \n",
    "    instance.remove_outliers()\n",
    "    "
   ]
  },
  {
   "cell_type": "code",
   "execution_count": 7,
   "id": "ca68b624",
   "metadata": {},
   "outputs": [
    {
     "name": "stdout",
     "output_type": "stream",
     "text": [
      "CPU times: user 20.4 ms, sys: 829 µs, total: 21.2 ms\n",
      "Wall time: 20.7 ms\n"
     ]
    }
   ],
   "source": [
    "%%time\n",
    "\n",
    "## Label encoding\n",
    "\n",
    "for instance in d_dfs.values():\n",
    "    instance.label_encoding()"
   ]
  },
  {
   "cell_type": "code",
   "execution_count": 8,
   "id": "fb3a2872",
   "metadata": {},
   "outputs": [
    {
     "name": "stdout",
     "output_type": "stream",
     "text": [
      "CPU times: user 37.7 ms, sys: 3.71 ms, total: 41.4 ms\n",
      "Wall time: 40.4 ms\n"
     ]
    }
   ],
   "source": [
    "%%time\n",
    "\n",
    "## Normalize\n",
    "\n",
    "for instance in d_dfs.values():\n",
    "    instance.normalize()"
   ]
  },
  {
   "cell_type": "code",
   "execution_count": null,
   "id": "ce7c622d",
   "metadata": {},
   "outputs": [],
   "source": [
    "%%time\n",
    "\n",
    "## Train test split\n",
    "\n",
    "for instance in d_dfs.values():\n",
    "    instance.tts()"
   ]
  },
  {
   "cell_type": "code",
   "execution_count": null,
   "id": "93ba812d",
   "metadata": {},
   "outputs": [],
   "source": [
    "%%time\n",
    "\n",
    "## Train model\n",
    "\n",
    "for instance in d_dfs.values():\n",
    "    instance.train_model()"
   ]
  },
  {
   "cell_type": "code",
   "execution_count": null,
   "id": "bc19319d",
   "metadata": {},
   "outputs": [],
   "source": [
    "%%time\n",
    "\n",
    "## Return metrics\n",
    "l_metrics = []\n",
    "\n",
    "for instance in d_dfs.values():\n",
    "    l_metrics.append(instance.return_metrics())"
   ]
  },
  {
   "cell_type": "code",
   "execution_count": null,
   "id": "6cc6c790",
   "metadata": {},
   "outputs": [],
   "source": [
    "## Metricas Madrid - Barcelona\n",
    "\n",
    "l_metrics[0]"
   ]
  },
  {
   "cell_type": "code",
   "execution_count": null,
   "id": "ea1edffe",
   "metadata": {},
   "outputs": [],
   "source": [
    "## London\n",
    "\n",
    "l_metrics[1]"
   ]
  },
  {
   "cell_type": "code",
   "execution_count": null,
   "id": "1dbf27a7",
   "metadata": {},
   "outputs": [],
   "source": [
    "%%time\n",
    "\n",
    "## Model importances\n",
    "\n",
    "for enum, instance in enumerate(d_dfs.values()):\n",
    "    print(\"-\"*40)\n",
    "    instance.model_feature_importances(model=l_metrics[enum][\"model\"][3])"
   ]
  },
  {
   "cell_type": "code",
   "execution_count": null,
   "id": "9700a4c3",
   "metadata": {},
   "outputs": [],
   "source": [
    "%%time\n",
    "\n",
    "## Grid Search CV\n",
    "\n",
    "for instance in d_dfs.values():\n",
    "    instance.grid_search_cv_tuning()"
   ]
  },
  {
   "cell_type": "code",
   "execution_count": null,
   "id": "c706570d",
   "metadata": {},
   "outputs": [],
   "source": [
    "%%time\n",
    "d_models_resulted = dict()\n",
    "\n",
    "for name,instance in d_dfs.items():\n",
    "    d_models_resulted[name] = instance.return_model_result_gcv()"
   ]
  },
  {
   "cell_type": "code",
   "execution_count": null,
   "id": "70c9cb50",
   "metadata": {},
   "outputs": [],
   "source": [
    "for instance in d_dfs.values():\n",
    "    display(instance.return_validations_gcv())"
   ]
  },
  {
   "cell_type": "code",
   "execution_count": null,
   "id": "64a119f7",
   "metadata": {},
   "outputs": [],
   "source": [
    "r_mb     = d_dfs[\"instance1\"].final_trial_model(md=16, mf='sqrt', ne=400,rs=42)\n",
    "r_london = d_dfs[\"instance2\"].final_trial_model(md=16, mf='sqrt', ne=700,rs=42)\n",
    "\n",
    "print(r_mb,r_london)"
   ]
  },
  {
   "cell_type": "code",
   "execution_count": 11,
   "id": "37f37b21",
   "metadata": {},
   "outputs": [],
   "source": [
    "model_mb     = d_dfs[\"instance1\"].train_final_model(md=16, mf='sqrt', ne=400,rs=42)\n",
    "model_london = d_dfs[\"instance2\"].train_final_model(md=16, mf='sqrt', ne=700,rs=42)"
   ]
  },
  {
   "cell_type": "code",
   "execution_count": 12,
   "id": "e22aa310",
   "metadata": {},
   "outputs": [
    {
     "data": {
      "text/plain": [
       "RandomForestRegressor(max_depth=16, max_features='sqrt', n_estimators=400,\n",
       "                      random_state=42)"
      ]
     },
     "execution_count": 12,
     "metadata": {},
     "output_type": "execute_result"
    }
   ],
   "source": [
    "model_mb"
   ]
  },
  {
   "cell_type": "code",
   "execution_count": 13,
   "id": "17ed3628",
   "metadata": {},
   "outputs": [
    {
     "data": {
      "text/plain": [
       "RandomForestRegressor(max_depth=16, max_features='sqrt', n_estimators=700,\n",
       "                      random_state=42)"
      ]
     },
     "execution_count": 13,
     "metadata": {},
     "output_type": "execute_result"
    }
   ],
   "source": [
    "model_london"
   ]
  },
  {
   "cell_type": "code",
   "execution_count": 14,
   "id": "75ab2f19",
   "metadata": {},
   "outputs": [],
   "source": [
    "# Save models\n",
    "\n",
    "d_dfs[\"instance1\"].save_model_joblib(name=\"model_madrid_barcelona\", jlib_model= model_mb)\n",
    "d_dfs[\"instance2\"].save_model_joblib(name=\"model_london\", jlib_model=model_london)"
   ]
  },
  {
   "cell_type": "code",
   "execution_count": 44,
   "id": "67c452b2",
   "metadata": {},
   "outputs": [],
   "source": [
    "# Save scalers and encoders\n",
    "\n",
    "d_dfs[\"instance1\"].save_model_pickle(\"x_scaler_mb\",\"pkl\",d_dfs[\"instance1\"].x_scaler)\n",
    "d_dfs[\"instance1\"].save_model_pickle(\"y_scaler_mb\",\"pkl\",d_dfs[\"instance1\"].y_scaler)\n",
    "d_dfs[\"instance1\"].save_model_pickle(\"city_encoder_mb\",\"pkl\",d_dfs[\"instance1\"].city_encoder)\n",
    "d_dfs[\"instance1\"].save_model_pickle(\"neighbourhood_encoder_mb\",\"pkl\",d_dfs[\"instance1\"].neighbourhood_encoder)\n",
    "\n",
    "d_dfs[\"instance2\"].save_model_pickle(\"x_scaler_london\",\"pkl\",d_dfs[\"instance2\"].x_scaler)\n",
    "d_dfs[\"instance2\"].save_model_pickle(\"y_scaler_london\",\"pkl\",d_dfs[\"instance2\"].y_scaler)\n",
    "d_dfs[\"instance2\"].save_model_pickle(\"city_encoder_london\",\"pkl\",d_dfs[\"instance2\"].city_encoder)\n",
    "d_dfs[\"instance2\"].save_model_pickle(\"neighbourhood_encoder_london\",\"pkl\",d_dfs[\"instance2\"].neighbourhood_encoder)\n"
   ]
  },
  {
   "cell_type": "code",
   "execution_count": null,
   "id": "39229686",
   "metadata": {},
   "outputs": [],
   "source": []
  }
 ],
 "metadata": {
  "kernelspec": {
   "display_name": "Python 3 (ipykernel)",
   "language": "python",
   "name": "python3"
  },
  "language_info": {
   "codemirror_mode": {
    "name": "ipython",
    "version": 3
   },
   "file_extension": ".py",
   "mimetype": "text/x-python",
   "name": "python",
   "nbconvert_exporter": "python",
   "pygments_lexer": "ipython3",
   "version": "3.9.13"
  }
 },
 "nbformat": 4,
 "nbformat_minor": 5
}
